{
 "cells": [
  {
   "cell_type": "code",
   "execution_count": 6,
   "metadata": {},
   "outputs": [
    {
     "name": "stdout",
     "output_type": "stream",
     "text": [
      "The autoreload extension is already loaded. To reload it, use:\n",
      "  %reload_ext autoreload\n"
     ]
    }
   ],
   "source": [
    "%load_ext autoreload\n",
    "%autoreload 2"
   ]
  },
  {
   "cell_type": "markdown",
   "metadata": {},
   "source": [
    "# MTBO Baumgartner Study"
   ]
  },
  {
   "cell_type": "code",
   "execution_count": 3,
   "metadata": {},
   "outputs": [],
   "source": [
    "from summit.strategies import STBO,MTBO, Transform, LHS, Chimera\n",
    "from summit.benchmarks import BaumgartnerCrossCouplingEmulator\n",
    "from summit.utils.dataset import DataSet\n",
    "from summit.domain import *\n",
    "import summit\n",
    "import pathlib\n",
    "import pandas as pd\n",
    "import numpy as np\n",
    "import matplotlib.pyplot as plt\n",
    "from typing import List\n",
    "from IPython.display import clear_output"
   ]
  },
  {
   "cell_type": "markdown",
   "metadata": {},
   "source": [
    "## Get data"
   ]
  },
  {
   "cell_type": "code",
   "execution_count": 3,
   "metadata": {},
   "outputs": [],
   "source": [
    "# Path to data\n",
    "summit_path = pathlib.Path(summit.__file__).parents[0]\n",
    "data_path = summit_path / \"benchmarks\" / \"experiment_emulator\" / \"data\""
   ]
  },
  {
   "cell_type": "code",
   "execution_count": 4,
   "metadata": {},
   "outputs": [
    {
     "data": {
      "text/html": [
       "<div>\n",
       "<style scoped>\n",
       "    .dataframe tbody tr th:only-of-type {\n",
       "        vertical-align: middle;\n",
       "    }\n",
       "\n",
       "    .dataframe tbody tr th {\n",
       "        vertical-align: top;\n",
       "    }\n",
       "\n",
       "    .dataframe thead th {\n",
       "        text-align: right;\n",
       "    }\n",
       "</style>\n",
       "<table border=\"1\" class=\"dataframe\">\n",
       "  <thead>\n",
       "    <tr style=\"text-align: right;\">\n",
       "      <th></th>\n",
       "      <th>catalyst</th>\n",
       "      <th>base</th>\n",
       "      <th>base_equivalents</th>\n",
       "      <th>temperature</th>\n",
       "      <th>t_res</th>\n",
       "      <th>yld</th>\n",
       "      <th>task</th>\n",
       "    </tr>\n",
       "  </thead>\n",
       "  <tbody>\n",
       "    <tr>\n",
       "      <th>54</th>\n",
       "      <td>tBuBrettPhos</td>\n",
       "      <td>MTBD</td>\n",
       "      <td>2.07586</td>\n",
       "      <td>100</td>\n",
       "      <td>636.969</td>\n",
       "      <td>0.966453944</td>\n",
       "      <td>0</td>\n",
       "    </tr>\n",
       "    <tr>\n",
       "      <th>55</th>\n",
       "      <td>tBuBrettPhos</td>\n",
       "      <td>BTMG</td>\n",
       "      <td>1.4713</td>\n",
       "      <td>86.2</td>\n",
       "      <td>591.908</td>\n",
       "      <td>0.975057179</td>\n",
       "      <td>0</td>\n",
       "    </tr>\n",
       "    <tr>\n",
       "      <th>56</th>\n",
       "      <td>tBuBrettPhos</td>\n",
       "      <td>MTBD</td>\n",
       "      <td>1.43218</td>\n",
       "      <td>86.6</td>\n",
       "      <td>675.34</td>\n",
       "      <td>≥90%</td>\n",
       "      <td>0</td>\n",
       "    </tr>\n",
       "    <tr>\n",
       "      <th>57</th>\n",
       "      <td>tBuBrettPhos</td>\n",
       "      <td>DBU</td>\n",
       "      <td>1.45246</td>\n",
       "      <td>86.4</td>\n",
       "      <td>743.305</td>\n",
       "      <td>0.53850977</td>\n",
       "      <td>0</td>\n",
       "    </tr>\n",
       "    <tr>\n",
       "      <th>58</th>\n",
       "      <td>tBuBrettPhos</td>\n",
       "      <td>DBU</td>\n",
       "      <td>1.03527</td>\n",
       "      <td>91.3</td>\n",
       "      <td>739.324</td>\n",
       "      <td>0.497285043</td>\n",
       "      <td>0</td>\n",
       "    </tr>\n",
       "  </tbody>\n",
       "</table>\n",
       "</div>"
      ],
      "text/plain": [
       "NAME      catalyst  base base_equivalents temperature    t_res          yld  \\\n",
       "TYPE          DATA  DATA             DATA        DATA     DATA         DATA   \n",
       "54    tBuBrettPhos  MTBD          2.07586         100  636.969  0.966453944   \n",
       "55    tBuBrettPhos  BTMG           1.4713        86.2  591.908  0.975057179   \n",
       "56    tBuBrettPhos  MTBD          1.43218        86.6   675.34         ≥90%   \n",
       "57    tBuBrettPhos   DBU          1.45246        86.4  743.305   0.53850977   \n",
       "58    tBuBrettPhos   DBU          1.03527        91.3  739.324  0.497285043   \n",
       "\n",
       "NAME     task  \n",
       "TYPE METADATA  \n",
       "54          0  \n",
       "55          0  \n",
       "56          0  \n",
       "57          0  \n",
       "58          0  "
      ]
     },
     "execution_count": 4,
     "metadata": {},
     "output_type": "execute_result"
    }
   ],
   "source": [
    "# Import Pd-catalyzed cross-coupling Data\n",
    "benzamide_data = DataSet.read_csv(data_path / f\"baumgartenter_benzamide_cross_coupling.csv\")\n",
    "benzamide_data[('task', 'METADATA')] = 0\n",
    "benzamide_data.tail(5)"
   ]
  },
  {
   "cell_type": "code",
   "execution_count": 5,
   "metadata": {},
   "outputs": [],
   "source": [
    "# Drop base=MTBD because not in other dataset\n",
    "benzamide_data = benzamide_data[benzamide_data['base'] != \"MTBD\"]"
   ]
  },
  {
   "cell_type": "code",
   "execution_count": 6,
   "metadata": {},
   "outputs": [],
   "source": [
    "# Clean data\n",
    "benzamide_data = benzamide_data.replace(\"≥90%\", 0.9)"
   ]
  },
  {
   "cell_type": "markdown",
   "metadata": {},
   "source": [
    "## Optimization"
   ]
  },
  {
   "cell_type": "code",
   "execution_count": 3,
   "metadata": {},
   "outputs": [],
   "source": [
    "N_REPEATS = 10\n",
    "MAX_ITERATIONS = 20"
   ]
  },
  {
   "cell_type": "code",
   "execution_count": 4,
   "metadata": {},
   "outputs": [
    {
     "data": {
      "text/html": [
       "<table id='domain' width=100%><tr><td><b>Name</b></td><td><b>Type</b></td><td><b>Description</b></td><td><b>Values</b></td></tr><tr><td>catalyst</td><td>categorical, input</td><td>Catalyst type</td><td>3 levels</td></tr><tr><td>base</td><td>categorical, input</td><td>Base</td><td>4 levels</td></tr><tr><td>base_equivalents</td><td>continuous, input</td><td>Base equivalents</td><td>[1.0,2.5]</td></tr><tr><td>temperature</td><td>continuous, input</td><td>Temperature in degrees Celsius (ºC)</td><td>[30,100]</td></tr><tr><td>t_res</td><td>continuous, input</td><td>residence time in seconds (s)</td><td>[60,1800]</td></tr><tr><td>yld</td><td>continuous, maximize objective</td><td>Yield</td><td>[0.0,1.0]</td></tr></table>"
      ],
      "text/plain": [
       "<summit.domain.Domain at 0x15594a550>"
      ]
     },
     "execution_count": 4,
     "metadata": {},
     "output_type": "execute_result"
    }
   ],
   "source": [
    "exp = BaumgartnerCrossCouplingEmulator()\n",
    "exp.domain"
   ]
  },
  {
   "cell_type": "markdown",
   "metadata": {},
   "source": [
    "### Single Task Optimization"
   ]
  },
  {
   "cell_type": "code",
   "execution_count": 5,
   "metadata": {},
   "outputs": [],
   "source": [
    "def run_stbo(max_iterations=10, categorical_method=\"one-hot\"):\n",
    "    exp = BaumgartnerCrossCouplingEmulator()\n",
    "    exp.reset()\n",
    "    strategy = STBO(exp.domain, \n",
    "                    categorical_method=categorical_method)\n",
    "    r = summit.Runner(strategy=strategy, \n",
    "                      experiment=exp, \n",
    "                      max_iterations=max_iterations)\n",
    "    r.run()\n",
    "    return r"
   ]
  },
  {
   "cell_type": "code",
   "execution_count": 27,
   "metadata": {},
   "outputs": [
    {
     "name": "stdout",
     "output_type": "stream",
     "text": [
      "Repeat 9\n"
     ]
    },
    {
     "data": {
      "text/html": [
       "\n",
       "    <div>\n",
       "        <style>\n",
       "            /* Turns off some styling */\n",
       "            progress {\n",
       "                /* gets rid of default border in Firefox and Opera. */\n",
       "                border: none;\n",
       "                /* Needs to be in here for Safari polyfill so background images work as expected. */\n",
       "                background-size: auto;\n",
       "            }\n",
       "            .progress-bar-interrupted, .progress-bar-interrupted::-webkit-progress-bar {\n",
       "                background: #F44336;\n",
       "            }\n",
       "        </style>\n",
       "      <progress value='20' class='' max='20' style='width:300px; height:20px; vertical-align: middle;'></progress>\n",
       "      100.00% [20/20 00:17<00:00]\n",
       "    </div>\n",
       "    "
      ],
      "text/plain": [
       "<IPython.core.display.HTML object>"
      ]
     },
     "metadata": {},
     "output_type": "display_data"
    }
   ],
   "source": [
    "for i in range(N_REPEATS):\n",
    "    print(f\"Repeat {i}\")\n",
    "    result = run_stbo(MAX_ITERATIONS)\n",
    "    result.save(f\"data/stbo_repeat_{i}.json\")\n",
    "    clear_output(wait=True)"
   ]
  },
  {
   "cell_type": "markdown",
   "metadata": {},
   "source": [
    "### Multitask Optimization"
   ]
  },
  {
   "cell_type": "code",
   "execution_count": 25,
   "metadata": {},
   "outputs": [],
   "source": [
    "def run_mtbo(max_iterations=10):\n",
    "    exp.reset()\n",
    "    strategy = MTBO(exp.domain, \n",
    "                    pretraining_data=benzamide_data,\n",
    "                    categorical_method=\"one-hot\", \n",
    "                    task=1)\n",
    "    r = summit.Runner(strategy=strategy,\n",
    "                      experiment=exp, \n",
    "                      max_iterations=max_iterations)\n",
    "    r.run()\n",
    "    return r"
   ]
  },
  {
   "cell_type": "code",
   "execution_count": 28,
   "metadata": {},
   "outputs": [
    {
     "name": "stdout",
     "output_type": "stream",
     "text": [
      "Repeat 9\n"
     ]
    },
    {
     "data": {
      "text/html": [
       "\n",
       "    <div>\n",
       "        <style>\n",
       "            /* Turns off some styling */\n",
       "            progress {\n",
       "                /* gets rid of default border in Firefox and Opera. */\n",
       "                border: none;\n",
       "                /* Needs to be in here for Safari polyfill so background images work as expected. */\n",
       "                background-size: auto;\n",
       "            }\n",
       "            .progress-bar-interrupted, .progress-bar-interrupted::-webkit-progress-bar {\n",
       "                background: #F44336;\n",
       "            }\n",
       "        </style>\n",
       "      <progress value='20' class='' max='20' style='width:300px; height:20px; vertical-align: middle;'></progress>\n",
       "      100.00% [20/20 00:49<00:00]\n",
       "    </div>\n",
       "    "
      ],
      "text/plain": [
       "<IPython.core.display.HTML object>"
      ]
     },
     "metadata": {},
     "output_type": "display_data"
    }
   ],
   "source": [
    "for i in range(N_REPEATS):\n",
    "    print(f\"Repeat {i}\")\n",
    "    result = run_mtbo(MAX_ITERATIONS)\n",
    "    result.save(f\"data/mtbo_repeat_{i}.json\")\n",
    "    clear_output(wait=True)"
   ]
  },
  {
   "cell_type": "markdown",
   "metadata": {},
   "source": [
    "### Visualize Results"
   ]
  },
  {
   "cell_type": "code",
   "execution_count": 8,
   "metadata": {},
   "outputs": [
    {
     "data": {
      "image/png": "[encoded data removed]",
      "text/plain": [
       "<Figure size 432x288 with 1 Axes>"
      ]
     },
     "metadata": {
      "needs_background": "light"
     },
     "output_type": "display_data"
    }
   ],
   "source": [
    "stbo_results = [summit.Runner.load(f\"data/stbo_repeat_{i}.json\") for i in range(10)]\n",
    "mtbo_results = [summit.Runner.load(f\"data/mtbo_repeat_{i}.json\") for i in range(10)]\n",
    "def make_average_plot(results: List[summit.Runner], ax, label=None, color=None):\n",
    "    yields = [r.experiment.data['yld'] for r in results]\n",
    "    yields = np.array(yields)\n",
    "    mean_yield = np.mean(yields, axis=0)\n",
    "    std_yield = np.std(yields, axis=0)\n",
    "    x = np.arange(0, len(mean_yield), 1).astype(int)\n",
    "    ax.plot(x, mean_yield, label=label)\n",
    "    ax.fill_between(x, mean_yield-1.96*std_yield, mean_yield+1.96*std_yield, alpha=0.1)\n",
    "#     ax.errorbar(x,mean_yield, std_yield, \n",
    "#                 label=label, marker='o', capsize=5, c=color, alpha=0)\n",
    "    \n",
    "fig, ax = plt.subplots(1)\n",
    "make_average_plot(stbo_results, ax, label=\"STBO\", color='r')\n",
    "make_average_plot(mtbo_results, ax, label=\"MTBO\", color='b')\n",
    "ax.legend(loc = \"lower right\")\n",
    "ax.set_xlim(0,20)\n",
    "ax.set_xticks(np.arange(0, 20, 2).astype(int))\n",
    "ax.set_ylabel('Yield')\n",
    "ax.set_xlabel('Reactions')\n",
    "ax.tick_params(direction='in')\n",
    "fig.savefig(\"figures/stbo_mtbo_baumgartner_comparison.png\")"
   ]
  },
  {
   "cell_type": "code",
   "execution_count": null,
   "metadata": {},
   "outputs": [],
   "source": []
  }
 ],
 "metadata": {
  "kernelspec": {
   "display_name": "Python 3.7.3 64-bit ('summit-TfmmV07p-py3.7': venv)",
   "language": "python",
   "name": "python37364bitsummittfmmv07ppy37venv6fc212842bc44e839a51e6623a646abd"
  },
  "language_info": {
   "codemirror_mode": {
    "name": "ipython",
    "version": 3
   },
   "file_extension": ".py",
   "mimetype": "text/x-python",
   "name": "python",
   "nbconvert_exporter": "python",
   "pygments_lexer": "ipython3",
   "version": "3.7.3"
  }
 },
 "nbformat": 4,
 "nbformat_minor": 4
}
