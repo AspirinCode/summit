{
 "cells": [
  {
   "cell_type": "code",
   "execution_count": 1,
   "metadata": {},
   "outputs": [],
   "source": [
    "%load_ext autoreload\n",
    "%autoreload 2"
   ]
  },
  {
   "cell_type": "markdown",
   "metadata": {},
   "source": [
    "# MTBO Reizman Study"
   ]
  },
  {
   "cell_type": "code",
   "execution_count": 2,
   "metadata": {},
   "outputs": [],
   "source": [
    "from summit.strategies import MTBO, Transform\n",
    "from summit.benchmarks import ReizmanSuzukiEmulator\n",
    "from summit.utils.dataset import DataSet\n",
    "from summit.domain import *\n",
    "import summit\n",
    "import pathlib\n",
    "import pandas as pd"
   ]
  },
  {
   "cell_type": "markdown",
   "metadata": {},
   "source": [
    "## Create DataSet"
   ]
  },
  {
   "cell_type": "code",
   "execution_count": 3,
   "metadata": {},
   "outputs": [],
   "source": [
    "# Path to data\n",
    "summit_path = pathlib.Path(summit.__file__).parents[0]\n",
    "data_path = summit_path / \"benchmarks\" / \"experiment_emulator\" / \"data\""
   ]
  },
  {
   "cell_type": "code",
   "execution_count": 4,
   "metadata": {},
   "outputs": [
    {
     "data": {
      "text/html": [
       "<div>\n",
       "<style scoped>\n",
       "    .dataframe tbody tr th:only-of-type {\n",
       "        vertical-align: middle;\n",
       "    }\n",
       "\n",
       "    .dataframe tbody tr th {\n",
       "        vertical-align: top;\n",
       "    }\n",
       "\n",
       "    .dataframe thead th {\n",
       "        text-align: right;\n",
       "    }\n",
       "</style>\n",
       "<table border=\"1\" class=\"dataframe\">\n",
       "  <thead>\n",
       "    <tr style=\"text-align: right;\">\n",
       "      <th></th>\n",
       "      <th>catalyst</th>\n",
       "      <th>t_res</th>\n",
       "      <th>temperature</th>\n",
       "      <th>catalyst_loading</th>\n",
       "      <th>ton</th>\n",
       "      <th>yield</th>\n",
       "      <th>task</th>\n",
       "    </tr>\n",
       "  </thead>\n",
       "  <tbody>\n",
       "    <tr>\n",
       "      <th>0</th>\n",
       "      <td>P1-L3</td>\n",
       "      <td>600</td>\n",
       "      <td>30</td>\n",
       "      <td>0.498</td>\n",
       "      <td>1.1</td>\n",
       "      <td>0.6</td>\n",
       "      <td>0</td>\n",
       "    </tr>\n",
       "    <tr>\n",
       "      <th>1</th>\n",
       "      <td>P1-L6</td>\n",
       "      <td>600</td>\n",
       "      <td>30</td>\n",
       "      <td>2.515</td>\n",
       "      <td>0.2</td>\n",
       "      <td>0.6</td>\n",
       "      <td>0</td>\n",
       "    </tr>\n",
       "    <tr>\n",
       "      <th>2</th>\n",
       "      <td>P1-L4</td>\n",
       "      <td>60</td>\n",
       "      <td>30</td>\n",
       "      <td>2.508</td>\n",
       "      <td>0.2</td>\n",
       "      <td>0.6</td>\n",
       "      <td>0</td>\n",
       "    </tr>\n",
       "    <tr>\n",
       "      <th>3</th>\n",
       "      <td>P1-L1</td>\n",
       "      <td>60</td>\n",
       "      <td>30</td>\n",
       "      <td>0.513</td>\n",
       "      <td>1.1</td>\n",
       "      <td>0.6</td>\n",
       "      <td>0</td>\n",
       "    </tr>\n",
       "    <tr>\n",
       "      <th>4</th>\n",
       "      <td>P1-L2</td>\n",
       "      <td>600</td>\n",
       "      <td>30</td>\n",
       "      <td>2.513</td>\n",
       "      <td>0.2</td>\n",
       "      <td>0.6</td>\n",
       "      <td>0</td>\n",
       "    </tr>\n",
       "  </tbody>\n",
       "</table>\n",
       "</div>"
      ],
      "text/plain": [
       "NAME catalyst t_res temperature catalyst_loading  ton yield     task\n",
       "TYPE     DATA  DATA        DATA             DATA DATA  DATA METADATA\n",
       "0       P1-L3   600          30            0.498  1.1   0.6        0\n",
       "1       P1-L6   600          30            2.515  0.2   0.6        0\n",
       "2       P1-L4    60          30            2.508  0.2   0.6        0\n",
       "3       P1-L1    60          30            0.513  1.1   0.6        0\n",
       "4       P1-L2   600          30            2.513  0.2   0.6        0"
      ]
     },
     "execution_count": 4,
     "metadata": {},
     "output_type": "execute_result"
    }
   ],
   "source": [
    "# Import Reizman-Suzuki Data\n",
    "datasets = [DataSet.read_csv(data_path / f\"reizman_suzuki_case{i}_train_test.csv\") for i in range(1,5)]\n",
    "for i, dataset in enumerate(datasets):\n",
    "    dataset[('task', 'METADATA')] = i\n",
    "datasets[0].head(5)"
   ]
  },
  {
   "cell_type": "code",
   "execution_count": 6,
   "metadata": {},
   "outputs": [],
   "source": [
    "exp = ReizmanSuzukiEmulator()"
   ]
  },
  {
   "cell_type": "code",
   "execution_count": 11,
   "metadata": {},
   "outputs": [],
   "source": [
    "domain = Domain()\n",
    "domain += CategoricalVariable('base', 'Organic Base', levels=['DBU', 'BMTG', 'TEA'])\n",
    "domain += ContinuousVariable('yield', '', bounds=[0,100], is_objective=True)\n",
    "transform = Transform(domain)\n",
    "X = DataSet([['DBU', 20], ['BMTG', 30], ['BMTG', 40], ['TEA', 10]], columns=['base', 'yield'])\n",
    "inputs, outputs = transform.transform_inputs_outputs(X, categorical_method='one-hot')"
   ]
  },
  {
   "cell_type": "code",
   "execution_count": null,
   "metadata": {},
   "outputs": [],
   "source": []
  }
 ],
 "metadata": {
  "kernelspec": {
   "display_name": "Python 3.7.3 64-bit ('summit-TfmmV07p-py3.7': venv)",
   "language": "python",
   "name": "python37364bitsummittfmmv07ppy37venv6fc212842bc44e839a51e6623a646abd"
  },
  "language_info": {
   "codemirror_mode": {
    "name": "ipython",
    "version": 3
   },
   "file_extension": ".py",
   "mimetype": "text/x-python",
   "name": "python",
   "nbconvert_exporter": "python",
   "pygments_lexer": "ipython3",
   "version": "3.7.3"
  }
 },
 "nbformat": 4,
 "nbformat_minor": 4
}
