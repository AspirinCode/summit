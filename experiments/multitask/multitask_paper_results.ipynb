{
 "cells": [
  {
   "cell_type": "markdown",
   "metadata": {},
   "source": [
    "# Multi-Task BO NIPS Paper"
   ]
  },
  {
   "cell_type": "markdown",
   "metadata": {},
   "source": [
    "![](figures/baumgartner_mechanisms.png)"
   ]
  },
  {
   "cell_type": "code",
   "execution_count": 1,
   "metadata": {},
   "outputs": [],
   "source": [
    "from summit.strategies import STBO, MTBO, Transform, LHS, Chimera\n",
    "from summit.benchmarks import (\n",
    "    MIT_case1,\n",
    "    MIT_case2,MIT_case3,\n",
    "    MIT_case4,\n",
    "    MIT_case5,\n",
    "    BaumgartnerCrossCouplingEmulator\n",
    ")\n",
    "from summit.utils.dataset import DataSet\n",
    "from summit.domain import *\n",
    "import summit\n",
    "import pathlib\n",
    "import pandas as pd\n",
    "import numpy as np\n",
    "import matplotlib.pyplot as plt\n",
    "from typing import List\n",
    "from IPython.display import clear_output"
   ]
  },
  {
   "cell_type": "code",
   "execution_count": 29,
   "metadata": {},
   "outputs": [],
   "source": [
    "def run_stbo(exp, max_iterations=10, categorical_method=\"one-hot\"):\n",
    "    exp.reset()\n",
    "    strategy = STBO(exp.domain, \n",
    "                    categorical_method=categorical_method)\n",
    "    r = summit.Runner(strategy=strategy, \n",
    "                      experiment=exp, \n",
    "                      max_iterations=max_iterations)\n",
    "    r.run()\n",
    "    return r\n",
    "\n",
    "def run_mtbo(exp, pt_data, max_iterations=10):\n",
    "    strategy = MTBO(exp.domain, \n",
    "                    pretraining_data=pt_data,\n",
    "                    categorical_method=\"one-hot\", \n",
    "                    task=1)\n",
    "    r = summit.Runner(strategy=strategy,\n",
    "                      experiment=exp, \n",
    "                      max_iterations=max_iterations)\n",
    "    r.run()\n",
    "    return r\n",
    "\n",
    "def make_average_plot(results: List[summit.Runner], ax, label=None, color=None):\n",
    "    yields = [r.experiment.data['y'] for r in results]\n",
    "    yields = np.array(yields)\n",
    "    mean_yield = np.mean(yields, axis=0)\n",
    "    std_yield = np.std(yields, axis=0)\n",
    "    x = np.arange(0, len(mean_yield), 1).astype(int)\n",
    "    ax.plot(x, mean_yield, label=label)\n",
    "    ax.fill_between(x, mean_yield-std_yield, mean_yield+std_yield, alpha=0.1)\n",
    "\n",
    "def make_comparison_plot(*args):\n",
    "    fig, ax = plt.subplots(1)\n",
    "    for arg in args:\n",
    "        make_average_plot(arg['results'], ax, label=arg[\"label\"], color=arg.get(\"color\"))\n",
    "    ax.legend(loc = \"lower right\")\n",
    "    ax.set_xlim(0,20)\n",
    "    ax.set_xticks(np.arange(0, 20, 2).astype(int))\n",
    "    ax.set_ylabel('Yield')\n",
    "    ax.set_xlabel('Reactions')\n",
    "    ax.tick_params(direction='in')\n",
    "    return fig, ax"
   ]
  },
  {
   "cell_type": "code",
   "execution_count": 9,
   "metadata": {},
   "outputs": [],
   "source": [
    "N_REPEATS = 10\n",
    "MAX_ITERATIONS = 20"
   ]
  },
  {
   "cell_type": "markdown",
   "metadata": {},
   "source": [
    "## Comparing Similar Kinetic Models"
   ]
  },
  {
   "cell_type": "markdown",
   "metadata": {},
   "source": [
    "We will use MIT case 1 as the auxiliary task for pretraining."
   ]
  },
  {
   "cell_type": "code",
   "execution_count": 3,
   "metadata": {},
   "outputs": [
    {
     "data": {
      "text/html": [
       "<table id='domain' width=100%><tr><td><b>Name</b></td><td><b>Type</b></td><td><b>Description</b></td><td><b>Values</b></td></tr><tr><td>conc_cat</td><td>continuous, input</td><td>catalyst concentration</td><td>[0.000835,0.004175]</td></tr><tr><td>t</td><td>continuous, input</td><td>reaction time</td><td>[60,600]</td></tr><tr><td>cat_index</td><td>categorical, input</td><td>Choice of catalyst</td><td>8 levels</td></tr><tr><td>temperature</td><td>continuous, input</td><td>Reactor temperature in degress celsius</td><td>[30,110]</td></tr><tr><td>y</td><td>continuous, maximize objective</td><td>yield (%)</td><td>[0,100]</td></tr></table>"
      ],
      "text/plain": [
       "<summit.domain.Domain at 0x14ff405c0>"
      ]
     },
     "execution_count": 3,
     "metadata": {},
     "output_type": "execute_result"
    }
   ],
   "source": [
    "exp_pt = MIT_case1(noise_level=1)\n",
    "exp_pt.domain"
   ]
  },
  {
   "cell_type": "markdown",
   "metadata": {},
   "source": [
    "We first generate different amounts of data using latin hypercube sampling."
   ]
  },
  {
   "cell_type": "markdown",
   "metadata": {},
   "source": [
    "Now, we can run single-task and multi-task Bayesian optimization."
   ]
  },
  {
   "cell_type": "code",
   "execution_count": 19,
   "metadata": {},
   "outputs": [],
   "source": [
    "def generate_mit_case_1_data(n_points):\n",
    "    exp_pt = MIT_case1(noise_level=1)\n",
    "    rs = np.random.RandomState(100)\n",
    "    lhs = LHS(exp_pt.domain, random_state=rs)\n",
    "    conditions = lhs.suggest_experiments(n_points)\n",
    "    exp_pt.run_experiments(conditions)\n",
    "    pt_data = exp_pt.data\n",
    "    pt_data['task', 'METADATA'] = 0\n",
    "    return pt_data\n",
    "\n",
    "n_aux = [5, 10, 50]\n",
    "aux_datasets = [generate_mit_case_1_data(n) for n in n_pt]"
   ]
  },
  {
   "cell_type": "code",
   "execution_count": null,
   "metadata": {},
   "outputs": [],
   "source": [
    "#Single-Task Bayesian Optimization\n",
    "for i in range(N_REPEATS):\n",
    "    print(f\"Repeat {i}\")\n",
    "    exp = MIT_case2(noise_level=1)\n",
    "    result = run_stbo(exp, max_iterations=MAX_ITERATIONS)\n",
    "    result.save(f\"data/kinetics_similar/stbo_case1-2_noise_repeat_{i}.json\")\n",
    "    clear_output(wait=True)"
   ]
  },
  {
   "cell_type": "code",
   "execution_count": 23,
   "metadata": {},
   "outputs": [
    {
     "name": "stdout",
     "output_type": "stream",
     "text": [
      "Repeat 9\n"
     ]
    },
    {
     "data": {
      "text/html": [
       "\n",
       "    <div>\n",
       "        <style>\n",
       "            /* Turns off some styling */\n",
       "            progress {\n",
       "                /* gets rid of default border in Firefox and Opera. */\n",
       "                border: none;\n",
       "                /* Needs to be in here for Safari polyfill so background images work as expected. */\n",
       "                background-size: auto;\n",
       "            }\n",
       "            .progress-bar-interrupted, .progress-bar-interrupted::-webkit-progress-bar {\n",
       "                background: #F44336;\n",
       "            }\n",
       "        </style>\n",
       "      <progress value='20' class='' max='20' style='width:300px; height:20px; vertical-align: middle;'></progress>\n",
       "      100.00% [20/20 00:57<00:00]\n",
       "    </div>\n",
       "    "
      ],
      "text/plain": [
       "<IPython.core.display.HTML object>"
      ]
     },
     "metadata": {},
     "output_type": "display_data"
    }
   ],
   "source": [
    "#Multi-Task Bayesian Optimization\n",
    "for n, dataset in zip(n_aux, aux_datasets):\n",
    "    for i in range(N_REPEATS):\n",
    "        print(f\"Repeat {i}\")\n",
    "        exp = MIT_case2(noise_level=1)\n",
    "        result = run_mtbo(exp, dataset, max_iterations=MAX_ITERATIONS)\n",
    "        result.save(f\"data/kinetics_similar/mtbo_case1-2_noise_{n}-pre-train_repeat_{i}.json\")\n",
    "        clear_output(wait=True)"
   ]
  },
  {
   "cell_type": "markdown",
   "metadata": {},
   "source": [
    "Finally, we can make a plot for the paper."
   ]
  },
  {
   "cell_type": "code",
   "execution_count": 31,
   "metadata": {},
   "outputs": [
    {
     "data": {
      "image/png": "[encoded data removed]",
      "text/plain": [
       "<Figure size 432x288 with 1 Axes>"
      ]
     },
     "metadata": {
      "needs_background": "light"
     },
     "output_type": "display_data"
    }
   ],
   "source": [
    "stbo_results = [summit.Runner.load(f\"data/kinetics_similar/stbo_case1-2_noise_repeat_{i}.json\") for i in range(10)]\n",
    "mtbo_results_lists = [[summit.Runner.load(f\"data/kinetics_similar/mtbo_case1-2_noise_{n}-pre-train_repeat_{i}.json\") \n",
    "                      for i in range(10)]\n",
    "                      for n in n_aux]\n",
    "fig, ax = make_comparison_plot(\n",
    "    dict(results=stbo_results, label=\"STBO\"),\n",
    "#     dict(results=mtbo_results_lists[0],label=\"MTBO, n=5\"),\n",
    "    dict(results=mtbo_results_lists[1],label=\"MTBO, n=10\"),\n",
    "    dict(results=mtbo_results_lists[2],label=\"MTBO, n=50\")\n",
    ")\n",
    "fig.savefig(\"figures/stbo_mtbo_kinetics_case1-2_noise_comparison.png\")"
   ]
  },
  {
   "cell_type": "markdown",
   "metadata": {},
   "source": [
    "## Comparing Different Mechanisms"
   ]
  },
  {
   "cell_type": "markdown",
   "metadata": {},
   "source": [
    "This adds an extra wrinkle because there is a competing reaction which consumes B (see Case 3 from figure above)."
   ]
  },
  {
   "cell_type": "code",
   "execution_count": null,
   "metadata": {},
   "outputs": [],
   "source": [
    "#Single-Task Bayesian Optimization\n",
    "for i in range(N_REPEATS):\n",
    "    print(f\"Repeat {i}\")\n",
    "    exp = MIT_case3(noise_level=1)\n",
    "    result = run_stbo(exp, max_iterations=MAX_ITERATIONS)\n",
    "    result.save(f\"data/kinetics_different/stbo_case1-3_noise_repeat_{i}.json\")\n",
    "    clear_output(wait=True)"
   ]
  },
  {
   "cell_type": "code",
   "execution_count": null,
   "metadata": {},
   "outputs": [
    {
     "name": "stdout",
     "output_type": "stream",
     "text": [
      "Repeat 2\n"
     ]
    },
    {
     "data": {
      "text/html": [
       "\n",
       "    <div>\n",
       "        <style>\n",
       "            /* Turns off some styling */\n",
       "            progress {\n",
       "                /* gets rid of default border in Firefox and Opera. */\n",
       "                border: none;\n",
       "                /* Needs to be in here for Safari polyfill so background images work as expected. */\n",
       "                background-size: auto;\n",
       "            }\n",
       "            .progress-bar-interrupted, .progress-bar-interrupted::-webkit-progress-bar {\n",
       "                background: #F44336;\n",
       "            }\n",
       "        </style>\n",
       "      <progress value='11' class='' max='20' style='width:300px; height:20px; vertical-align: middle;'></progress>\n",
       "      55.00% [11/20 00:20<00:16]\n",
       "    </div>\n",
       "    "
      ],
      "text/plain": [
       "<IPython.core.display.HTML object>"
      ]
     },
     "metadata": {},
     "output_type": "display_data"
    }
   ],
   "source": [
    "#Multi-Task Bayesian Optimization\n",
    "j = 1\n",
    "pt_data = aux_datasets[j]\n",
    "n=n_aux[j]\n",
    "for i in range(N_REPEATS):\n",
    "    print(f\"Repeat {i}\")\n",
    "    exp = MIT_case3(noise_level=1)\n",
    "    result = run_mtbo(exp, pt_data, max_iterations=MAX_ITERATIONS)\n",
    "    result.save(f\"data/kinetics_different/mtbo_case1-3_noise_{n}-pre-train_repeat_{i}.json\")\n",
    "    clear_output(wait=True)"
   ]
  },
  {
   "cell_type": "code",
   "execution_count": 12,
   "metadata": {},
   "outputs": [
    {
     "data": {
      "image/png": "[encoded data removed]",
      "text/plain": [
       "<Figure size 432x288 with 1 Axes>"
      ]
     },
     "metadata": {
      "needs_background": "light"
     },
     "output_type": "display_data"
    }
   ],
   "source": [
    "stbo_results = [summit.Runner.load(f\"data/kinetics_different/stbo_kinetics_case1-3_noise_repeat_{i}.json\") \n",
    "                for i in range(10)]\n",
    "mtbo_results_lists = [summit.Runner.load(f\"data/mtbo_kinetics_case1-2_noise_repeat_10-pre-train_repeat_{i}.json\") \n",
    "                      for i in range(10)]\n",
    "fig, ax = make_comparison_plot(\n",
    "    dict(results=stbo_results, label=\"STBO\"),\n",
    "    dict(results=mtbo_results[0],label=\"MTBO, n=5\"),\n",
    "    dict(results=mtbo_results[1],label=\"MTBO, n=10\"),\n",
    "    dict(results=mtbo_results[2],label=\"MTBO, n=50\")\n",
    ")\n",
    "fig.savefig(\"figures/stbo_mtbo_kinetics_case1-3_noise_comparison.png\")"
   ]
  },
  {
   "cell_type": "markdown",
   "metadata": {},
   "source": [
    "## "
   ]
  }
 ],
 "metadata": {
  "kernelspec": {
   "display_name": "Python 3.7.3 64-bit ('summit-TfmmV07p-py3.7': venv)",
   "language": "python",
   "name": "python37364bitsummittfmmv07ppy37venv6fc212842bc44e839a51e6623a646abd"
  },
  "language_info": {
   "codemirror_mode": {
    "name": "ipython",
    "version": 3
   },
   "file_extension": ".py",
   "mimetype": "text/x-python",
   "name": "python",
   "nbconvert_exporter": "python",
   "pygments_lexer": "ipython3",
   "version": "3.7.3"
  }
 },
 "nbformat": 4,
 "nbformat_minor": 4
}
