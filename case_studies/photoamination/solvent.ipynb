{
 "cells": [
  {
   "cell_type": "markdown",
   "metadata": {},
   "source": [
    "The strategy for the initial design is to choose several solvents using a latin hypercub in PCA space and then do a latin hypercube for each solvent. "
   ]
  },
  {
   "cell_type": "code",
   "execution_count": 2,
   "metadata": {},
   "outputs": [],
   "source": [
    "#Import all the necessary packages\n",
    "from summit.data import solvent_ds, ucb_ds, DataSet\n",
    "from summit.domain import Domain, ContinuousVariable, DiscreteVariable, DescriptorsVariable\n",
    "from summit.initial_design.latin_designer import LatinDesigner, lhs\n",
    "from summit.initial_design.base import _closest_point_indices\n",
    "from sklearn.decomposition import PCA\n",
    "import numpy as np\n",
    "import plotly.graph_objects as go"
   ]
  },
  {
   "cell_type": "markdown",
   "metadata": {},
   "source": [
    "Create the principal components dataset."
   ]
  },
  {
   "cell_type": "code",
   "execution_count": 3,
   "metadata": {},
   "outputs": [],
   "source": [
    "NUM_COMPONENTS = 3"
   ]
  },
  {
   "cell_type": "code",
   "execution_count": 4,
   "metadata": {},
   "outputs": [],
   "source": [
    "def create_pca_ds(solvent_ds, num_components):\n",
    "    #Reduce solvent descriptors to 3 principal components\n",
    "    pca = PCA(n_components=num_components)\n",
    "    solvent_arr_std = solvent_ds.standardize()\n",
    "    solvent_arr_pca = pca.fit_transform(solvent_arr_std)\n",
    "\n",
    "    #Dataset manipulations\n",
    "    solvent_ds_pcs = DataSet({(f'PC_{i}', 'DATA'): solvent_arr_pca[:, i] for i in range(num_components)}, \n",
    "                             index=solvent_ds.index)\n",
    "    solvent_ds_pcs.columns.names = ['NAME', 'TYPE']\n",
    "    order = solvent_ds.columns.codes[0]\n",
    "    num_columns = len(solvent_ds.columns.levels[0])\n",
    "    solvent_ds_new = solvent_ds.copy()\n",
    "    solvent_ds_new.columns = solvent_ds.columns.set_codes(np.array([order.tolist(), [1]*num_columns]))\n",
    "    solvent_ds_pcs = solvent_ds_pcs.join(solvent_ds_new)\n",
    "    \n",
    "    return solvent_ds_pcs\n",
    "\n",
    "solvent_ds_pcs = create_pca_ds(solvent_ds, num_components=NUM_COMPONENTS)\n",
    "solvent_ds_pcs = solvent_ds_pcs.reindex(ucb_ds.index).dropna()"
   ]
  },
  {
   "cell_type": "markdown",
   "metadata": {},
   "source": [
    "Now, we need to specify the optimization space."
   ]
  },
  {
   "cell_type": "code",
   "execution_count": 5,
   "metadata": {},
   "outputs": [
    {
     "data": {
      "text/html": [
       "<table id='domain' width=100%><tr><td><b>Name</b></td><td><b>Type</b></td><td><b>Description</b></td><td><b>Values</b></td></tr><tr><td>co_cat</td><td>discrete, input</td><td>enumeration of the two potential cocatalysts</td><td>2 levels</td></tr><tr><td>catalyst_conc</td><td>continuous, input</td><td>Concentration of the catalyst in mM</td><td>[0.1,3]</td></tr><tr><td>cocatalyst_conc</td><td>continuous, input</td><td>co-catalyst loading</td><td>[15,1000]</td></tr><tr><td>substrate_a_conc</td><td>continuous, input</td><td>We should specifiy this, in millimolar</td><td>[10,1000]</td></tr><tr><td>substrate_b_a_ratio</td><td>continuous, input</td><td>Ratio of substrate b to a</td><td>[0.5,2]</td></tr><tr><td>temperature</td><td>continuous, input</td><td>reaction temperature</td><td>[20,50]</td></tr><tr><td>solvent</td><td>descriptors, input</td><td>Descriptors of the solvent</td><td>80 examples of 3 descriptors</td></tr></table>"
      ],
      "text/plain": [
       "<summit.domain.Domain at 0x101c7b978>"
      ]
     },
     "execution_count": 5,
     "metadata": {},
     "output_type": "execute_result"
    }
   ],
   "source": [
    "\n",
    "\n",
    "domain = Domain()\n",
    "\n",
    "domain += DiscreteVariable(name=\"co_cat\",\n",
    "                           description=\"enumeration of the two potential cocatalysts\",\n",
    "                           levels = ['co_cat_1', 'co_cat_2'])\n",
    "\n",
    "\n",
    "domain += ContinuousVariable(name=\"catalyst_conc\",\n",
    "                             description = \"Concentration of the catalyst in mM\",\n",
    "                             units=\"mM\",\n",
    "                             bounds=[0.1, 3])\n",
    "\n",
    "domain += ContinuousVariable(name=\"cocatalyst_conc\",\n",
    "                             description = \"co-catalyst loading\",\n",
    "                             bounds=[15, 1000])\n",
    "\n",
    "\n",
    "domain += ContinuousVariable(name=\"substrate_a_conc\",\n",
    "                             description = \"We should specifiy this, in millimolar\",\n",
    "                             units=\"mM\",\n",
    "                             bounds = [10, 1000])\n",
    "\n",
    "domain += ContinuousVariable(name=\"substrate_b_a_ratio\",\n",
    "                             description = \"Ratio of substrate b to a\",\n",
    "                             units=\"mM\",\n",
    "                             bounds = [0.5, 2])\n",
    "\n",
    "domain += ContinuousVariable(name='temperature',\n",
    "                             description = \"reaction temperature\",\n",
    "                             bounds=[20, 50])\n",
    "\n",
    "\n",
    "domain += DescriptorsVariable(name=\"solvent\",\n",
    "                             description=\"Descriptors of the solvent\",\n",
    "                             ds=solvent_ds_pcs)\n",
    "\n",
    "domain #The domain should display as an html table "
   ]
  },
  {
   "cell_type": "markdown",
   "metadata": {},
   "source": [
    "Set up the initial design. Start with solvent/."
   ]
  },
  {
   "cell_type": "code",
   "execution_count": 10,
   "metadata": {},
   "outputs": [],
   "source": [
    "random_seed = 500\n",
    "rs = np.random.RandomState(random_seed)\n",
    "continuous_design = lhs(NUM_COMPONENTS, 8, random_state=rs)\n",
    "solvent_arr_pcs = solvent_ds_pcs.zero_to_one()\n",
    "design_indices = _closest_point_indices(continuous_design, solvent_arr_pcs)\n",
    "design_arr_pcs = solvent_arr_pcs[design_indices[:, 0]] "
   ]
  },
  {
   "cell_type": "code",
   "execution_count": 11,
   "metadata": {},
   "outputs": [
    {
     "data": {
      "application/vnd.plotly.v1+json": {
       "config": {
        "plotlyServerURL": "https://plot.ly"
       },
       "data": [
        {
         "marker": {
          "opacity": 0.2
         },
         "mode": "markers",
         "name": "All Solvents",
         "type": "scatter3d",
         "x": [
          0.4456547718604671,
          0.5755981459430044,
          0.1744009938126753,
          0.4622642037739902,
          0.3184316856764003,
          0.7013291770040507,
          0.8409354489320633,
          0.9362904982369403,
          0.6470910729188089,
          0.4124433050287786,
          0.33985615596063656,
          0.44849600122207645,
          0.5461143966361253,
          0.5795223030171404,
          0.5413180812190431,
          0.5509737912704864,
          0.48742650435154444,
          0.7472564072451635,
          0.43062252270802437,
          0.43809903445397486,
          0.6661546335257176,
          1,
          0.8748300312388984,
          0.7468570511024889,
          0.9517859498961417,
          0.7496911938108829,
          0.8537871512210116,
          0.8294192433175481,
          0.8372631995106209,
          0.9936360671706709,
          0.7634513926039359,
          0.9316026846537553,
          0.625362264195014,
          0.8768679120271031,
          0.7646133060282855,
          0.5915474074326433,
          0.4809139587339663,
          0.436500760106274,
          0.7717637052080044,
          0.2838517701859103,
          0.37441983520492267,
          0.9749209539950703,
          0.692368583703839,
          0.3407802655145921,
          0.5510469507877999,
          0.5652643216429007,
          0.4728217738339004,
          0.6187777786122669,
          0.7015676238363303,
          0.7864477352681384,
          0.7691958163082228,
          0.8784600309553801,
          0.6052067582060235,
          0.9897356588170928,
          0.39356488927670935,
          0.4973239521121663,
          0.8901083445567424,
          0.5099011537788101,
          0.8510464099651797,
          0.5627189357833056,
          0.9839022849834195,
          0.6542332355810272,
          0.6298989424115309,
          0.8168200315020279,
          0.6307814944758853,
          0.8238113368978209,
          0.6233329170944975,
          0.7013034688110974,
          0.8344021741200324,
          0.7268634881903279,
          0.6086875148860866,
          0.642826105712065,
          0.5078706645467188,
          0.7259233099765069,
          0.4277802152959056,
          0.5343897435393253,
          0.682098493207536,
          0.7375202978952352,
          0.5907259029495795,
          0
         ],
         "y": [
          0.49230504166399475,
          0.5553797453002138,
          0.653409662278752,
          0.5293824663332968,
          0.749343094298945,
          0.5432304214942933,
          0.47524390153275664,
          0.5053793129006579,
          0.34936344668854835,
          0.6617160458541415,
          0.3211097856674054,
          0.33666117120085276,
          0.37738464943830236,
          0.4129943440828886,
          0.3476310960467088,
          0.3149345247889931,
          0.4501030776825521,
          0.6793619208073771,
          0.9807803350156583,
          0.3298387983889716,
          0.39761035025446034,
          0.10333276720825815,
          0.10414818474880712,
          0.2285195657367205,
          0.09995993060483273,
          0,
          0.066659012308157,
          0.27202951472979825,
          0.46772159328553464,
          0.3054242202217315,
          0.33084060245829644,
          0.546939020135592,
          0.48807865098163183,
          0.13784131407071082,
          0.42386849247393016,
          0.4369676323132124,
          0.8256671222014906,
          0.8036156533710772,
          0.6929951732489156,
          0.4753803849723727,
          0.9740952987518757,
          0.7309860448572043,
          0.21143295422309197,
          0.5907018540424679,
          1,
          0.6063205480306089,
          0.568279736888118,
          0.6475784751836495,
          0.3405828637457174,
          0.34704376238492884,
          0.3948624536738353,
          0.39408666767714495,
          0.3392833189721082,
          0.9209605300321835,
          0.30590033659370586,
          0.3374221380664637,
          0.376273525329276,
          0.3133791093633334,
          0.47497220995891615,
          0.2285308902008073,
          0.6872151901222946,
          0.20012629248208835,
          0.11726697090382823,
          0.18199841545293963,
          0.3391732252545184,
          0.4965855025608643,
          0.42834235616530714,
          0.17031088593948196,
          0.44405981100002323,
          0.2038822563114309,
          0.48523893125212436,
          0.37146789097982064,
          0.33871846121962934,
          0.372951551931014,
          0.33477045311394077,
          0.351731123810146,
          0.48794348906394625,
          0.41146424478415944,
          0.4588796933468324,
          0.654694821539067
         ],
         "z": [
          0.9473909159008997,
          0.29628658972414257,
          0.7833505963136065,
          0.6635306098503364,
          0.6238139360572654,
          0.6339691524800991,
          0.5195954509360405,
          0.5106224697791724,
          0.442163506506195,
          0.5790303572241492,
          0.5645648422596827,
          0.5602939309609984,
          0.5574979703829078,
          0.5770726450660624,
          0.5566002207883399,
          0.5554532467551285,
          0.4707567922018133,
          0.6674736696095119,
          0.5741382116073601,
          0.5599994272968312,
          0.5701660619532151,
          0.544311133480641,
          0.6292693915211776,
          0.6767074665698889,
          0.5680328659065773,
          0.5953160793887917,
          0.5813182993848529,
          0.6698894902093885,
          0.5571881717392893,
          0.5888236053800338,
          0.7506408649139569,
          0.46316862624702165,
          0.5270348584743292,
          0.5348977395446806,
          0.35829103400465,
          0.46660705612161407,
          0.14324489826531994,
          0.2917949746069682,
          0.2249354939098232,
          0.34230444892113643,
          0.24559085036669612,
          0.08839082759497371,
          1,
          0.5554259328226195,
          0.13167270487851074,
          0.2187108044744823,
          0.22103974006398974,
          0.23149362593241563,
          0.34027607766899787,
          0.3200359315615411,
          0.3075728190337747,
          0.29718126572284276,
          0.356852060438536,
          0,
          0.48772151199367075,
          0.43028870719006684,
          0.29324460918565753,
          0.39193065361133655,
          0.5815601879822566,
          0.49586462881410265,
          0.14414262332198907,
          0.47735845606848715,
          0.4540665156520529,
          0.42839290486271386,
          0.35764458959631223,
          0.19661028137345057,
          0.5297062821680779,
          0.4385642567814088,
          0.7018499327478618,
          0.5441548059894521,
          0.8094909984303017,
          0.9932225418833646,
          0.920702061889707,
          0.2777604405339029,
          0.28722213135446995,
          0.29966392312913587,
          0.33621978635185806,
          0.27410704453449997,
          0.33719716453082516,
          0.7336842914097417
         ]
        },
        {
         "marker": {
          "color": "lightblue",
          "opacity": 1
         },
         "mode": "markers",
         "name": "LHS Design Points",
         "type": "scatter3d",
         "x": [
          0.961336296506569,
          0.864687014620763,
          0.08670994087563974,
          0.539559004634165,
          0.19490111710437585,
          0.7394085080175958,
          0.4207046038417871,
          0.31213469092313895
         ],
         "y": [
          0.6824948226419691,
          0.5452166460970392,
          0.007714624070311926,
          0.2915186343255955,
          0.4813282229365985,
          0.9788547595592768,
          0.8074415278171219,
          0.13563882786474302
         ],
         "z": [
          0.4310621804516972,
          0.08332644965998234,
          0.9544886639017873,
          0.29279230655258104,
          0.8180739012432364,
          0.5563403035478274,
          0.6592099322574464,
          0.17405238208411794
         ]
        },
        {
         "marker": {
          "color": "darkblue"
         },
         "mode": "markers",
         "name": "Initial Design Solvents",
         "type": "scatter3d",
         "x": [
          0.9316026846537553,
          0.8238113368978209,
          0.5078706645467188,
          0.5343897435393253,
          0.1744009938126753,
          0.43062252270802437,
          0.3184316856764003,
          0.4277802152959056
         ],
         "y": [
          0.546939020135592,
          0.4965855025608643,
          0.33871846121962934,
          0.351731123810146,
          0.653409662278752,
          0.9807803350156583,
          0.749343094298945,
          0.33477045311394077
         ],
         "z": [
          0.46316862624702165,
          0.19661028137345057,
          0.920702061889707,
          0.29966392312913587,
          0.7833505963136065,
          0.5741382116073601,
          0.6238139360572654,
          0.28722213135446995
         ]
        },
        {
         "legendgroup": "connections",
         "line": {
          "color": "darkblue",
          "width": 2
         },
         "mode": "lines",
         "name": "Connections",
         "showlegend": true,
         "type": "scatter3d",
         "x": [
          0.9316026846537553,
          0.961336296506569
         ],
         "y": [
          0.546939020135592,
          0.6824948226419691
         ],
         "z": [
          0.46316862624702165,
          0.4310621804516972
         ]
        },
        {
         "legendgroup": "connections",
         "line": {
          "color": "darkblue",
          "width": 2
         },
         "mode": "lines",
         "name": "Connections",
         "showlegend": false,
         "type": "scatter3d",
         "x": [
          0.8238113368978209,
          0.864687014620763
         ],
         "y": [
          0.4965855025608643,
          0.5452166460970392
         ],
         "z": [
          0.19661028137345057,
          0.08332644965998234
         ]
        },
        {
         "legendgroup": "connections",
         "line": {
          "color": "darkblue",
          "width": 2
         },
         "mode": "lines",
         "name": "Connections",
         "showlegend": false,
         "type": "scatter3d",
         "x": [
          0.5078706645467188,
          0.08670994087563974
         ],
         "y": [
          0.33871846121962934,
          0.007714624070311926
         ],
         "z": [
          0.920702061889707,
          0.9544886639017873
         ]
        },
        {
         "legendgroup": "connections",
         "line": {
          "color": "darkblue",
          "width": 2
         },
         "mode": "lines",
         "name": "Connections",
         "showlegend": false,
         "type": "scatter3d",
         "x": [
          0.5343897435393253,
          0.539559004634165
         ],
         "y": [
          0.351731123810146,
          0.2915186343255955
         ],
         "z": [
          0.29966392312913587,
          0.29279230655258104
         ]
        },
        {
         "legendgroup": "connections",
         "line": {
          "color": "darkblue",
          "width": 2
         },
         "mode": "lines",
         "name": "Connections",
         "showlegend": false,
         "type": "scatter3d",
         "x": [
          0.1744009938126753,
          0.19490111710437585
         ],
         "y": [
          0.653409662278752,
          0.4813282229365985
         ],
         "z": [
          0.7833505963136065,
          0.8180739012432364
         ]
        },
        {
         "legendgroup": "connections",
         "line": {
          "color": "darkblue",
          "width": 2
         },
         "mode": "lines",
         "name": "Connections",
         "showlegend": false,
         "type": "scatter3d",
         "x": [
          0.43062252270802437,
          0.7394085080175958
         ],
         "y": [
          0.9807803350156583,
          0.9788547595592768
         ],
         "z": [
          0.5741382116073601,
          0.5563403035478274
         ]
        },
        {
         "legendgroup": "connections",
         "line": {
          "color": "darkblue",
          "width": 2
         },
         "mode": "lines",
         "name": "Connections",
         "showlegend": false,
         "type": "scatter3d",
         "x": [
          0.3184316856764003,
          0.4207046038417871
         ],
         "y": [
          0.749343094298945,
          0.8074415278171219
         ],
         "z": [
          0.6238139360572654,
          0.6592099322574464
         ]
        },
        {
         "legendgroup": "connections",
         "line": {
          "color": "darkblue",
          "width": 2
         },
         "mode": "lines",
         "name": "Connections",
         "showlegend": false,
         "type": "scatter3d",
         "x": [
          0.4277802152959056,
          0.31213469092313895
         ],
         "y": [
          0.33477045311394077,
          0.13563882786474302
         ],
         "z": [
          0.28722213135446995,
          0.17405238208411794
         ]
        }
       ],
       "layout": {
        "autosize": true,
        "margin": {
         "b": 0,
         "l": 0,
         "r": 0,
         "t": 0
        },
        "scene": {
         "aspectmode": "auto",
         "aspectratio": {
          "x": 1,
          "y": 1,
          "z": 1
         },
         "camera": {
          "center": {
           "x": 0,
           "y": 0,
           "z": 0
          },
          "eye": {
           "x": 1.643729542945451,
           "y": 1.3997888148028523,
           "z": 0.16200143086147203
          },
          "projection": {
           "type": "perspective"
          },
          "up": {
           "x": 0,
           "y": 0,
           "z": 1
          }
         }
        },
        "template": {
         "data": {
          "bar": [
           {
            "error_x": {
             "color": "#2a3f5f"
            },
            "error_y": {
             "color": "#2a3f5f"
            },
            "marker": {
             "line": {
              "color": "#E5ECF6",
              "width": 0.5
             }
            },
            "type": "bar"
           }
          ],
          "barpolar": [
           {
            "marker": {
             "line": {
              "color": "#E5ECF6",
              "width": 0.5
             }
            },
            "type": "barpolar"
           }
          ],
          "carpet": [
           {
            "aaxis": {
             "endlinecolor": "#2a3f5f",
             "gridcolor": "white",
             "linecolor": "white",
             "minorgridcolor": "white",
             "startlinecolor": "#2a3f5f"
            },
            "baxis": {
             "endlinecolor": "#2a3f5f",
             "gridcolor": "white",
             "linecolor": "white",
             "minorgridcolor": "white",
             "startlinecolor": "#2a3f5f"
            },
            "type": "carpet"
           }
          ],
          "choropleth": [
           {
            "colorbar": {
             "outlinewidth": 0,
             "ticks": ""
            },
            "type": "choropleth"
           }
          ],
          "contour": [
           {
            "colorbar": {
             "outlinewidth": 0,
             "ticks": ""
            },
            "colorscale": [
             [
              0,
              "#0d0887"
             ],
             [
              0.1111111111111111,
              "#46039f"
             ],
             [
              0.2222222222222222,
              "#7201a8"
             ],
             [
              0.3333333333333333,
              "#9c179e"
             ],
             [
              0.4444444444444444,
              "#bd3786"
             ],
             [
              0.5555555555555556,
              "#d8576b"
             ],
             [
              0.6666666666666666,
              "#ed7953"
             ],
             [
              0.7777777777777778,
              "#fb9f3a"
             ],
             [
              0.8888888888888888,
              "#fdca26"
             ],
             [
              1,
              "#f0f921"
             ]
            ],
            "type": "contour"
           }
          ],
          "contourcarpet": [
           {
            "colorbar": {
             "outlinewidth": 0,
             "ticks": ""
            },
            "type": "contourcarpet"
           }
          ],
          "heatmap": [
           {
            "colorbar": {
             "outlinewidth": 0,
             "ticks": ""
            },
            "colorscale": [
             [
              0,
              "#0d0887"
             ],
             [
              0.1111111111111111,
              "#46039f"
             ],
             [
              0.2222222222222222,
              "#7201a8"
             ],
             [
              0.3333333333333333,
              "#9c179e"
             ],
             [
              0.4444444444444444,
              "#bd3786"
             ],
             [
              0.5555555555555556,
              "#d8576b"
             ],
             [
              0.6666666666666666,
              "#ed7953"
             ],
             [
              0.7777777777777778,
              "#fb9f3a"
             ],
             [
              0.8888888888888888,
              "#fdca26"
             ],
             [
              1,
              "#f0f921"
             ]
            ],
            "type": "heatmap"
           }
          ],
          "heatmapgl": [
           {
            "colorbar": {
             "outlinewidth": 0,
             "ticks": ""
            },
            "colorscale": [
             [
              0,
              "#0d0887"
             ],
             [
              0.1111111111111111,
              "#46039f"
             ],
             [
              0.2222222222222222,
              "#7201a8"
             ],
             [
              0.3333333333333333,
              "#9c179e"
             ],
             [
              0.4444444444444444,
              "#bd3786"
             ],
             [
              0.5555555555555556,
              "#d8576b"
             ],
             [
              0.6666666666666666,
              "#ed7953"
             ],
             [
              0.7777777777777778,
              "#fb9f3a"
             ],
             [
              0.8888888888888888,
              "#fdca26"
             ],
             [
              1,
              "#f0f921"
             ]
            ],
            "type": "heatmapgl"
           }
          ],
          "histogram": [
           {
            "marker": {
             "colorbar": {
              "outlinewidth": 0,
              "ticks": ""
             }
            },
            "type": "histogram"
           }
          ],
          "histogram2d": [
           {
            "colorbar": {
             "outlinewidth": 0,
             "ticks": ""
            },
            "colorscale": [
             [
              0,
              "#0d0887"
             ],
             [
              0.1111111111111111,
              "#46039f"
             ],
             [
              0.2222222222222222,
              "#7201a8"
             ],
             [
              0.3333333333333333,
              "#9c179e"
             ],
             [
              0.4444444444444444,
              "#bd3786"
             ],
             [
              0.5555555555555556,
              "#d8576b"
             ],
             [
              0.6666666666666666,
              "#ed7953"
             ],
             [
              0.7777777777777778,
              "#fb9f3a"
             ],
             [
              0.8888888888888888,
              "#fdca26"
             ],
             [
              1,
              "#f0f921"
             ]
            ],
            "type": "histogram2d"
           }
          ],
          "histogram2dcontour": [
           {
            "colorbar": {
             "outlinewidth": 0,
             "ticks": ""
            },
            "colorscale": [
             [
              0,
              "#0d0887"
             ],
             [
              0.1111111111111111,
              "#46039f"
             ],
             [
              0.2222222222222222,
              "#7201a8"
             ],
             [
              0.3333333333333333,
              "#9c179e"
             ],
             [
              0.4444444444444444,
              "#bd3786"
             ],
             [
              0.5555555555555556,
              "#d8576b"
             ],
             [
              0.6666666666666666,
              "#ed7953"
             ],
             [
              0.7777777777777778,
              "#fb9f3a"
             ],
             [
              0.8888888888888888,
              "#fdca26"
             ],
             [
              1,
              "#f0f921"
             ]
            ],
            "type": "histogram2dcontour"
           }
          ],
          "mesh3d": [
           {
            "colorbar": {
             "outlinewidth": 0,
             "ticks": ""
            },
            "type": "mesh3d"
           }
          ],
          "parcoords": [
           {
            "line": {
             "colorbar": {
              "outlinewidth": 0,
              "ticks": ""
             }
            },
            "type": "parcoords"
           }
          ],
          "scatter": [
           {
            "marker": {
             "colorbar": {
              "outlinewidth": 0,
              "ticks": ""
             }
            },
            "type": "scatter"
           }
          ],
          "scatter3d": [
           {
            "line": {
             "colorbar": {
              "outlinewidth": 0,
              "ticks": ""
             }
            },
            "marker": {
             "colorbar": {
              "outlinewidth": 0,
              "ticks": ""
             }
            },
            "type": "scatter3d"
           }
          ],
          "scattercarpet": [
           {
            "marker": {
             "colorbar": {
              "outlinewidth": 0,
              "ticks": ""
             }
            },
            "type": "scattercarpet"
           }
          ],
          "scattergeo": [
           {
            "marker": {
             "colorbar": {
              "outlinewidth": 0,
              "ticks": ""
             }
            },
            "type": "scattergeo"
           }
          ],
          "scattergl": [
           {
            "marker": {
             "colorbar": {
              "outlinewidth": 0,
              "ticks": ""
             }
            },
            "type": "scattergl"
           }
          ],
          "scattermapbox": [
           {
            "marker": {
             "colorbar": {
              "outlinewidth": 0,
              "ticks": ""
             }
            },
            "type": "scattermapbox"
           }
          ],
          "scatterpolar": [
           {
            "marker": {
             "colorbar": {
              "outlinewidth": 0,
              "ticks": ""
             }
            },
            "type": "scatterpolar"
           }
          ],
          "scatterpolargl": [
           {
            "marker": {
             "colorbar": {
              "outlinewidth": 0,
              "ticks": ""
             }
            },
            "type": "scatterpolargl"
           }
          ],
          "scatterternary": [
           {
            "marker": {
             "colorbar": {
              "outlinewidth": 0,
              "ticks": ""
             }
            },
            "type": "scatterternary"
           }
          ],
          "surface": [
           {
            "colorbar": {
             "outlinewidth": 0,
             "ticks": ""
            },
            "colorscale": [
             [
              0,
              "#0d0887"
             ],
             [
              0.1111111111111111,
              "#46039f"
             ],
             [
              0.2222222222222222,
              "#7201a8"
             ],
             [
              0.3333333333333333,
              "#9c179e"
             ],
             [
              0.4444444444444444,
              "#bd3786"
             ],
             [
              0.5555555555555556,
              "#d8576b"
             ],
             [
              0.6666666666666666,
              "#ed7953"
             ],
             [
              0.7777777777777778,
              "#fb9f3a"
             ],
             [
              0.8888888888888888,
              "#fdca26"
             ],
             [
              1,
              "#f0f921"
             ]
            ],
            "type": "surface"
           }
          ],
          "table": [
           {
            "cells": {
             "fill": {
              "color": "#EBF0F8"
             },
             "line": {
              "color": "white"
             }
            },
            "header": {
             "fill": {
              "color": "#C8D4E3"
             },
             "line": {
              "color": "white"
             }
            },
            "type": "table"
           }
          ]
         },
         "layout": {
          "annotationdefaults": {
           "arrowcolor": "#2a3f5f",
           "arrowhead": 0,
           "arrowwidth": 1
          },
          "colorscale": {
           "diverging": [
            [
             0,
             "#8e0152"
            ],
            [
             0.1,
             "#c51b7d"
            ],
            [
             0.2,
             "#de77ae"
            ],
            [
             0.3,
             "#f1b6da"
            ],
            [
             0.4,
             "#fde0ef"
            ],
            [
             0.5,
             "#f7f7f7"
            ],
            [
             0.6,
             "#e6f5d0"
            ],
            [
             0.7,
             "#b8e186"
            ],
            [
             0.8,
             "#7fbc41"
            ],
            [
             0.9,
             "#4d9221"
            ],
            [
             1,
             "#276419"
            ]
           ],
           "sequential": [
            [
             0,
             "#0d0887"
            ],
            [
             0.1111111111111111,
             "#46039f"
            ],
            [
             0.2222222222222222,
             "#7201a8"
            ],
            [
             0.3333333333333333,
             "#9c179e"
            ],
            [
             0.4444444444444444,
             "#bd3786"
            ],
            [
             0.5555555555555556,
             "#d8576b"
            ],
            [
             0.6666666666666666,
             "#ed7953"
            ],
            [
             0.7777777777777778,
             "#fb9f3a"
            ],
            [
             0.8888888888888888,
             "#fdca26"
            ],
            [
             1,
             "#f0f921"
            ]
           ],
           "sequentialminus": [
            [
             0,
             "#0d0887"
            ],
            [
             0.1111111111111111,
             "#46039f"
            ],
            [
             0.2222222222222222,
             "#7201a8"
            ],
            [
             0.3333333333333333,
             "#9c179e"
            ],
            [
             0.4444444444444444,
             "#bd3786"
            ],
            [
             0.5555555555555556,
             "#d8576b"
            ],
            [
             0.6666666666666666,
             "#ed7953"
            ],
            [
             0.7777777777777778,
             "#fb9f3a"
            ],
            [
             0.8888888888888888,
             "#fdca26"
            ],
            [
             1,
             "#f0f921"
            ]
           ]
          },
          "colorway": [
           "#636efa",
           "#EF553B",
           "#00cc96",
           "#ab63fa",
           "#FFA15A",
           "#19d3f3",
           "#FF6692",
           "#B6E880",
           "#FF97FF",
           "#FECB52"
          ],
          "font": {
           "color": "#2a3f5f"
          },
          "geo": {
           "bgcolor": "white",
           "lakecolor": "white",
           "landcolor": "#E5ECF6",
           "showlakes": true,
           "showland": true,
           "subunitcolor": "white"
          },
          "hoverlabel": {
           "align": "left"
          },
          "hovermode": "closest",
          "mapbox": {
           "style": "light"
          },
          "paper_bgcolor": "white",
          "plot_bgcolor": "#E5ECF6",
          "polar": {
           "angularaxis": {
            "gridcolor": "white",
            "linecolor": "white",
            "ticks": ""
           },
           "bgcolor": "#E5ECF6",
           "radialaxis": {
            "gridcolor": "white",
            "linecolor": "white",
            "ticks": ""
           }
          },
          "scene": {
           "xaxis": {
            "backgroundcolor": "#E5ECF6",
            "gridcolor": "white",
            "gridwidth": 2,
            "linecolor": "white",
            "showbackground": true,
            "ticks": "",
            "zerolinecolor": "white"
           },
           "yaxis": {
            "backgroundcolor": "#E5ECF6",
            "gridcolor": "white",
            "gridwidth": 2,
            "linecolor": "white",
            "showbackground": true,
            "ticks": "",
            "zerolinecolor": "white"
           },
           "zaxis": {
            "backgroundcolor": "#E5ECF6",
            "gridcolor": "white",
            "gridwidth": 2,
            "linecolor": "white",
            "showbackground": true,
            "ticks": "",
            "zerolinecolor": "white"
           }
          },
          "shapedefaults": {
           "line": {
            "color": "#2a3f5f"
           }
          },
          "ternary": {
           "aaxis": {
            "gridcolor": "white",
            "linecolor": "white",
            "ticks": ""
           },
           "baxis": {
            "gridcolor": "white",
            "linecolor": "white",
            "ticks": ""
           },
           "bgcolor": "#E5ECF6",
           "caxis": {
            "gridcolor": "white",
            "linecolor": "white",
            "ticks": ""
           }
          },
          "title": {
           "x": 0.05
          },
          "xaxis": {
           "automargin": true,
           "gridcolor": "white",
           "linecolor": "white",
           "ticks": "",
           "zerolinecolor": "white",
           "zerolinewidth": 2
          },
          "yaxis": {
           "automargin": true,
           "gridcolor": "white",
           "linecolor": "white",
           "ticks": "",
           "zerolinecolor": "white",
           "zerolinewidth": 2
          }
         }
        },
        "title": {
         "text": "Connection between Continuous Points and Initial Design",
         "y": 0.95
        },
        "xaxis": {
         "title": {
          "text": "Hello"
         }
        }
       }
      },
      "image/png": "[encoded data removed]",
      "text/html": [
       "<div>\n",
       "        \n",
       "        \n",
       "            <div id=\"21cb5f28-45d4-4731-8725-c4f95367d74c\" class=\"plotly-graph-div\" style=\"height:525px; width:100%;\"></div>\n",
       "            <script type=\"text/javascript\">\n",
       "                require([\"plotly\"], function(Plotly) {\n",
       "                    window.PLOTLYENV=window.PLOTLYENV || {};\n",
       "                    \n",
       "                if (document.getElementById(\"21cb5f28-45d4-4731-8725-c4f95367d74c\")) {\n",
       "                    Plotly.newPlot(\n",
       "                        '21cb5f28-45d4-4731-8725-c4f95367d74c',\n",
       "                        [{\"marker\": {\"opacity\": 0.2}, \"mode\": \"markers\", \"name\": \"All Solvents\", \"type\": \"scatter3d\", \"x\": [0.4456547718604671, 0.5755981459430044, 0.1744009938126753, 0.4622642037739902, 0.3184316856764003, 0.7013291770040507, 0.8409354489320633, 0.9362904982369403, 0.6470910729188089, 0.4124433050287786, 0.33985615596063656, 0.44849600122207645, 0.5461143966361253, 0.5795223030171404, 0.5413180812190431, 0.5509737912704864, 0.48742650435154444, 0.7472564072451635, 0.43062252270802437, 0.43809903445397486, 0.6661546335257176, 1.0, 0.8748300312388984, 0.7468570511024889, 0.9517859498961417, 0.7496911938108829, 0.8537871512210116, 0.8294192433175481, 0.8372631995106209, 0.9936360671706709, 0.7634513926039359, 0.9316026846537553, 0.625362264195014, 0.8768679120271031, 0.7646133060282855, 0.5915474074326433, 0.4809139587339663, 0.436500760106274, 0.7717637052080044, 0.2838517701859103, 0.37441983520492267, 0.9749209539950703, 0.692368583703839, 0.3407802655145921, 0.5510469507877999, 0.5652643216429007, 0.4728217738339004, 0.6187777786122669, 0.7015676238363303, 0.7864477352681384, 0.7691958163082228, 0.8784600309553801, 0.6052067582060235, 0.9897356588170928, 0.39356488927670935, 0.4973239521121663, 0.8901083445567424, 0.5099011537788101, 0.8510464099651797, 0.5627189357833056, 0.9839022849834195, 0.6542332355810272, 0.6298989424115309, 0.8168200315020279, 0.6307814944758853, 0.8238113368978209, 0.6233329170944975, 0.7013034688110974, 0.8344021741200324, 0.7268634881903279, 0.6086875148860866, 0.642826105712065, 0.5078706645467188, 0.7259233099765069, 0.4277802152959056, 0.5343897435393253, 0.682098493207536, 0.7375202978952352, 0.5907259029495795, 0.0], \"y\": [0.49230504166399475, 0.5553797453002138, 0.653409662278752, 0.5293824663332968, 0.749343094298945, 0.5432304214942933, 0.47524390153275664, 0.5053793129006579, 0.34936344668854835, 0.6617160458541415, 0.3211097856674054, 0.33666117120085276, 0.37738464943830236, 0.4129943440828886, 0.3476310960467088, 0.3149345247889931, 0.4501030776825521, 0.6793619208073771, 0.9807803350156583, 0.3298387983889716, 0.39761035025446034, 0.10333276720825815, 0.10414818474880712, 0.2285195657367205, 0.09995993060483273, 0.0, 0.066659012308157, 0.27202951472979825, 0.46772159328553464, 0.3054242202217315, 0.33084060245829644, 0.546939020135592, 0.48807865098163183, 0.13784131407071082, 0.42386849247393016, 0.4369676323132124, 0.8256671222014906, 0.8036156533710772, 0.6929951732489156, 0.4753803849723727, 0.9740952987518757, 0.7309860448572043, 0.21143295422309197, 0.5907018540424679, 1.0, 0.6063205480306089, 0.568279736888118, 0.6475784751836495, 0.3405828637457174, 0.34704376238492884, 0.3948624536738353, 0.39408666767714495, 0.3392833189721082, 0.9209605300321835, 0.30590033659370586, 0.3374221380664637, 0.376273525329276, 0.3133791093633334, 0.47497220995891615, 0.2285308902008073, 0.6872151901222946, 0.20012629248208835, 0.11726697090382823, 0.18199841545293963, 0.3391732252545184, 0.4965855025608643, 0.42834235616530714, 0.17031088593948196, 0.44405981100002323, 0.2038822563114309, 0.48523893125212436, 0.37146789097982064, 0.33871846121962934, 0.372951551931014, 0.33477045311394077, 0.351731123810146, 0.48794348906394625, 0.41146424478415944, 0.4588796933468324, 0.654694821539067], \"z\": [0.9473909159008997, 0.29628658972414257, 0.7833505963136065, 0.6635306098503364, 0.6238139360572654, 0.6339691524800991, 0.5195954509360405, 0.5106224697791724, 0.442163506506195, 0.5790303572241492, 0.5645648422596827, 0.5602939309609984, 0.5574979703829078, 0.5770726450660624, 0.5566002207883399, 0.5554532467551285, 0.4707567922018133, 0.6674736696095119, 0.5741382116073601, 0.5599994272968312, 0.5701660619532151, 0.544311133480641, 0.6292693915211776, 0.6767074665698889, 0.5680328659065773, 0.5953160793887917, 0.5813182993848529, 0.6698894902093885, 0.5571881717392893, 0.5888236053800338, 0.7506408649139569, 0.46316862624702165, 0.5270348584743292, 0.5348977395446806, 0.35829103400465, 0.46660705612161407, 0.14324489826531994, 0.2917949746069682, 0.2249354939098232, 0.34230444892113643, 0.24559085036669612, 0.08839082759497371, 1.0, 0.5554259328226195, 0.13167270487851074, 0.2187108044744823, 0.22103974006398974, 0.23149362593241563, 0.34027607766899787, 0.3200359315615411, 0.3075728190337747, 0.29718126572284276, 0.356852060438536, 0.0, 0.48772151199367075, 0.43028870719006684, 0.29324460918565753, 0.39193065361133655, 0.5815601879822566, 0.49586462881410265, 0.14414262332198907, 0.47735845606848715, 0.4540665156520529, 0.42839290486271386, 0.35764458959631223, 0.19661028137345057, 0.5297062821680779, 0.4385642567814088, 0.7018499327478618, 0.5441548059894521, 0.8094909984303017, 0.9932225418833646, 0.920702061889707, 0.2777604405339029, 0.28722213135446995, 0.29966392312913587, 0.33621978635185806, 0.27410704453449997, 0.33719716453082516, 0.7336842914097417]}, {\"marker\": {\"color\": \"lightblue\", \"opacity\": 1.0}, \"mode\": \"markers\", \"name\": \"LHS Design Points\", \"type\": \"scatter3d\", \"x\": [0.961336296506569, 0.864687014620763, 0.08670994087563974, 0.539559004634165, 0.19490111710437585, 0.7394085080175958, 0.4207046038417871, 0.31213469092313895], \"y\": [0.6824948226419691, 0.5452166460970392, 0.007714624070311926, 0.2915186343255955, 0.4813282229365985, 0.9788547595592768, 0.8074415278171219, 0.13563882786474302], \"z\": [0.4310621804516972, 0.08332644965998234, 0.9544886639017873, 0.29279230655258104, 0.8180739012432364, 0.5563403035478274, 0.6592099322574464, 0.17405238208411794]}, {\"marker\": {\"color\": \"darkblue\"}, \"mode\": \"markers\", \"name\": \"Initial Design Solvents\", \"type\": \"scatter3d\", \"x\": [0.9316026846537553, 0.8238113368978209, 0.5078706645467188, 0.5343897435393253, 0.1744009938126753, 0.43062252270802437, 0.3184316856764003, 0.4277802152959056], \"y\": [0.546939020135592, 0.4965855025608643, 0.33871846121962934, 0.351731123810146, 0.653409662278752, 0.9807803350156583, 0.749343094298945, 0.33477045311394077], \"z\": [0.46316862624702165, 0.19661028137345057, 0.920702061889707, 0.29966392312913587, 0.7833505963136065, 0.5741382116073601, 0.6238139360572654, 0.28722213135446995]}, {\"legendgroup\": \"connections\", \"line\": {\"color\": \"darkblue\", \"width\": 2}, \"mode\": \"lines\", \"name\": \"Connections\", \"showlegend\": true, \"type\": \"scatter3d\", \"x\": [0.9316026846537553, 0.961336296506569], \"y\": [0.546939020135592, 0.6824948226419691], \"z\": [0.46316862624702165, 0.4310621804516972]}, {\"legendgroup\": \"connections\", \"line\": {\"color\": \"darkblue\", \"width\": 2}, \"mode\": \"lines\", \"name\": \"Connections\", \"showlegend\": false, \"type\": \"scatter3d\", \"x\": [0.8238113368978209, 0.864687014620763], \"y\": [0.4965855025608643, 0.5452166460970392], \"z\": [0.19661028137345057, 0.08332644965998234]}, {\"legendgroup\": \"connections\", \"line\": {\"color\": \"darkblue\", \"width\": 2}, \"mode\": \"lines\", \"name\": \"Connections\", \"showlegend\": false, \"type\": \"scatter3d\", \"x\": [0.5078706645467188, 0.08670994087563974], \"y\": [0.33871846121962934, 0.007714624070311926], \"z\": [0.920702061889707, 0.9544886639017873]}, {\"legendgroup\": \"connections\", \"line\": {\"color\": \"darkblue\", \"width\": 2}, \"mode\": \"lines\", \"name\": \"Connections\", \"showlegend\": false, \"type\": \"scatter3d\", \"x\": [0.5343897435393253, 0.539559004634165], \"y\": [0.351731123810146, 0.2915186343255955], \"z\": [0.29966392312913587, 0.29279230655258104]}, {\"legendgroup\": \"connections\", \"line\": {\"color\": \"darkblue\", \"width\": 2}, \"mode\": \"lines\", \"name\": \"Connections\", \"showlegend\": false, \"type\": \"scatter3d\", \"x\": [0.1744009938126753, 0.19490111710437585], \"y\": [0.653409662278752, 0.4813282229365985], \"z\": [0.7833505963136065, 0.8180739012432364]}, {\"legendgroup\": \"connections\", \"line\": {\"color\": \"darkblue\", \"width\": 2}, \"mode\": \"lines\", \"name\": \"Connections\", \"showlegend\": false, \"type\": \"scatter3d\", \"x\": [0.43062252270802437, 0.7394085080175958], \"y\": [0.9807803350156583, 0.9788547595592768], \"z\": [0.5741382116073601, 0.5563403035478274]}, {\"legendgroup\": \"connections\", \"line\": {\"color\": \"darkblue\", \"width\": 2}, \"mode\": \"lines\", \"name\": \"Connections\", \"showlegend\": false, \"type\": \"scatter3d\", \"x\": [0.3184316856764003, 0.4207046038417871], \"y\": [0.749343094298945, 0.8074415278171219], \"z\": [0.6238139360572654, 0.6592099322574464]}, {\"legendgroup\": \"connections\", \"line\": {\"color\": \"darkblue\", \"width\": 2}, \"mode\": \"lines\", \"name\": \"Connections\", \"showlegend\": false, \"type\": \"scatter3d\", \"x\": [0.4277802152959056, 0.31213469092313895], \"y\": [0.33477045311394077, 0.13563882786474302], \"z\": [0.28722213135446995, 0.17405238208411794]}],\n",
       "                        {\"margin\": {\"b\": 0, \"l\": 0, \"r\": 0, \"t\": 0}, \"template\": {\"data\": {\"bar\": [{\"error_x\": {\"color\": \"#2a3f5f\"}, \"error_y\": {\"color\": \"#2a3f5f\"}, \"marker\": {\"line\": {\"color\": \"#E5ECF6\", \"width\": 0.5}}, \"type\": \"bar\"}], \"barpolar\": [{\"marker\": {\"line\": {\"color\": \"#E5ECF6\", \"width\": 0.5}}, \"type\": \"barpolar\"}], \"carpet\": [{\"aaxis\": {\"endlinecolor\": \"#2a3f5f\", \"gridcolor\": \"white\", \"linecolor\": \"white\", \"minorgridcolor\": \"white\", \"startlinecolor\": \"#2a3f5f\"}, \"baxis\": {\"endlinecolor\": \"#2a3f5f\", \"gridcolor\": \"white\", \"linecolor\": \"white\", \"minorgridcolor\": \"white\", \"startlinecolor\": \"#2a3f5f\"}, \"type\": \"carpet\"}], \"choropleth\": [{\"colorbar\": {\"outlinewidth\": 0, \"ticks\": \"\"}, \"type\": \"choropleth\"}], \"contour\": [{\"colorbar\": {\"outlinewidth\": 0, \"ticks\": \"\"}, \"colorscale\": [[0.0, \"#0d0887\"], [0.1111111111111111, \"#46039f\"], [0.2222222222222222, \"#7201a8\"], [0.3333333333333333, \"#9c179e\"], [0.4444444444444444, \"#bd3786\"], [0.5555555555555556, \"#d8576b\"], [0.6666666666666666, \"#ed7953\"], [0.7777777777777778, \"#fb9f3a\"], [0.8888888888888888, \"#fdca26\"], [1.0, \"#f0f921\"]], \"type\": \"contour\"}], \"contourcarpet\": [{\"colorbar\": {\"outlinewidth\": 0, \"ticks\": \"\"}, \"type\": \"contourcarpet\"}], \"heatmap\": [{\"colorbar\": {\"outlinewidth\": 0, \"ticks\": \"\"}, \"colorscale\": [[0.0, \"#0d0887\"], [0.1111111111111111, \"#46039f\"], [0.2222222222222222, \"#7201a8\"], [0.3333333333333333, \"#9c179e\"], [0.4444444444444444, \"#bd3786\"], [0.5555555555555556, \"#d8576b\"], [0.6666666666666666, \"#ed7953\"], [0.7777777777777778, \"#fb9f3a\"], [0.8888888888888888, \"#fdca26\"], [1.0, \"#f0f921\"]], \"type\": \"heatmap\"}], \"heatmapgl\": [{\"colorbar\": {\"outlinewidth\": 0, \"ticks\": \"\"}, \"colorscale\": [[0.0, \"#0d0887\"], [0.1111111111111111, \"#46039f\"], [0.2222222222222222, \"#7201a8\"], [0.3333333333333333, \"#9c179e\"], [0.4444444444444444, \"#bd3786\"], [0.5555555555555556, \"#d8576b\"], [0.6666666666666666, \"#ed7953\"], [0.7777777777777778, \"#fb9f3a\"], [0.8888888888888888, \"#fdca26\"], [1.0, \"#f0f921\"]], \"type\": \"heatmapgl\"}], \"histogram\": [{\"marker\": {\"colorbar\": {\"outlinewidth\": 0, \"ticks\": \"\"}}, \"type\": \"histogram\"}], \"histogram2d\": [{\"colorbar\": {\"outlinewidth\": 0, \"ticks\": \"\"}, \"colorscale\": [[0.0, \"#0d0887\"], [0.1111111111111111, \"#46039f\"], [0.2222222222222222, \"#7201a8\"], [0.3333333333333333, \"#9c179e\"], [0.4444444444444444, \"#bd3786\"], [0.5555555555555556, \"#d8576b\"], [0.6666666666666666, \"#ed7953\"], [0.7777777777777778, \"#fb9f3a\"], [0.8888888888888888, \"#fdca26\"], [1.0, \"#f0f921\"]], \"type\": \"histogram2d\"}], \"histogram2dcontour\": [{\"colorbar\": {\"outlinewidth\": 0, \"ticks\": \"\"}, \"colorscale\": [[0.0, \"#0d0887\"], [0.1111111111111111, \"#46039f\"], [0.2222222222222222, \"#7201a8\"], [0.3333333333333333, \"#9c179e\"], [0.4444444444444444, \"#bd3786\"], [0.5555555555555556, \"#d8576b\"], [0.6666666666666666, \"#ed7953\"], [0.7777777777777778, \"#fb9f3a\"], [0.8888888888888888, \"#fdca26\"], [1.0, \"#f0f921\"]], \"type\": \"histogram2dcontour\"}], \"mesh3d\": [{\"colorbar\": {\"outlinewidth\": 0, \"ticks\": \"\"}, \"type\": \"mesh3d\"}], \"parcoords\": [{\"line\": {\"colorbar\": {\"outlinewidth\": 0, \"ticks\": \"\"}}, \"type\": \"parcoords\"}], \"scatter\": [{\"marker\": {\"colorbar\": {\"outlinewidth\": 0, \"ticks\": \"\"}}, \"type\": \"scatter\"}], \"scatter3d\": [{\"line\": {\"colorbar\": {\"outlinewidth\": 0, \"ticks\": \"\"}}, \"marker\": {\"colorbar\": {\"outlinewidth\": 0, \"ticks\": \"\"}}, \"type\": \"scatter3d\"}], \"scattercarpet\": [{\"marker\": {\"colorbar\": {\"outlinewidth\": 0, \"ticks\": \"\"}}, \"type\": \"scattercarpet\"}], \"scattergeo\": [{\"marker\": {\"colorbar\": {\"outlinewidth\": 0, \"ticks\": \"\"}}, \"type\": \"scattergeo\"}], \"scattergl\": [{\"marker\": {\"colorbar\": {\"outlinewidth\": 0, \"ticks\": \"\"}}, \"type\": \"scattergl\"}], \"scattermapbox\": [{\"marker\": {\"colorbar\": {\"outlinewidth\": 0, \"ticks\": \"\"}}, \"type\": \"scattermapbox\"}], \"scatterpolar\": [{\"marker\": {\"colorbar\": {\"outlinewidth\": 0, \"ticks\": \"\"}}, \"type\": \"scatterpolar\"}], \"scatterpolargl\": [{\"marker\": {\"colorbar\": {\"outlinewidth\": 0, \"ticks\": \"\"}}, \"type\": \"scatterpolargl\"}], \"scatterternary\": [{\"marker\": {\"colorbar\": {\"outlinewidth\": 0, \"ticks\": \"\"}}, \"type\": \"scatterternary\"}], \"surface\": [{\"colorbar\": {\"outlinewidth\": 0, \"ticks\": \"\"}, \"colorscale\": [[0.0, \"#0d0887\"], [0.1111111111111111, \"#46039f\"], [0.2222222222222222, \"#7201a8\"], [0.3333333333333333, \"#9c179e\"], [0.4444444444444444, \"#bd3786\"], [0.5555555555555556, \"#d8576b\"], [0.6666666666666666, \"#ed7953\"], [0.7777777777777778, \"#fb9f3a\"], [0.8888888888888888, \"#fdca26\"], [1.0, \"#f0f921\"]], \"type\": \"surface\"}], \"table\": [{\"cells\": {\"fill\": {\"color\": \"#EBF0F8\"}, \"line\": {\"color\": \"white\"}}, \"header\": {\"fill\": {\"color\": \"#C8D4E3\"}, \"line\": {\"color\": \"white\"}}, \"type\": \"table\"}]}, \"layout\": {\"annotationdefaults\": {\"arrowcolor\": \"#2a3f5f\", \"arrowhead\": 0, \"arrowwidth\": 1}, \"colorscale\": {\"diverging\": [[0, \"#8e0152\"], [0.1, \"#c51b7d\"], [0.2, \"#de77ae\"], [0.3, \"#f1b6da\"], [0.4, \"#fde0ef\"], [0.5, \"#f7f7f7\"], [0.6, \"#e6f5d0\"], [0.7, \"#b8e186\"], [0.8, \"#7fbc41\"], [0.9, \"#4d9221\"], [1, \"#276419\"]], \"sequential\": [[0.0, \"#0d0887\"], [0.1111111111111111, \"#46039f\"], [0.2222222222222222, \"#7201a8\"], [0.3333333333333333, \"#9c179e\"], [0.4444444444444444, \"#bd3786\"], [0.5555555555555556, \"#d8576b\"], [0.6666666666666666, \"#ed7953\"], [0.7777777777777778, \"#fb9f3a\"], [0.8888888888888888, \"#fdca26\"], [1.0, \"#f0f921\"]], \"sequentialminus\": [[0.0, \"#0d0887\"], [0.1111111111111111, \"#46039f\"], [0.2222222222222222, \"#7201a8\"], [0.3333333333333333, \"#9c179e\"], [0.4444444444444444, \"#bd3786\"], [0.5555555555555556, \"#d8576b\"], [0.6666666666666666, \"#ed7953\"], [0.7777777777777778, \"#fb9f3a\"], [0.8888888888888888, \"#fdca26\"], [1.0, \"#f0f921\"]]}, \"colorway\": [\"#636efa\", \"#EF553B\", \"#00cc96\", \"#ab63fa\", \"#FFA15A\", \"#19d3f3\", \"#FF6692\", \"#B6E880\", \"#FF97FF\", \"#FECB52\"], \"font\": {\"color\": \"#2a3f5f\"}, \"geo\": {\"bgcolor\": \"white\", \"lakecolor\": \"white\", \"landcolor\": \"#E5ECF6\", \"showlakes\": true, \"showland\": true, \"subunitcolor\": \"white\"}, \"hoverlabel\": {\"align\": \"left\"}, \"hovermode\": \"closest\", \"mapbox\": {\"style\": \"light\"}, \"paper_bgcolor\": \"white\", \"plot_bgcolor\": \"#E5ECF6\", \"polar\": {\"angularaxis\": {\"gridcolor\": \"white\", \"linecolor\": \"white\", \"ticks\": \"\"}, \"bgcolor\": \"#E5ECF6\", \"radialaxis\": {\"gridcolor\": \"white\", \"linecolor\": \"white\", \"ticks\": \"\"}}, \"scene\": {\"xaxis\": {\"backgroundcolor\": \"#E5ECF6\", \"gridcolor\": \"white\", \"gridwidth\": 2, \"linecolor\": \"white\", \"showbackground\": true, \"ticks\": \"\", \"zerolinecolor\": \"white\"}, \"yaxis\": {\"backgroundcolor\": \"#E5ECF6\", \"gridcolor\": \"white\", \"gridwidth\": 2, \"linecolor\": \"white\", \"showbackground\": true, \"ticks\": \"\", \"zerolinecolor\": \"white\"}, \"zaxis\": {\"backgroundcolor\": \"#E5ECF6\", \"gridcolor\": \"white\", \"gridwidth\": 2, \"linecolor\": \"white\", \"showbackground\": true, \"ticks\": \"\", \"zerolinecolor\": \"white\"}}, \"shapedefaults\": {\"line\": {\"color\": \"#2a3f5f\"}}, \"ternary\": {\"aaxis\": {\"gridcolor\": \"white\", \"linecolor\": \"white\", \"ticks\": \"\"}, \"baxis\": {\"gridcolor\": \"white\", \"linecolor\": \"white\", \"ticks\": \"\"}, \"bgcolor\": \"#E5ECF6\", \"caxis\": {\"gridcolor\": \"white\", \"linecolor\": \"white\", \"ticks\": \"\"}}, \"title\": {\"x\": 0.05}, \"xaxis\": {\"automargin\": true, \"gridcolor\": \"white\", \"linecolor\": \"white\", \"ticks\": \"\", \"zerolinecolor\": \"white\", \"zerolinewidth\": 2}, \"yaxis\": {\"automargin\": true, \"gridcolor\": \"white\", \"linecolor\": \"white\", \"ticks\": \"\", \"zerolinecolor\": \"white\", \"zerolinewidth\": 2}}}, \"title\": {\"text\": \"Connection between Continuous Points and Initial Design\", \"y\": 0.95}, \"xaxis\": {\"title\": {\"text\": \"Hello\"}}},\n",
       "                        {\"responsive\": true}\n",
       "                    ).then(function(){\n",
       "                            \n",
       "var gd = document.getElementById('21cb5f28-45d4-4731-8725-c4f95367d74c');\n",
       "var x = new MutationObserver(function (mutations, observer) {{\n",
       "        var display = window.getComputedStyle(gd).display;\n",
       "        if (!display || display === 'none') {{\n",
       "            console.log([gd, 'removed!']);\n",
       "            Plotly.purge(gd);\n",
       "            observer.disconnect();\n",
       "        }}\n",
       "}});\n",
       "\n",
       "// Listen for the removal of the full notebook cells\n",
       "var notebookContainer = gd.closest('#notebook-container');\n",
       "if (notebookContainer) {{\n",
       "    x.observe(notebookContainer, {childList: true});\n",
       "}}\n",
       "\n",
       "// Listen for the clearing of the current output cell\n",
       "var outputEl = gd.closest('.output');\n",
       "if (outputEl) {{\n",
       "    x.observe(outputEl, {childList: true});\n",
       "}}\n",
       "\n",
       "                        })\n",
       "                };\n",
       "                });\n",
       "            </script>\n",
       "        </div>"
      ]
     },
     "metadata": {},
     "output_type": "display_data"
    }
   ],
   "source": [
    "all_solvents_plot = go.Scatter3d(x=solvent_arr_pcs[:, 0],\n",
    "                                 y=solvent_arr_pcs[:, 1],\n",
    "                                 z=solvent_arr_pcs[:, 2],\n",
    "                                 mode='markers',\n",
    "                                 marker=dict(opacity=0.2),\n",
    "                                 name='All Solvents')\n",
    "\n",
    "lines = [go.Scatter3d(x=[solvents[0], continuous[0]],\n",
    "                      y=[solvents[1], continuous[1]],\n",
    "                      z=[solvents[2], continuous[2]], \n",
    "                      legendgroup='connections',\n",
    "                      name='Connections',\n",
    "                      showlegend= True if i==0 else False,\n",
    "                      mode='lines',\n",
    "                      line=dict(\n",
    "                                color='darkblue',\n",
    "                                width=2)\n",
    "                      \n",
    "                     )\n",
    "         for i, (solvents, continuous) in enumerate(zip(design_arr_pcs, continuous_design))]\n",
    "\n",
    "continuous_design_plot = go.Scatter3d(x=continuous_design[:, 0],\n",
    "                                      y=continuous_design[:, 1],\n",
    "                                      z=continuous_design[:, 2],\n",
    "                                      mode='markers',\n",
    "                                      marker=dict(opacity=1.0, color='lightblue'),\n",
    "                                      name='LHS Design Points')\n",
    "\n",
    "design_solvents_plot = go.Scatter3d(x=design_arr_pcs[:, 0],\n",
    "                                    y=design_arr_pcs[:, 1],\n",
    "                                    z=design_arr_pcs[:, 2], \n",
    "                                    mode='markers',\n",
    "                                    marker=dict(color='darkblue'),\n",
    "                                    name='Initial Design Solvents')\n",
    "\n",
    "fig = go.Figure([all_solvents_plot, continuous_design_plot, design_solvents_plot] + lines)\n",
    "\n",
    "# tight layout\n",
    "fig.update_layout(margin=dict(l=0, r=0, b=0, t=0), \n",
    "                  title=dict(text='Connection between Continuous Points and Initial Design',\n",
    "                             y=0.95),\n",
    "                  xaxis=dict(title=\"Hello\"))\n",
    "fig.show()"
   ]
  },
  {
   "cell_type": "code",
   "execution_count": 12,
   "metadata": {},
   "outputs": [
    {
     "data": {
      "text/html": [
       "<div>\n",
       "<style scoped>\n",
       "    .dataframe tbody tr th:only-of-type {\n",
       "        vertical-align: middle;\n",
       "    }\n",
       "\n",
       "    .dataframe tbody tr th {\n",
       "        vertical-align: top;\n",
       "    }\n",
       "\n",
       "    .dataframe thead th {\n",
       "        text-align: right;\n",
       "    }\n",
       "</style>\n",
       "<table border=\"1\" class=\"dataframe\">\n",
       "  <thead>\n",
       "    <tr style=\"text-align: right;\">\n",
       "      <th></th>\n",
       "      <th>stenutz_name</th>\n",
       "      <th>PC_0</th>\n",
       "      <th>PC_1</th>\n",
       "      <th>PC_2</th>\n",
       "    </tr>\n",
       "    <tr>\n",
       "      <th>cas_number</th>\n",
       "      <th></th>\n",
       "      <th></th>\n",
       "      <th></th>\n",
       "      <th></th>\n",
       "    </tr>\n",
       "  </thead>\n",
       "  <tbody>\n",
       "    <tr>\n",
       "      <th>108-75-8</th>\n",
       "      <td>2,4,6-trimethylpyridine</td>\n",
       "      <td>1.184633</td>\n",
       "      <td>0.835695</td>\n",
       "      <td>-0.572573</td>\n",
       "    </tr>\n",
       "    <tr>\n",
       "      <th>111-96-6</th>\n",
       "      <td>bis(2-methoxyethyl) ether</td>\n",
       "      <td>0.180195</td>\n",
       "      <td>0.386132</td>\n",
       "      <td>-2.146215</td>\n",
       "    </tr>\n",
       "    <tr>\n",
       "      <th>75-09-2</th>\n",
       "      <td>dichloromethane</td>\n",
       "      <td>-2.763849</td>\n",
       "      <td>-1.023328</td>\n",
       "      <td>2.128500</td>\n",
       "    </tr>\n",
       "    <tr>\n",
       "      <th>78-93-3</th>\n",
       "      <td>2-butanone</td>\n",
       "      <td>-2.516735</td>\n",
       "      <td>-0.907149</td>\n",
       "      <td>-1.537832</td>\n",
       "    </tr>\n",
       "    <tr>\n",
       "      <th>64-18-6</th>\n",
       "      <td>formic acid</td>\n",
       "      <td>-5.871235</td>\n",
       "      <td>1.786280</td>\n",
       "      <td>1.317638</td>\n",
       "    </tr>\n",
       "    <tr>\n",
       "      <th>56-81-5</th>\n",
       "      <td>1,2,3-propanetriol</td>\n",
       "      <td>-3.483674</td>\n",
       "      <td>4.709093</td>\n",
       "      <td>0.082542</td>\n",
       "    </tr>\n",
       "    <tr>\n",
       "      <th>107-21-1</th>\n",
       "      <td>ethanediol</td>\n",
       "      <td>-4.529107</td>\n",
       "      <td>2.642788</td>\n",
       "      <td>0.375805</td>\n",
       "    </tr>\n",
       "    <tr>\n",
       "      <th>67-64-1</th>\n",
       "      <td>2-propanone</td>\n",
       "      <td>-3.510160</td>\n",
       "      <td>-1.058576</td>\n",
       "      <td>-1.611283</td>\n",
       "    </tr>\n",
       "  </tbody>\n",
       "</table>\n",
       "</div>"
      ],
      "text/plain": [
       "NAME                     stenutz_name      PC_0      PC_1      PC_2\n",
       "cas_number                                                         \n",
       "108-75-8      2,4,6-trimethylpyridine  1.184633  0.835695 -0.572573\n",
       "111-96-6    bis(2-methoxyethyl) ether  0.180195  0.386132 -2.146215\n",
       "75-09-2               dichloromethane -2.763849 -1.023328  2.128500\n",
       "78-93-3                    2-butanone -2.516735 -0.907149 -1.537832\n",
       "64-18-6                   formic acid -5.871235  1.786280  1.317638\n",
       "56-81-5            1,2,3-propanetriol -3.483674  4.709093  0.082542\n",
       "107-21-1                   ethanediol -4.529107  2.642788  0.375805\n",
       "67-64-1                   2-propanone -3.510160 -1.058576 -1.611283"
      ]
     },
     "execution_count": 12,
     "metadata": {},
     "output_type": "execute_result"
    }
   ],
   "source": [
    "listed = solvent_ds_pcs.iloc[design_indices[:, 0]][['stenutz_name', 'PC_0', 'PC_1', 'PC_2']]\n",
    "listed.to_csv('outputs/solvents.csv')\n",
    "listed"
   ]
  },
  {
   "cell_type": "code",
   "execution_count": 16,
   "metadata": {},
   "outputs": [
    {
     "data": {
      "text/html": [
       "<div>\n",
       "<style scoped>\n",
       "    .dataframe tbody tr th:only-of-type {\n",
       "        vertical-align: middle;\n",
       "    }\n",
       "\n",
       "    .dataframe tbody tr th {\n",
       "        vertical-align: top;\n",
       "    }\n",
       "\n",
       "    .dataframe thead th {\n",
       "        text-align: right;\n",
       "    }\n",
       "</style>\n",
       "<table border=\"1\" class=\"dataframe\">\n",
       "  <thead>\n",
       "    <tr style=\"text-align: right;\">\n",
       "      <th></th>\n",
       "      <th>co_cat</th>\n",
       "      <th>catalyst_conc</th>\n",
       "      <th>cocatalyst_conc</th>\n",
       "      <th>substrate_a_conc</th>\n",
       "      <th>substrate_b_a_ratio</th>\n",
       "      <th>temperature</th>\n",
       "    </tr>\n",
       "  </thead>\n",
       "  <tbody>\n",
       "    <tr>\n",
       "      <th>2</th>\n",
       "      <td>co_cat_1</td>\n",
       "      <td>1.64</td>\n",
       "      <td>722.97</td>\n",
       "      <td>535.94</td>\n",
       "      <td>1.30</td>\n",
       "      <td>35.94</td>\n",
       "    </tr>\n",
       "    <tr>\n",
       "      <th>4</th>\n",
       "      <td>co_cat_1</td>\n",
       "      <td>0.19</td>\n",
       "      <td>168.91</td>\n",
       "      <td>597.81</td>\n",
       "      <td>1.86</td>\n",
       "      <td>20.94</td>\n",
       "    </tr>\n",
       "    <tr>\n",
       "      <th>6</th>\n",
       "      <td>co_cat_1</td>\n",
       "      <td>0.37</td>\n",
       "      <td>599.84</td>\n",
       "      <td>845.31</td>\n",
       "      <td>1.48</td>\n",
       "      <td>37.81</td>\n",
       "    </tr>\n",
       "    <tr>\n",
       "      <th>7</th>\n",
       "      <td>co_cat_1</td>\n",
       "      <td>1.46</td>\n",
       "      <td>784.53</td>\n",
       "      <td>721.56</td>\n",
       "      <td>1.77</td>\n",
       "      <td>49.06</td>\n",
       "    </tr>\n",
       "    <tr>\n",
       "      <th>8</th>\n",
       "      <td>co_cat_1</td>\n",
       "      <td>2.55</td>\n",
       "      <td>476.72</td>\n",
       "      <td>659.69</td>\n",
       "      <td>1.67</td>\n",
       "      <td>45.31</td>\n",
       "    </tr>\n",
       "    <tr>\n",
       "      <th>14</th>\n",
       "      <td>co_cat_1</td>\n",
       "      <td>2.37</td>\n",
       "      <td>107.34</td>\n",
       "      <td>40.94</td>\n",
       "      <td>1.02</td>\n",
       "      <td>26.56</td>\n",
       "    </tr>\n",
       "    <tr>\n",
       "      <th>0</th>\n",
       "      <td>co_cat_2</td>\n",
       "      <td>2.73</td>\n",
       "      <td>538.28</td>\n",
       "      <td>288.44</td>\n",
       "      <td>1.20</td>\n",
       "      <td>22.81</td>\n",
       "    </tr>\n",
       "    <tr>\n",
       "      <th>1</th>\n",
       "      <td>co_cat_2</td>\n",
       "      <td>1.82</td>\n",
       "      <td>969.22</td>\n",
       "      <td>474.06</td>\n",
       "      <td>0.55</td>\n",
       "      <td>39.69</td>\n",
       "    </tr>\n",
       "    <tr>\n",
       "      <th>3</th>\n",
       "      <td>co_cat_2</td>\n",
       "      <td>0.55</td>\n",
       "      <td>846.09</td>\n",
       "      <td>412.19</td>\n",
       "      <td>1.58</td>\n",
       "      <td>32.19</td>\n",
       "    </tr>\n",
       "    <tr>\n",
       "      <th>5</th>\n",
       "      <td>co_cat_2</td>\n",
       "      <td>0.73</td>\n",
       "      <td>292.03</td>\n",
       "      <td>783.44</td>\n",
       "      <td>1.39</td>\n",
       "      <td>30.31</td>\n",
       "    </tr>\n",
       "    <tr>\n",
       "      <th>9</th>\n",
       "      <td>co_cat_2</td>\n",
       "      <td>0.92</td>\n",
       "      <td>415.16</td>\n",
       "      <td>164.69</td>\n",
       "      <td>0.92</td>\n",
       "      <td>24.69</td>\n",
       "    </tr>\n",
       "    <tr>\n",
       "      <th>10</th>\n",
       "      <td>co_cat_2</td>\n",
       "      <td>1.28</td>\n",
       "      <td>230.47</td>\n",
       "      <td>226.56</td>\n",
       "      <td>1.95</td>\n",
       "      <td>41.56</td>\n",
       "    </tr>\n",
       "    <tr>\n",
       "      <th>11</th>\n",
       "      <td>co_cat_2</td>\n",
       "      <td>1.10</td>\n",
       "      <td>45.78</td>\n",
       "      <td>102.81</td>\n",
       "      <td>1.11</td>\n",
       "      <td>34.06</td>\n",
       "    </tr>\n",
       "    <tr>\n",
       "      <th>12</th>\n",
       "      <td>co_cat_2</td>\n",
       "      <td>2.18</td>\n",
       "      <td>661.41</td>\n",
       "      <td>969.06</td>\n",
       "      <td>0.83</td>\n",
       "      <td>47.19</td>\n",
       "    </tr>\n",
       "    <tr>\n",
       "      <th>13</th>\n",
       "      <td>co_cat_2</td>\n",
       "      <td>2.00</td>\n",
       "      <td>907.66</td>\n",
       "      <td>907.19</td>\n",
       "      <td>0.73</td>\n",
       "      <td>28.44</td>\n",
       "    </tr>\n",
       "    <tr>\n",
       "      <th>15</th>\n",
       "      <td>co_cat_2</td>\n",
       "      <td>2.91</td>\n",
       "      <td>353.59</td>\n",
       "      <td>350.31</td>\n",
       "      <td>0.64</td>\n",
       "      <td>43.44</td>\n",
       "    </tr>\n",
       "  </tbody>\n",
       "</table>\n",
       "</div>"
      ],
      "text/plain": [
       "      co_cat  catalyst_conc  cocatalyst_conc  substrate_a_conc  \\\n",
       "2   co_cat_1           1.64           722.97            535.94   \n",
       "4   co_cat_1           0.19           168.91            597.81   \n",
       "6   co_cat_1           0.37           599.84            845.31   \n",
       "7   co_cat_1           1.46           784.53            721.56   \n",
       "8   co_cat_1           2.55           476.72            659.69   \n",
       "14  co_cat_1           2.37           107.34             40.94   \n",
       "0   co_cat_2           2.73           538.28            288.44   \n",
       "1   co_cat_2           1.82           969.22            474.06   \n",
       "3   co_cat_2           0.55           846.09            412.19   \n",
       "5   co_cat_2           0.73           292.03            783.44   \n",
       "9   co_cat_2           0.92           415.16            164.69   \n",
       "10  co_cat_2           1.28           230.47            226.56   \n",
       "11  co_cat_2           1.10            45.78            102.81   \n",
       "12  co_cat_2           2.18           661.41            969.06   \n",
       "13  co_cat_2           2.00           907.66            907.19   \n",
       "15  co_cat_2           2.91           353.59            350.31   \n",
       "\n",
       "    substrate_b_a_ratio  temperature  \n",
       "2                  1.30        35.94  \n",
       "4                  1.86        20.94  \n",
       "6                  1.48        37.81  \n",
       "7                  1.77        49.06  \n",
       "8                  1.67        45.31  \n",
       "14                 1.02        26.56  \n",
       "0                  1.20        22.81  \n",
       "1                  0.55        39.69  \n",
       "3                  1.58        32.19  \n",
       "5                  1.39        30.31  \n",
       "9                  0.92        24.69  \n",
       "10                 1.95        41.56  \n",
       "11                 1.11        34.06  \n",
       "12                 0.83        47.19  \n",
       "13                 0.73        28.44  \n",
       "15                 0.64        43.44  "
      ]
     },
     "execution_count": 16,
     "metadata": {},
     "output_type": "execute_result"
    }
   ],
   "source": [
    "rs = np.random.RandomState(100)\n",
    "lhs = LatinDesigner(domain, random_state=rs)\n",
    "design = lhs.generate_experiments(num_experiments=16, criterion='center', \n",
    "                                  unique=False,exclude=['solvent'])\n",
    "design = design.to_frame().sort_values(by=['co_cat']).round(2)\n",
    "design.to_csv('outputs/continuous.csv')\n",
    "design"
   ]
  },
  {
   "cell_type": "code",
   "execution_count": null,
   "metadata": {},
   "outputs": [],
   "source": []
  }
 ],
 "metadata": {
  "kernelspec": {
   "display_name": "Python 3",
   "language": "python",
   "name": "python3"
  },
  "language_info": {
   "codemirror_mode": {
    "name": "ipython",
    "version": 3
   },
   "file_extension": ".py",
   "mimetype": "text/x-python",
   "name": "python",
   "nbconvert_exporter": "python",
   "pygments_lexer": "ipython3",
   "version": "3.6.8"
  }
 },
 "nbformat": 4,
 "nbformat_minor": 4
}
