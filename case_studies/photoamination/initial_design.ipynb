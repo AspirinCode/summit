{
 "cells": [
  {
   "cell_type": "markdown",
   "metadata": {},
   "source": [
    "# Initial Design\n",
    "\n",
    "This notebook contains the code used to select the reaction conditions tested for initial training of the GP. A modified latin hypercube sampling (LHS) strategy is used to select both discrete and continuous variables.  We previously demonstrated that several different designs work well for solvent selection, so LHS was chosen since it is already implemented by GPyOpt.  "
   ]
  },
  {
   "cell_type": "markdown",
   "metadata": {},
   "source": [
    "## 1. Setup\n",
    "\n",
    "Let's get everything loaded and ready to go."
   ]
  },
  {
   "cell_type": "code",
   "execution_count": 2,
   "metadata": {},
   "outputs": [],
   "source": [
    "#Autoreload automatically reloads any depdencies as you change them\n",
    "%load_ext autoreload\n",
    "%autoreload 2"
   ]
  },
  {
   "cell_type": "code",
   "execution_count": 3,
   "metadata": {},
   "outputs": [],
   "source": [
    "#Import all the necessary packages\n",
    "from summit.data import solvent_ds, ucb_list\n",
    "from summit.domain import Domain, ContinuousVariable, DiscreteVariable, DescriptorsVariable\n",
    "from summit.experiment_design import LatinDesign\n",
    "import numpy as np\n",
    "import pandas as pd\n",
    "import matplotlib.pyplot as plt\n",
    "from tqdm import tqdm"
   ]
  },
  {
   "cell_type": "code",
   "execution_count": 4,
   "metadata": {},
   "outputs": [
    {
     "name": "stdout",
     "output_type": "stream",
     "text": [
      "36 out of 115 solvents from the UCB list are not in our solvent database.\n"
     ]
    }
   ],
   "source": [
    "missed_cas_numbers = []\n",
    "successful_cas_numbers = []\n",
    "for i, index in enumerate(ucb_list):\n",
    "    try:\n",
    "        select = solvent_ds.xs(index, level='cas_number', drop_level=False)\n",
    "        successful_cas_numbers.append(index)\n",
    "    except KeyError:\n",
    "        missed_cas_numbers.append(index)\n",
    "print(f\"{len(missed_cas_numbers)} out of {len(ucb_list)} solvents from the UCB list are not in our solvent database.\")"
   ]
  },
  {
   "cell_type": "code",
   "execution_count": 5,
   "metadata": {},
   "outputs": [
    {
     "data": {
      "text/html": [
       "<table id='domain' width=100%><tr><td><b>Name</b></td><td><b>Type</b></td><td><b>Description</b></td><td><b>Values</b></td></tr><tr><td>temperature</td><td>continuous</td><td>reaction temperature</td><td>[20,50]</td></tr><tr><td>acid_conc</td><td>continuous</td><td>propionic acid concentration</td><td>[1,40]</td></tr><tr><td>cat_load</td><td>continuous</td><td>catalyst loading</td><td>[0.1,10]</td></tr><tr><td>co_cat_load</td><td>continuous</td><td>co-catalyst loading</td><td>[15,1500]</td></tr><tr><td>acrylate_amine_ratio</td><td>continuous</td><td>molar ratio of acrylate to amine</td><td>[0.8,2]</td></tr><tr><td>aldehyde_amine_ratio</td><td>continuous</td><td>molar ratio of aldehyde to amine</td><td>[0.8,2]</td></tr><tr><td>co_cat</td><td>discrete</td><td>enumeration of the two potential cocatalysts</td><td>2 levels</td></tr><tr><td>solvent</td><td>descriptors</td><td>17 descriptors of the solvent</td><td>459 examples of 17 descriptors</td></tr></table>"
      ],
      "text/plain": [
       "<summit.domain.Domain at 0x11ae70e48>"
      ]
     },
     "execution_count": 5,
     "metadata": {},
     "output_type": "execute_result"
    }
   ],
   "source": [
    "#Specify the optimization space\n",
    "\n",
    "domain = Domain()\n",
    "\n",
    "domain += ContinuousVariable(name='temperature',\n",
    "                             description = \"reaction temperature\",\n",
    "                             bounds=[20, 50])\n",
    "\n",
    "domain += ContinuousVariable(name=\"acid_conc\",\n",
    "                             description = \"propionic acid concentration\",\n",
    "                             bounds=[1,40])\n",
    "\n",
    "domain += ContinuousVariable(name=\"cat_load\",\n",
    "                             description = \"catalyst loading\",\n",
    "                             bounds=[0.1, 10])\n",
    "\n",
    "domain += ContinuousVariable(name=\"co_cat_load\",\n",
    "                             description = \"co-catalyst loading\",\n",
    "                             bounds=[15, 1500])\n",
    "\n",
    "domain += ContinuousVariable(name=\"acrylate_amine_ratio\",\n",
    "                             description = \"molar ratio of acrylate to amine\",\n",
    "                             bounds = [0.8, 2])\n",
    "\n",
    "\n",
    "domain += ContinuousVariable(name=\"aldehyde_amine_ratio\",\n",
    "                             description = \"molar ratio of aldehyde to amine\",\n",
    "                             bounds=[0.8, 2])\n",
    "\n",
    "domain += DiscreteVariable(name=\"co_cat\",\n",
    "                           description=\"enumeration of the two potential cocatalysts\",\n",
    "                           levels = ['co_cat_1', 'co_cat_2'])\n",
    "\n",
    "\n",
    "domain += DescriptorsVariable(name=\"solvent\",\n",
    "                             description=\"17 descriptors of the solvent\",\n",
    "                             df=solvent_ds,\n",
    "                             select_subset=successful_cas_numbers,\n",
    "                             select_index='cas_number')\n",
    "\n",
    "domain #The domain should display as an html table "
   ]
  },
  {
   "cell_type": "markdown",
   "metadata": {},
   "source": [
    "## 2. Construct Initial Design"
   ]
  },
  {
   "cell_type": "code",
   "execution_count": 1,
   "metadata": {},
   "outputs": [
    {
     "ename": "NameError",
     "evalue": "name 'LatinDesign' is not defined",
     "output_type": "error",
     "traceback": [
      "\u001b[0;31m---------------------------------------------------------------------------\u001b[0m",
      "\u001b[0;31mNameError\u001b[0m                                 Traceback (most recent call last)",
      "\u001b[0;32m<ipython-input-1-da08da0ef5e8>\u001b[0m in \u001b[0;36m<module>\u001b[0;34m\u001b[0m\n\u001b[0;32m----> 1\u001b[0;31m \u001b[0mlhs\u001b[0m \u001b[0;34m=\u001b[0m \u001b[0mLatinDesign\u001b[0m\u001b[0;34m(\u001b[0m\u001b[0mdomain\u001b[0m\u001b[0;34m)\u001b[0m\u001b[0;34m\u001b[0m\u001b[0;34m\u001b[0m\u001b[0m\n\u001b[0m\u001b[1;32m      2\u001b[0m \u001b[0mexperiments\u001b[0m \u001b[0;34m=\u001b[0m \u001b[0mlhs\u001b[0m\u001b[0;34m.\u001b[0m\u001b[0mgenerate_experiments\u001b[0m\u001b[0;34m(\u001b[0m\u001b[0;36m20\u001b[0m\u001b[0;34m)\u001b[0m\u001b[0;34m\u001b[0m\u001b[0;34m\u001b[0m\u001b[0m\n\u001b[1;32m      3\u001b[0m \u001b[0mexperiments\u001b[0m\u001b[0;34m\u001b[0m\u001b[0;34m\u001b[0m\u001b[0m\n",
      "\u001b[0;31mNameError\u001b[0m: name 'LatinDesign' is not defined"
     ]
    }
   ],
   "source": [
    "lhs = LatinDesign(domain)\n",
    "experiments = lhs.generate_experiments(20)\n",
    "experiments"
   ]
  },
  {
   "cell_type": "code",
   "execution_count": 7,
   "metadata": {},
   "outputs": [],
   "source": [
    "expr_df = experiments.to_frame()\n",
    "expr_df.to_csv('initial_experiments.csv')"
   ]
  },
  {
   "cell_type": "code",
   "execution_count": 2,
   "metadata": {},
   "outputs": [],
   "source": [
    "x = [1,1,2]"
   ]
  },
  {
   "cell_type": "code",
   "execution_count": null,
   "metadata": {},
   "outputs": [],
   "source": []
  }
 ],
 "metadata": {
  "kernelspec": {
   "display_name": "Python 3",
   "language": "python",
   "name": "python3"
  },
  "language_info": {
   "codemirror_mode": {
    "name": "ipython",
    "version": 3
   },
   "file_extension": ".py",
   "mimetype": "text/x-python",
   "name": "python",
   "nbconvert_exporter": "python",
   "pygments_lexer": "ipython3",
   "version": "3.6.8"
  }
 },
 "nbformat": 4,
 "nbformat_minor": 2
}
