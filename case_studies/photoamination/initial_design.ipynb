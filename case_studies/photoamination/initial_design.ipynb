{
 "cells": [
  {
   "cell_type": "markdown",
   "metadata": {},
   "source": [
    "# Initial Design\n",
    "\n",
    "This notebook contains the code used to select the reaction conditions tested for initial training of the GP. A modified latin hypercube sampling (LHS) strategy is used to select both discrete and continuous variables.  We previously demonstrated that several different designs work well for solvent selection, so LHS was chosen since it is already implemented by GPyOpt.  "
   ]
  },
  {
   "cell_type": "markdown",
   "metadata": {},
   "source": [
    "## 1. Setup\n",
    "\n",
    "Let's get everything loaded and ready to go."
   ]
  },
  {
   "cell_type": "code",
   "execution_count": 1,
   "metadata": {},
   "outputs": [],
   "source": [
    "#Autoreload automatically reloads any depdencies as you change them\n",
    "%load_ext autoreload\n",
    "%autoreload 2"
   ]
  },
  {
   "cell_type": "code",
   "execution_count": 3,
   "metadata": {},
   "outputs": [],
   "source": [
    "#Import all the necessary packages\n",
    "import summit\n",
    "from summit.data import solvent_ds\n",
    "from summit.domain import Domain, ContinuousVariable, DiscreteVariable, DescriptorsVariable\n",
    "import GPyOpt\n",
    "import numpy as np\n",
    "import pandas as pd\n",
    "import matplotlib.pyplot as plt\n",
    "from tqdm import tqdm"
   ]
  },
  {
   "cell_type": "code",
   "execution_count": 16,
   "metadata": {},
   "outputs": [
    {
     "data": {
      "text/html": [
       "<table id='domain' width=100%><tr><td><b>Name</b></td><td><b>Type</b></td><td><b>Description</b></td><td><b>Values</b></td></tr><tr><td>temperature</td><td>continuous</td><td>reaction temperature</td><td>[20,50]</td></tr><tr><td>acid_conc</td><td>continuous</td><td>propionic acid concentration</td><td>[1,40]</td></tr><tr><td>cat_load</td><td>continuous</td><td>catalyst loading</td><td>[0.1,10]</td></tr><tr><td>co_cat_load</td><td>continuous</td><td>co-catalyst loading</td><td>[15,1500]</td></tr><tr><td>acrylate_amine_ratio</td><td>continuous</td><td>molar ratio of acrylate to amine</td><td>[0.8,2]</td></tr><tr><td>aldehyde_amine_ratio</td><td>continuous</td><td>molar ratio of aldehyde to amine</td><td>[0.8,2]</td></tr><tr><td>co_cat</td><td>discrete</td><td>enumeration of the two potential cocatalysts</td><td>2 levels</td></tr><tr><td>solvent</td><td>descriptors</td><td>18 descriptors of the solvents</td><td>459 examples of 17 descriptors</td></tr></table>"
      ],
      "text/plain": [
       "<summit.domain.Domain at 0x11c5fe390>"
      ]
     },
     "execution_count": 16,
     "metadata": {},
     "output_type": "execute_result"
    }
   ],
   "source": [
    "#Specify the optimization space\n",
    "\n",
    "domain = Domain()\n",
    "\n",
    "domain += ContinuousVariable(name='temperature',\n",
    "                             description = \"reaction temperature\",\n",
    "                             bounds=[20, 50])\n",
    "\n",
    "domain += ContinuousVariable(name=\"acid_conc\",\n",
    "                             description = \"propionic acid concentration\",\n",
    "                             bounds=[1,40])\n",
    "\n",
    "domain += ContinuousVariable(name=\"cat_load\",\n",
    "                             description = \"catalyst loading\",\n",
    "                             bounds=[0.1, 10])\n",
    "\n",
    "domain += ContinuousVariable(name=\"co_cat_load\",\n",
    "                             description = \"co-catalyst loading\",\n",
    "                             bounds=[15, 1500])\n",
    "\n",
    "domain += ContinuousVariable(name=\"acrylate_amine_ratio\",\n",
    "                             description = \"molar ratio of acrylate to amine\",\n",
    "                             bounds = [0.8, 2])\n",
    "\n",
    "\n",
    "domain += ContinuousVariable(name=\"aldehyde_amine_ratio\",\n",
    "                             description = \"molar ratio of aldehyde to amine\",\n",
    "                             bounds=[0.8, 2])\n",
    "\n",
    "domain += DiscreteVariable(name=\"co_cat\",\n",
    "                           description=\"enumeration of the two potential cocatalysts\",\n",
    "                           levels = ['co_cat_1', 'co_cat_2'])\n",
    "\n",
    "\n",
    "domain += DescriptorsVariable(name=\"solvent\",\n",
    "                             description=\"18 descriptors of the solvents\",\n",
    "                             df=solvent_ds)\n",
    "\n",
    "domain #The domain should display as a pandas dataframe"
   ]
  },
  {
   "cell_type": "code",
   "execution_count": null,
   "metadata": {},
   "outputs": [],
   "source": [
    "#Specify the optimization space\n",
    "\n",
    "domain = OptimizationDomain()\n",
    "\n",
    "domain += ContinuousVariable(name='temperature',\n",
    "                             description = \"reaction temperature\",\n",
    "                             bounds=[20, 50], \n",
    "                             units=units.degC)\n",
    "\n",
    "domain += ContinuousVariable(name=\"acid_conc\",\n",
    "                             description = \"propionic acid concentration\",\n",
    "                             bounds=[1,40],\n",
    "                             units=units.millimolar)\n",
    "\n",
    "domain += ContinuousVariable(name=\"cat_load\",\n",
    "                             description = \"catalyst loading\",\n",
    "                             bounds=[0.1, 10],\n",
    "                             units=units.millimolar)\n",
    "\n",
    "domain += ContinuousVariable(name=\"co_cat_load\",\n",
    "                             description = \"co-catalyst loading\",\n",
    "                             bounds=[15, 1500],\n",
    "                             units=units.millimolar)\n",
    "\n",
    "domain += ContinuousVariable(name=\"acrylate_amine_ratio\",\n",
    "                             description = \"molar ratio of acrylate to amine\",\n",
    "                             bounds = [0.8, 2])\n",
    "\n",
    "\n",
    "domain += ContinuousVariable(name=\"aldehyde_amine_ratio\",\n",
    "                             description = \"molar ratio of aldehyde to amine\",\n",
    "                             bounds=[0.8, 2])\n",
    "\n",
    "domain += DiscreteVariable(name=\"co_cat\",\n",
    "                           description=\"Enumeration of the two potential cocatalysts\",\n",
    "                           values = ['co_cat_1', 'co_cat_2'])\n",
    "\n",
    "\n",
    "domain += SolventDescriptorSet(select_subset=summit.data.UCB_CPRD_GUIDE)\n",
    "\n",
    "domain #The domain should display as a pandas dataframe"
   ]
  },
  {
   "cell_type": "code",
   "execution_count": 13,
   "metadata": {},
   "outputs": [],
   "source": [
    "variables = [{'name': 'solvent', 'type': 'bandit', 'domain':solvent_ds.values}]\n",
    "domain = GPyOpt.Design_space(variables)"
   ]
  },
  {
   "cell_type": "markdown",
   "metadata": {},
   "source": [
    "## 2. Construct Initial Design"
   ]
  },
  {
   "cell_type": "code",
   "execution_count": 14,
   "metadata": {},
   "outputs": [
    {
     "data": {
      "text/plain": [
       "array([[ 1.00000e+02,  6.73000e-01,  1.48900e+02,  1.38200e+00,\n",
       "         3.46900e+01,  1.91000e+00,  0.00000e+00, -1.19000e+02,\n",
       "         8.10000e+01,  3.60000e-01,  4.09000e+00,  1.55220e+02,\n",
       "         0.00000e+00,  1.68045e+01,  0.00000e+00,  0.00000e+00,\n",
       "         1.23900e-01],\n",
       "       [ 1.24000e+02,  1.05700e+00,  1.17500e+02,  1.58500e+00,\n",
       "         3.93800e+01,  4.76000e+00,  1.31000e+00, -1.50000e+01,\n",
       "         1.88000e+02,  1.64000e+00,  2.64000e+00,  6.30000e-01,\n",
       "         1.41900e-01,  1.59746e+01,  1.87600e-01,  0.00000e+00,\n",
       "         4.03710e+00],\n",
       "       [ 7.30000e+01,  9.46000e-01,  7.73000e+01,  1.43300e+00,\n",
       "         2.00800e+01,  1.78900e+02,  4.12000e+00,  2.80000e+01,\n",
       "         2.05000e+02,  2.68000e+00, -1.37000e+00,  4.30000e-01,\n",
       "         8.13200e-01,  8.93270e+00,  1.92720e+00,  3.55500e-01,\n",
       "         2.73180e+00],\n",
       "       [ 1.82000e+02,  9.66000e-01,  1.88700e+02,  1.57000e+00,\n",
       "         6.19300e+01,  2.38000e+00,  0.00000e+00,  5.20000e+01,\n",
       "         2.85000e+02,  6.74000e+00,  4.30000e+00,  0.00000e+00,\n",
       "         2.57000e-02,  2.34542e+01,  0.00000e+00,  0.00000e+00,\n",
       "         4.60040e+00],\n",
       "       [ 1.14000e+02,  6.92000e-01,  1.65000e+02,  1.39100e+00,\n",
       "         3.92600e+01,  1.94000e+00,  0.00000e+00, -1.07000e+02,\n",
       "         9.90000e+01,  4.20000e-01,  4.33000e+00,  7.06600e+01,\n",
       "         0.00000e+00,  1.79617e+01,  0.00000e+00,  0.00000e+00,\n",
       "         1.37200e-01],\n",
       "       [ 1.42000e+02,  2.28200e+00,  6.22000e+01,  1.53200e+00,\n",
       "         1.92700e+01,  6.92000e+00,  1.63000e+00, -6.70000e+01,\n",
       "         4.20000e+01,  3.30000e-01,  1.30000e+00,  2.74760e+02,\n",
       "         2.24000e-01,  8.97070e+00,  0.00000e+00,  0.00000e+00,\n",
       "         2.16110e+00],\n",
       "       [ 1.72000e+02,  8.30000e-01,  2.07700e+02,  1.43900e+00,\n",
       "         5.46400e+01,  5.98000e+00,  1.70000e+00,  1.90000e+01,\n",
       "         2.43000e+02,  1.97300e+01,  4.70000e+00,  0.00000e+00,\n",
       "         7.33000e-01,  2.48650e+01,  1.15140e+00,  3.17900e-01,\n",
       "         9.38200e-01],\n",
       "       [ 1.44000e+02,  9.10000e-01,  1.58500e+02,  1.42800e+00,\n",
       "         4.07500e+01,  3.20000e+00,  1.15000e+00,  1.70000e+01,\n",
       "         2.37000e+02,  2.40000e-01,  2.19000e+00,  2.25972e+03,\n",
       "         9.69900e-01,  1.18274e+01,  0.00000e+00,  4.22200e-01,\n",
       "         1.15450e+00],\n",
       "       [ 1.04000e+02,  1.08100e+00,  9.63000e+01,  1.52900e+00,\n",
       "         2.97000e+01,  9.37700e+01,  1.96000e+00,  2.70000e+01,\n",
       "         2.13000e+02,  2.06000e+00,  1.40000e-01,  4.00000e-02,\n",
       "         1.00350e+00,  1.17679e+01,  1.45210e+00,  0.00000e+00,\n",
       "         3.55680e+00],\n",
       "       [ 1.35000e+02,  1.12900e+00,  1.19800e+02,  1.64900e+00,\n",
       "         4.36400e+01,  1.04000e+01,  2.85000e+00, -2.10000e+01,\n",
       "         2.19000e+02,  1.71000e+00,  3.20000e+00,  4.00000e-01,\n",
       "         2.34400e-01,  1.71705e+01,  0.00000e+00,  0.00000e+00,\n",
       "         3.26800e+00]])"
      ]
     },
     "execution_count": 14,
     "metadata": {},
     "output_type": "execute_result"
    }
   ],
   "source": [
    "lhs = GPyOpt.experiment_design.latin_design.LatinDesign(domain)\n",
    "exps = lhs.get_samples(10, criterion='maximin')\n",
    "exps"
   ]
  },
  {
   "cell_type": "code",
   "execution_count": null,
   "metadata": {},
   "outputs": [],
   "source": [
    "lhs.pca_plot(exps, n_components=2)"
   ]
  },
  {
   "cell_type": "code",
   "execution_count": null,
   "metadata": {},
   "outputs": [],
   "source": [
    "lhs.design_coverage()"
   ]
  }
 ],
 "metadata": {
  "kernelspec": {
   "display_name": "Python 3",
   "language": "python",
   "name": "python3"
  },
  "language_info": {
   "codemirror_mode": {
    "name": "ipython",
    "version": 3
   },
   "file_extension": ".py",
   "mimetype": "text/x-python",
   "name": "python",
   "nbconvert_exporter": "python",
   "pygments_lexer": "ipython3",
   "version": "3.6.8"
  }
 },
 "nbformat": 4,
 "nbformat_minor": 2
}
