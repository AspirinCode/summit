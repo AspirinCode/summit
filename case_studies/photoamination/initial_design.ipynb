{
 "cells": [
  {
   "cell_type": "markdown",
   "metadata": {},
   "source": [
    "# Initial Design\n",
    "\n",
    "This notebook contains the code used to select the reaction conditions tested for initial training of the GP. A modified latin hypercube sampling (LHS) strategy is used to select both discrete and continuous variables.  We previously demonstrated that several different designs work well for solvent selection, so LHS was chosen since it is already implemented by GPyOpt.  "
   ]
  },
  {
   "cell_type": "markdown",
   "metadata": {},
   "source": [
    "## 1. Setup\n",
    "\n",
    "Let's get everything loaded and ready to go."
   ]
  },
  {
   "cell_type": "code",
   "execution_count": 17,
   "metadata": {},
   "outputs": [
    {
     "name": "stdout",
     "output_type": "stream",
     "text": [
      "The autoreload extension is already loaded. To reload it, use:\n",
      "  %reload_ext autoreload\n"
     ]
    }
   ],
   "source": [
    "#Autoreload automatically reloads any depdencies as you change them\n",
    "%load_ext autoreload\n",
    "%autoreload 2"
   ]
  },
  {
   "cell_type": "code",
   "execution_count": 59,
   "metadata": {},
   "outputs": [],
   "source": [
    "#Import all the necessary packages\n",
    "from summit.data import solvent_ds\n",
    "from summit.domain import Domain, ContinuousVariable, DiscreteVariable, DescriptorsVariable\n",
    "from summit.experiment_design import LatinDesign\n",
    "from summit.utils.dataframe import normalize_df, zero_one_scale_df\n",
    "import numpy as np\n",
    "import pandas as pd\n",
    "import matplotlib.pyplot as plt\n",
    "from tqdm import tqdm"
   ]
  },
  {
   "cell_type": "code",
   "execution_count": 62,
   "metadata": {},
   "outputs": [
    {
     "data": {
      "text/html": [
       "<table id='domain' width=100%><tr><td><b>Name</b></td><td><b>Type</b></td><td><b>Description</b></td><td><b>Values</b></td></tr><tr><td>temperature</td><td>continuous</td><td>reaction temperature</td><td>[20,50]</td></tr><tr><td>acid_conc</td><td>continuous</td><td>propionic acid concentration</td><td>[1,40]</td></tr><tr><td>cat_load</td><td>continuous</td><td>catalyst loading</td><td>[0.1,10]</td></tr><tr><td>co_cat_load</td><td>continuous</td><td>co-catalyst loading</td><td>[15,1500]</td></tr><tr><td>acrylate_amine_ratio</td><td>continuous</td><td>molar ratio of acrylate to amine</td><td>[0.8,2]</td></tr><tr><td>aldehyde_amine_ratio</td><td>continuous</td><td>molar ratio of aldehyde to amine</td><td>[0.8,2]</td></tr><tr><td>co_cat</td><td>discrete</td><td>enumeration of the two potential cocatalysts</td><td>2 levels</td></tr><tr><td>solvent</td><td>descriptors</td><td>18 descriptors of the solvent</td><td>459 examples of 17 descriptors</td></tr></table>"
      ],
      "text/plain": [
       "<summit.domain.Domain at 0x118393550>"
      ]
     },
     "execution_count": 62,
     "metadata": {},
     "output_type": "execute_result"
    }
   ],
   "source": [
    "#Specify the optimization space\n",
    "\n",
    "domain = Domain()\n",
    "\n",
    "domain += ContinuousVariable(name='temperature',\n",
    "                             description = \"reaction temperature\",\n",
    "                             bounds=[20, 50])\n",
    "\n",
    "domain += ContinuousVariable(name=\"acid_conc\",\n",
    "                             description = \"propionic acid concentration\",\n",
    "                             bounds=[1,40])\n",
    "\n",
    "domain += ContinuousVariable(name=\"cat_load\",\n",
    "                             description = \"catalyst loading\",\n",
    "                             bounds=[0.1, 10])\n",
    "\n",
    "domain += ContinuousVariable(name=\"co_cat_load\",\n",
    "                             description = \"co-catalyst loading\",\n",
    "                             bounds=[15, 1500])\n",
    "\n",
    "domain += ContinuousVariable(name=\"acrylate_amine_ratio\",\n",
    "                             description = \"molar ratio of acrylate to amine\",\n",
    "                             bounds = [0.8, 2])\n",
    "\n",
    "\n",
    "domain += ContinuousVariable(name=\"aldehyde_amine_ratio\",\n",
    "                             description = \"molar ratio of aldehyde to amine\",\n",
    "                             bounds=[0.8, 2])\n",
    "\n",
    "domain += DiscreteVariable(name=\"co_cat\",\n",
    "                           description=\"enumeration of the two potential cocatalysts\",\n",
    "                           levels = ['co_cat_1', 'co_cat_2'])\n",
    "\n",
    "\n",
    "domain += DescriptorsVariable(name=\"solvent\",\n",
    "                             description=\"18 descriptors of the solvent\",\n",
    "                             df=solvent_ds)\n",
    "\n",
    "domain #The domain should display as an html table "
   ]
  },
  {
   "cell_type": "markdown",
   "metadata": {},
   "source": [
    "## 2. Construct Initial Design"
   ]
  },
  {
   "cell_type": "code",
   "execution_count": 66,
   "metadata": {},
   "outputs": [
    {
     "data": {
      "text/html": [
       "<table border=\"1\" class=\"dataframe\">\n",
       "  <thead>\n",
       "    <tr style=\"text-align: right;\">\n",
       "      <th></th>\n",
       "      <th>temperature</th>\n",
       "      <th>acid_conc</th>\n",
       "      <th>cat_load</th>\n",
       "      <th>co_cat_load</th>\n",
       "      <th>acrylate_amine_ratio</th>\n",
       "      <th>aldehyde_amine_ratio</th>\n",
       "      <th>co_cat</th>\n",
       "      <th>stenutz_name</th>\n",
       "      <th>cosmo_name</th>\n",
       "      <th>cas_number</th>\n",
       "      <th>chemical_formula</th>\n",
       "    </tr>\n",
       "  </thead>\n",
       "  <tbody>\n",
       "    <tr>\n",
       "      <th>0</th>\n",
       "      <td>45.5</td>\n",
       "      <td>34.15</td>\n",
       "      <td>4.555</td>\n",
       "      <td>1425.75</td>\n",
       "      <td>1.22</td>\n",
       "      <td>1.82</td>\n",
       "      <td>co_cat_1</td>\n",
       "      <td>1-dodecanol</td>\n",
       "      <td>dodecanol</td>\n",
       "      <td>112-53-8</td>\n",
       "      <td>C12H26O</td>\n",
       "    </tr>\n",
       "    <tr>\n",
       "      <th>1</th>\n",
       "      <td>36.5</td>\n",
       "      <td>38.05</td>\n",
       "      <td>1.585</td>\n",
       "      <td>89.25</td>\n",
       "      <td>0.86</td>\n",
       "      <td>1.10</td>\n",
       "      <td>co_cat_2</td>\n",
       "      <td>2-methyl-2-phenylpropane</td>\n",
       "      <td>(1,1-dimethylethyl)benzene</td>\n",
       "      <td>98-06-6</td>\n",
       "      <td>C10H14</td>\n",
       "    </tr>\n",
       "    <tr>\n",
       "      <th>2</th>\n",
       "      <td>48.5</td>\n",
       "      <td>2.95</td>\n",
       "      <td>6.535</td>\n",
       "      <td>534.75</td>\n",
       "      <td>1.94</td>\n",
       "      <td>1.94</td>\n",
       "      <td>co_cat_2</td>\n",
       "      <td>2-methyl-2-phenylpropane</td>\n",
       "      <td>(1,1-dimethylethyl)benzene</td>\n",
       "      <td>98-06-6</td>\n",
       "      <td>C10H14</td>\n",
       "    </tr>\n",
       "    <tr>\n",
       "      <th>3</th>\n",
       "      <td>39.5</td>\n",
       "      <td>6.85</td>\n",
       "      <td>9.505</td>\n",
       "      <td>1277.25</td>\n",
       "      <td>1.82</td>\n",
       "      <td>0.86</td>\n",
       "      <td>co_cat_2</td>\n",
       "      <td>trifluoroacetic acid</td>\n",
       "      <td>trifluoroaceticacid</td>\n",
       "      <td>76-05-1</td>\n",
       "      <td>C2HF3O2</td>\n",
       "    </tr>\n",
       "    <tr>\n",
       "      <th>4</th>\n",
       "      <td>27.5</td>\n",
       "      <td>30.25</td>\n",
       "      <td>7.525</td>\n",
       "      <td>237.75</td>\n",
       "      <td>1.58</td>\n",
       "      <td>1.22</td>\n",
       "      <td>co_cat_2</td>\n",
       "      <td>1,3-dioxolan-2-one</td>\n",
       "      <td>1,3-dioxolan-2-one</td>\n",
       "      <td>96-49-1</td>\n",
       "      <td>C3H4O3</td>\n",
       "    </tr>\n",
       "    <tr>\n",
       "      <th>5</th>\n",
       "      <td>30.5</td>\n",
       "      <td>10.75</td>\n",
       "      <td>2.575</td>\n",
       "      <td>831.75</td>\n",
       "      <td>1.46</td>\n",
       "      <td>1.58</td>\n",
       "      <td>co_cat_1</td>\n",
       "      <td>3-bromoaniline</td>\n",
       "      <td>3-bromoaniline</td>\n",
       "      <td>591-19-5</td>\n",
       "      <td>C6H6BrN</td>\n",
       "    </tr>\n",
       "    <tr>\n",
       "      <th>6</th>\n",
       "      <td>21.5</td>\n",
       "      <td>22.45</td>\n",
       "      <td>5.545</td>\n",
       "      <td>980.25</td>\n",
       "      <td>0.98</td>\n",
       "      <td>1.34</td>\n",
       "      <td>co_cat_2</td>\n",
       "      <td>tetranitromethane</td>\n",
       "      <td>tetranitro-methane</td>\n",
       "      <td>509-14-8</td>\n",
       "      <td>CN4O8</td>\n",
       "    </tr>\n",
       "    <tr>\n",
       "      <th>7</th>\n",
       "      <td>42.5</td>\n",
       "      <td>14.65</td>\n",
       "      <td>3.565</td>\n",
       "      <td>1128.75</td>\n",
       "      <td>1.10</td>\n",
       "      <td>1.70</td>\n",
       "      <td>co_cat_1</td>\n",
       "      <td>4-methoxyaniline</td>\n",
       "      <td>p-anisidine</td>\n",
       "      <td>104-94-9</td>\n",
       "      <td>C7H9NO</td>\n",
       "    </tr>\n",
       "    <tr>\n",
       "      <th>8</th>\n",
       "      <td>33.5</td>\n",
       "      <td>18.55</td>\n",
       "      <td>0.595</td>\n",
       "      <td>683.25</td>\n",
       "      <td>1.70</td>\n",
       "      <td>0.98</td>\n",
       "      <td>co_cat_2</td>\n",
       "      <td>2-methyl-2-phenylpropane</td>\n",
       "      <td>(1,1-dimethylethyl)benzene</td>\n",
       "      <td>98-06-6</td>\n",
       "      <td>C10H14</td>\n",
       "    </tr>\n",
       "    <tr>\n",
       "      <th>9</th>\n",
       "      <td>24.5</td>\n",
       "      <td>26.35</td>\n",
       "      <td>8.515</td>\n",
       "      <td>386.25</td>\n",
       "      <td>1.34</td>\n",
       "      <td>1.46</td>\n",
       "      <td>co_cat_2</td>\n",
       "      <td>sulfolane</td>\n",
       "      <td>tetrahydrothiophene-1,1-dioxide</td>\n",
       "      <td>126-33-0</td>\n",
       "      <td>C4H8O2S</td>\n",
       "    </tr>\n",
       "  </tbody>\n",
       "</table>"
      ],
      "text/plain": [
       "<summit.experiment_design.Design at 0x117ecb4e0>"
      ]
     },
     "execution_count": 66,
     "metadata": {},
     "output_type": "execute_result"
    }
   ],
   "source": [
    "lhs = LatinDesign(domain)\n",
    "experiments = lhs.generate_experiments(10)\n",
    "experiments"
   ]
  },
  {
   "cell_type": "code",
   "execution_count": 68,
   "metadata": {},
   "outputs": [],
   "source": [
    "expr_df = experiments.to_frame()\n",
    "expr_df.to_csv('initial_experiments.csv')"
   ]
  },
  {
   "cell_type": "code",
   "execution_count": null,
   "metadata": {},
   "outputs": [],
   "source": []
  }
 ],
 "metadata": {
  "kernelspec": {
   "display_name": "Python 3",
   "language": "python",
   "name": "python3"
  },
  "language_info": {
   "codemirror_mode": {
    "name": "ipython",
    "version": 3
   },
   "file_extension": ".py",
   "mimetype": "text/x-python",
   "name": "python",
   "nbconvert_exporter": "python",
   "pygments_lexer": "ipython3",
   "version": "3.6.8"
  }
 },
 "nbformat": 4,
 "nbformat_minor": 2
}
