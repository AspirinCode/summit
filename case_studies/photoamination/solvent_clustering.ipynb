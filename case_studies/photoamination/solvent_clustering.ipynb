{
 "cells": [
  {
   "cell_type": "markdown",
   "metadata": {},
   "source": [
    "# Solvent Dimensionality Reduction and Clustering\n",
    "\n",
    "I want to reduce the dimensions of the solvent descriptors and cluster the data in order to find several solvents to sample from.\n",
    "\n",
    "Ideas:\n",
    "* How well do the classes from the UCB dataset (like the chemist labeling) line up with the clusters identified by the algorithm?\n",
    "* Can you use LDA with existing chemist labeling (the problem with that is that the existing labeling is very robust)."
   ]
  },
  {
   "cell_type": "code",
   "execution_count": 3,
   "metadata": {},
   "outputs": [],
   "source": [
    "from summit.data import DataSet, solvent_ds, ucb_ds\n",
    "\n",
    "from sklearn.decomposition import PCA"
   ]
  },
  {
   "cell_type": "code",
   "execution_count": 19,
   "metadata": {},
   "outputs": [
    {
     "name": "stdout",
     "output_type": "stream",
     "text": [
      "Solvents in the UCB list: 115. Solvents in the final list: 80\n"
     ]
    }
   ],
   "source": [
    "#Reduce the solvent dataset to only use solvents approved by UCB Pharma\n",
    "solvent_ds_ucb = solvent_ds.reindex(ucb_ds.index)\n",
    "solvent_ds_ucb = solvent_ds_ucb.dropna()\n",
    "print(f\"Solvents in the UCB list: {ucb_ds.shape[0]}. Solvents in the final list: {solvent_ds_ucb.shape[0]}\")"
   ]
  },
  {
   "cell_type": "markdown",
   "metadata": {},
   "source": [
    "Based on this [article by Adolfsson et al.](https://arxiv.org/pdf/1808.08317.pdf), the dip statistic is suggested as a method for testing clusterability.  In other words, answering the question: Does this dataset have clusters?"
   ]
  },
  {
   "cell_type": "markdown",
   "metadata": {},
   "source": [
    "* "
   ]
  }
 ],
 "metadata": {
  "kernelspec": {
   "display_name": "Python 3",
   "language": "python",
   "name": "python3"
  },
  "language_info": {
   "codemirror_mode": {
    "name": "ipython",
    "version": 3
   },
   "file_extension": ".py",
   "mimetype": "text/x-python",
   "name": "python",
   "nbconvert_exporter": "python",
   "pygments_lexer": "ipython3",
   "version": "3.6.8"
  }
 },
 "nbformat": 4,
 "nbformat_minor": 4
}
