{
 "cells": [
  {
   "cell_type": "markdown",
   "metadata": {},
   "source": [
    "# Web Interface"
   ]
  },
  {
   "cell_type": "code",
   "execution_count": 1,
   "metadata": {},
   "outputs": [],
   "source": [
    "%load_ext autoreload\n",
    "%autoreload 2"
   ]
  },
  {
   "cell_type": "code",
   "execution_count": 6,
   "metadata": {},
   "outputs": [],
   "source": [
    "from summit.data import DataSet\n",
    "from summit.domain import ContinuousVariable, Constraint, Domain\n",
    "from summit.strategies import TSEMO2\n",
    "from summit.models import GPyModel, AnalyticalModel\n",
    "from summit.utils import pareto_efficient\n",
    "\n",
    "from sklearn.model_selection import KFold\n",
    "import numpy as np\n",
    "import pandas as pd\n",
    "import matplotlib.pyplot as plt\n",
    "import mpl_toolkits.mplot3d.art3d as art3d\n",
    "\n",
    "from functools import partial\n",
    "import io\n",
    "import string\n",
    "import random\n",
    "\n",
    "import ipywidgets as widgets\n",
    "from IPython.display import display\n",
    "# from tqdm import tqdm_notebook"
   ]
  },
  {
   "cell_type": "markdown",
   "metadata": {},
   "source": [
    "## 1. Set up problem"
   ]
  },
  {
   "cell_type": "markdown",
   "metadata": {},
   "source": [
    "We will first import the existing data.  Here, we show the last 5 experiments."
   ]
  },
  {
   "cell_type": "code",
   "execution_count": 3,
   "metadata": {},
   "outputs": [],
   "source": [
    "def random_string(stringLength=10):\n",
    "    \"\"\"Generate a random string of fixed length \"\"\"\n",
    "    letters = string.ascii_lowercase\n",
    "    return ''.join(random.choice(letters) for i in range(stringLength))"
   ]
  },
  {
   "cell_type": "code",
   "execution_count": 7,
   "metadata": {},
   "outputs": [],
   "source": [
    "\n",
    "def create_file_uploader(file_id):\n",
    "    data_upload = widgets.FileUpload(\n",
    "        accept='*.xslx',  # Accepted file extension e.g. '.txt', '.pdf', 'image/*', 'image/*,.pdf'\n",
    "        multiple=False  # True to accept multiple files upload else False\n",
    "    )\n",
    "    output = widgets.Output()\n",
    "\n",
    "    \n",
    "\n",
    "    @output.capture()\n",
    "    def display_data(file):\n",
    "        keys = file['new'].keys()\n",
    "        filename = list(keys)[0] \n",
    "        excel_raw = file['new'][filename]['content']\n",
    "        f = io.BytesIO(excel_raw)\n",
    "        data = pd.read_excel(f)\n",
    "        data.to_csv(f'tmp/{file_id}', index=False)\n",
    "        print('The last five rows from the spreadsheet.')\n",
    "        display(data.tail(5))\n",
    "    data_upload.observe(display_data, names='value')\n",
    "\n",
    "    with output:\n",
    "        display(data_upload)\n",
    "    # output\n",
    "    display(output)"
   ]
  },
  {
   "cell_type": "markdown",
   "metadata": {},
   "source": [
    "Select the columns of the spreadsheet that represent the **manipulated variables**. Use ctrl (or command on Mac) to make multiple selections."
   ]
  },
  {
   "cell_type": "code",
   "execution_count": 6,
   "metadata": {},
   "outputs": [
    {
     "data": {
      "application/vnd.jupyter.widget-view+json": {
       "model_id": "757ab7940f2b4ce3ad8c77972585e1c7",
       "version_major": 2,
       "version_minor": 0
      },
      "text/plain": [
       "SelectMultiple(description='Input columns', options=('No', 'Texapon', 'DehytonAB30', 'Plantacare818', 'CC7BZ',…"
      ]
     },
     "metadata": {},
     "output_type": "display_data"
    }
   ],
   "source": [
    "data = pd.read_csv(f'tmp/{file_id}')\n",
    "columns = data.columns.to_list()\n",
    "\n",
    "inputs_select = widgets.SelectMultiple(\n",
    "                        options=columns,\n",
    "                description=r'Input columns',\n",
    "                )\n",
    "display(inputs_select)"
   ]
  },
  {
   "cell_type": "markdown",
   "metadata": {},
   "source": [
    "Select the columns of the spreadsheet that represent the **objectives** (i.e., the variables being maximized or minimized). Use ctrl (or command on Mac) to make multiple selections."
   ]
  },
  {
   "cell_type": "code",
   "execution_count": 7,
   "metadata": {},
   "outputs": [
    {
     "data": {
      "application/vnd.jupyter.widget-view+json": {
       "model_id": "d815c756118440ffa791dd3ef3adb000",
       "version_major": 2,
       "version_minor": 0
      },
      "text/plain": [
       "SelectMultiple(description='Output columns', options=('No', 'Texapon', 'DehytonAB30', 'Plantacare818', 'CC7BZ'…"
      ]
     },
     "metadata": {},
     "output_type": "display_data"
    },
    {
     "data": {
      "application/vnd.jupyter.widget-view+json": {
       "model_id": "e096fa2f553f4f469081bbdb23f60cea",
       "version_major": 2,
       "version_minor": 0
      },
      "text/plain": [
       "Button(description='Add variables', style=ButtonStyle(), tooltip='Add variables to domain')"
      ]
     },
     "metadata": {},
     "output_type": "display_data"
    }
   ],
   "source": [
    "outputs_select = widgets.SelectMultiple(\n",
    "                        options=columns,\n",
    "                description=r'Output columns',\n",
    "                )\n",
    "\n",
    "continue_button = widgets.Button(\n",
    "    description='Add variables',\n",
    "    tooltip='Add variables to domain')\n",
    "\n",
    "display(outputs_select, continue_button)\n",
    "\n",
    "def get_input_outputs(b):\n",
    "    input_columns = inputs_select.value\n",
    "    output_columns = outputs_select.value\n",
    "    with open(f'tmp/{file_id}_inputs', 'w') as f:\n",
    "        [f.write(f'{column}\\n') for column in input_columns]\n",
    "        \n",
    "    with open(f'tmp/{file_id}_outputs', 'w') as f:\n",
    "        [f.write(f'{column}\\n') for column in output_columns]\n",
    "        \n",
    "continue_button.on_click(get_input_outputs)\n",
    "    "
   ]
  },
  {
   "cell_type": "code",
   "execution_count": 8,
   "metadata": {},
   "outputs": [],
   "source": [
    "def reopen(filename):\n",
    "    with open(filename, 'r') as f:\n",
    "        arr = []\n",
    "        while True:\n",
    "            line = f.readline()\n",
    "            line = line.rstrip('\\n')\n",
    "            if not line:\n",
    "                break\n",
    "            arr += [line]\n",
    "    return arr"
   ]
  },
  {
   "cell_type": "code",
   "execution_count": 9,
   "metadata": {},
   "outputs": [
    {
     "data": {
      "application/vnd.jupyter.widget-view+json": {
       "model_id": "2d47cf3cedb1428f8fcd227ef4a79646",
       "version_major": 2,
       "version_minor": 0
      },
      "text/plain": [
       "HTML(value='Select ranges for the <b>manipulated</b> variables.')"
      ]
     },
     "metadata": {},
     "output_type": "display_data"
    },
    {
     "data": {
      "application/vnd.jupyter.widget-view+json": {
       "model_id": "dd21d313e2314ce293a54ec2c1d64a4c",
       "version_major": 2,
       "version_minor": 0
      },
      "text/plain": [
       "GridBox(children=(Label(value='\\t'), Label(value='Lower'), Label(value='Upper'), Label(value='Texapon\\t'), Flo…"
      ]
     },
     "metadata": {},
     "output_type": "display_data"
    },
    {
     "data": {
      "application/vnd.jupyter.widget-view+json": {
       "model_id": "80023ff42ece4bc197c235c1e84bfb02",
       "version_major": 2,
       "version_minor": 0
      },
      "text/plain": [
       "HTML(value='Add constraint expressions if needed. The expression is the left hand side of an equation less tha…"
      ]
     },
     "metadata": {},
     "output_type": "display_data"
    },
    {
     "data": {
      "application/vnd.jupyter.widget-view+json": {
       "model_id": "f0ce5c398a134e8d849b8785d56d3d8e",
       "version_major": 2,
       "version_minor": 0
      },
      "text/plain": [
       "Textarea(value='', placeholder='e.g. 0.5*Texapon + ArlyponTT')"
      ]
     },
     "metadata": {},
     "output_type": "display_data"
    },
    {
     "data": {
      "application/vnd.jupyter.widget-view+json": {
       "model_id": "48e9550739434c818cb18076a6ac053e",
       "version_major": 2,
       "version_minor": 0
      },
      "text/plain": [
       "HTML(value='Select ranges and type for the <b>objective</b> variables.')"
      ]
     },
     "metadata": {},
     "output_type": "display_data"
    },
    {
     "data": {
      "application/vnd.jupyter.widget-view+json": {
       "model_id": "ba63e19bc294400aac9bb6deaad53e94",
       "version_major": 2,
       "version_minor": 0
      },
      "text/plain": [
       "GridBox(children=(Label(value='\\t'), Label(value='Lower'), Label(value='Upper'), Label(value='Max/Min'), Label…"
      ]
     },
     "metadata": {},
     "output_type": "display_data"
    }
   ],
   "source": [
    "#Set up the optimization problem domain\n",
    "\n",
    "\n",
    "input_columns = reopen(f'tmp/{file_id}_inputs')\n",
    "\n",
    "objective_columns = reopen(f'tmp/{file_id}_outputs')\n",
    "    \n",
    "domain = Domain()\n",
    "#Decision variables\n",
    "\n",
    "base_values = [0, 10]\n",
    "ranges = {}\n",
    "\n",
    "#Input Variables\n",
    "input_grid = [widgets.Label(t) for t in ['\\t', 'Lower', 'Upper']]\n",
    "display(widgets.HTML('Select ranges for the <b>manipulated</b> variables.'))\n",
    "for v in input_columns:\n",
    "    items = [widgets.FloatText(base_values[i]) for i in range(2)]\n",
    "    ranges[v] = items\n",
    "    input_grid += [widgets.Label(v + '\\t')] + items\n",
    "display(widgets.GridBox(input_grid, \n",
    "                       layout=widgets.Layout(grid_template_columns=\"repeat(3, 100px)\")))\n",
    "\n",
    "#Constraints\n",
    "constraints = []\n",
    "display(widgets.HTML('Add constraint expressions if needed. The expression is the left hand side of an equation less than or equal to zero. \\\n",
    "                      <br/>Each new constraint should be on its own line.'))\n",
    "placeholder = f'e.g. 0.5*{input_columns[0]} + {input_columns[-1]}'\n",
    "constraints_box = widgets.Textarea(placeholder=placeholder)\n",
    "display(constraints_box)\n",
    "\n",
    "\n",
    "#Output variables\n",
    "display(widgets.HTML('Select ranges and type for the <b>objective</b> variables.'))\n",
    "objective_grid = [widgets.Label(t) for t in ['\\t', 'Lower', 'Upper', 'Max/Min']]\n",
    "for v in objective_columns:\n",
    "    options = [widgets.FloatText(base_values[i]) for i in range(2)]\n",
    "    \n",
    "    options += [widgets.Dropdown(options=['Maximize', 'Minimize'])]\n",
    "    ranges[v] = options\n",
    "    objective_grid += [widgets.Label(v + '\\t')] + options\n",
    "#     display(widgets.HBox(items))\n",
    "display(widgets.GridBox(objective_grid, \n",
    "                layout=widgets.Layout(grid_template_columns=\"repeat(4, 100px)\")))"
   ]
  },
  {
   "cell_type": "code",
   "execution_count": 22,
   "metadata": {},
   "outputs": [
    {
     "data": {
      "text/html": [
       "<table id='domain' width=100%><tr><td><b>Name</b></td><td><b>Type</b></td><td><b>Description</b></td><td><b>Values</b></td></tr><tr><td>Texapon</td><td>continuous, input</td><td></td><td>[0.0,15.0]</td></tr><tr><td>DehytonAB30</td><td>continuous, input</td><td></td><td>[0.0,15.0]</td></tr><tr><td>Plantacare818</td><td>continuous, input</td><td></td><td>[0.0,15.0]</td></tr><tr><td>CC7BZ</td><td>continuous, input</td><td></td><td>[0.0,2.0]</td></tr><tr><td>ArlyponTT</td><td>continuous, input</td><td></td><td>[0.0,2.0]</td></tr><tr><td>viscosity</td><td>continuous, minimize objective</td><td></td><td>[0.0,1.0]</td></tr><tr><td>price</td><td>continuous, minimize objective</td><td></td><td>[0.0,1.0]</td></tr><tr><td>turbidity</td><td>continuous, minimize objective</td><td></td><td>[0.0,1.0]</td></tr><tr><td></td><td>constraint</td><td>Texapon + DehytonAB30 + Plantacare818-15</td><td></td></tr></table>"
      ],
      "text/plain": [
       "<summit.domain.Domain at 0x1227935f8>"
      ]
     },
     "execution_count": 22,
     "metadata": {},
     "output_type": "execute_result"
    }
   ],
   "source": [
    "#Create domain\n",
    "def create_domain():\n",
    "    domain = Domain()\n",
    "\n",
    "    #Inputs\n",
    "    for v in input_columns:\n",
    "        options = [b.value for b in ranges[v]]\n",
    "        domain += ContinuousVariable(v,description='', bounds=options)\n",
    "\n",
    "    #Constraints\n",
    "    constraints = constraints_box.value\n",
    "    constraints = constraints.split('\\n')\n",
    "    for c in constraints:\n",
    "        domain += Constraint(c)\n",
    "\n",
    "    #Objectives\n",
    "    for v in objective_columns:\n",
    "        options = [b.value for b in ranges[v]]\n",
    "        maximize = True if options[2]=='Maximize' else False\n",
    "        domain += ContinuousVariable(v, description='', bounds=options[0:2], \n",
    "                                     is_objective=True, maximize=maximize)\n",
    "    return domain\n",
    "domain = create_domain()\n",
    "domain"
   ]
  },
  {
   "cell_type": "code",
   "execution_count": 23,
   "metadata": {},
   "outputs": [],
   "source": [
    "#price function\n",
    "def price_function(X):\n",
    "    price = 135.13*X['Texapon']+63.95*X['DehytonAB30']+62.87*X['Plantacare818']+ \\\n",
    "            90*X['CC7BZ']+75*X['ArlyponTT']\n",
    "    price = price/1e4\n",
    "    return np.atleast_2d(price.to_numpy()).T"
   ]
  },
  {
   "cell_type": "markdown",
   "metadata": {},
   "source": [
    "## 2. Visualize Data"
   ]
  },
  {
   "cell_type": "markdown",
   "metadata": {},
   "source": [
    "Let's visualize the data now.  Here we show the approximate pareto front based on existing experimental data. It has been difficult to achieve low values of viscosity."
   ]
  },
  {
   "cell_type": "code",
   "execution_count": 12,
   "metadata": {},
   "outputs": [
    {
     "data": {
      "application/vnd.jupyter.widget-view+json": {
       "model_id": "a02ad96f7f71403a8be8cfed021ce108",
       "version_major": 2,
       "version_minor": 0
      },
      "text/plain": [
       "Button(description='Visualize Data', icon='play', style=ButtonStyle(), tooltip='Visualize in a 3D plot')"
      ]
     },
     "metadata": {},
     "output_type": "display_data"
    },
    {
     "data": {
      "application/vnd.jupyter.widget-view+json": {
       "model_id": "7e3cd0271507483a9d93a46d41e82feb",
       "version_major": 2,
       "version_minor": 0
      },
      "text/plain": [
       "Output()"
      ]
     },
     "metadata": {},
     "output_type": "display_data"
    }
   ],
   "source": [
    "# button_visualize = widgets.Button(\n",
    "#     description='Visualize Data',\n",
    "#     tooltip='Visualize in a 3D plot',\n",
    "#     icon='play')\n",
    "\n",
    "# output_visualize = widgets.Output()\n",
    "# display(button_visualize, output_visualize)\n",
    "\n",
    "# def visualize_data(b):\n",
    "#     _ = plt.tight_layout()\n",
    "#     fig = plt.figure(figsize=(10, 7))\n",
    "#     ax = fig.add_subplot(111, projection='3d')\n",
    "#     pareto_front, indices = pareto_efficient(data[['viscosity', 'price', 'turbidity']].to_numpy(),\n",
    "#                                       maximize=False)\n",
    "#     # ax.scatter(data['viscosity'], data['price'], data['turbidity'], \n",
    "#     #            alpha=0.1, label='all data', marker='^', s=50)\n",
    "#     img = ax.scatter(pareto_front[:, 0], pareto_front[:, 1], pareto_front[:, 2], \n",
    "#                      alpha=0.7, label='pareto front', s=100, c=data.index[indices])\n",
    "#     _ = plt.colorbar(img, label='Experiment number')\n",
    "#     ax.set_xlabel('viscosity'); ax.set_ylabel('price'); ax.set_zlabel('turbidity')\n",
    "#     for xi, yi, zi in pareto_front:        \n",
    "#         line=art3d.Line3D(*zip((xi, yi, 0), (xi, yi, zi)), \n",
    "#                           marker='o', markevery=(1, 1), c='k',alpha=0.5)\n",
    "#         _ = ax.add_line(line)\n",
    "#     _ = ax.view_init(20, -60)\n",
    "#     _ = ax.set_title('Approximate Pareto Front')\n",
    "#     output_visualize.clear_output(wait=True)\n",
    "#     with output_visualize:\n",
    "#         display(fig)\n",
    "# button_visualize.on_click(visualize_data)"
   ]
  },
  {
   "cell_type": "markdown",
   "metadata": {},
   "source": [
    "## 3. Run Optimization"
   ]
  },
  {
   "cell_type": "markdown",
   "metadata": {},
   "source": [
    "Now, we can run the optimization. Click the button that says run optimization.  It might take a couple minutes."
   ]
  },
  {
   "cell_type": "code",
   "execution_count": 30,
   "metadata": {},
   "outputs": [
    {
     "data": {
      "application/vnd.jupyter.widget-view+json": {
       "model_id": "1bae07354eb747dda282a4efda5ee282",
       "version_major": 2,
       "version_minor": 0
      },
      "text/plain": [
       "BoundedIntText(value=3, description='# Expr:', max=10)"
      ]
     },
     "metadata": {},
     "output_type": "display_data"
    },
    {
     "data": {
      "application/vnd.jupyter.widget-view+json": {
       "model_id": "acd9ca0099e24f6d840d6e3e50adf1f9",
       "version_major": 2,
       "version_minor": 0
      },
      "text/plain": [
       "Button(description='Run optimization', icon='play', style=ButtonStyle(), tooltip='Run the optimization')"
      ]
     },
     "metadata": {},
     "output_type": "display_data"
    },
    {
     "data": {
      "application/vnd.jupyter.widget-view+json": {
       "model_id": "5afc5661086d4ce2a28727df3687eeab",
       "version_major": 2,
       "version_minor": 0
      },
      "text/plain": [
       "Output()"
      ]
     },
     "metadata": {},
     "output_type": "display_data"
    }
   ],
   "source": [
    "#Build the model\n",
    "num_experiments = widgets.BoundedIntText(\n",
    "    value=3,\n",
    "    min=0,\n",
    "    max=10,\n",
    "    step=1,\n",
    "    description='# Expr:',\n",
    "    disabled=False\n",
    ")\n",
    "button_run_opt = widgets.Button(\n",
    "    description='Run optimization',\n",
    "    tooltip='Run the optimization',\n",
    "    icon='play')\n",
    "output_run_opt = widgets.Output()\n",
    "\n",
    "display(num_experiments, button_run_opt, output_run_opt)\n",
    "\n",
    "input_dim = domain.num_continuous_dimensions() + domain.num_discrete_variables()\n",
    "models = {'viscosity': GPyModel(input_dim=input_dim), \n",
    "          'price': AnalyticalModel(function=price_function),\n",
    "          'turbidity': GPyModel(input_dim=input_dim)\n",
    "         }\n",
    "tsemo = TSEMO2(domain, models)\n",
    "\n",
    "data_pd = data[input_columns + objective_columns]\n",
    "data = DataSet.from_df(data_pd)\n",
    "\n",
    "def run_optimization(b):\n",
    "    n = num_experiments.value\n",
    "\n",
    "    with output_run_opt:\n",
    "        print(\"Starting. This might take a couple minutes.\")\n",
    "        experiments = tsemo.generate_experiments(data, n)\n",
    "        \n",
    "    output_run_opt.clear_output()\n",
    "    with output_run_opt:\n",
    "        print(\"Next experiments:\")\n",
    "        display(experiments)\n",
    "\n",
    "button_run_opt.on_click(run_optimization)\n"
   ]
  },
  {
   "cell_type": "markdown",
   "metadata": {},
   "source": [
    "## 4. Validate Model"
   ]
  },
  {
   "cell_type": "markdown",
   "metadata": {},
   "source": [
    "We'll make a cross validation plot next. Click on the button to generate one."
   ]
  },
  {
   "cell_type": "code",
   "execution_count": 32,
   "metadata": {},
   "outputs": [
    {
     "data": {
      "application/vnd.jupyter.widget-view+json": {
       "model_id": "435e5a6347aa42669a5c099489882609",
       "version_major": 2,
       "version_minor": 0
      },
      "text/plain": [
       "Button(description='Make CV Plot', icon='play', style=ButtonStyle(), tooltip='CV Plot')"
      ]
     },
     "metadata": {},
     "output_type": "display_data"
    },
    {
     "data": {
      "application/vnd.jupyter.widget-view+json": {
       "model_id": "61fea2713c1c4ef0a3a141d600369654",
       "version_major": 2,
       "version_minor": 0
      },
      "text/plain": [
       "Output()"
      ]
     },
     "metadata": {},
     "output_type": "display_data"
    }
   ],
   "source": [
    "button_plot_cv = widgets.Button(\n",
    "    description='Make CV Plot',\n",
    "    tooltip='CV Plot',\n",
    "    icon='play')\n",
    "output_plot_cv = widgets.Output()\n",
    "display(button_plot_cv, output_plot_cv)\n",
    "def plot_cv(b):\n",
    "    gp = GPyModel(input_dim=input_dim)\n",
    "    X = data[input_columns].to_numpy(dtype=np.float64)\n",
    "    Y = data[objective_columns].to_numpy(dtype=np.float64)\n",
    "\n",
    "    #Mask out weird data\n",
    "    mask = np.ones(X.shape[0],dtype=bool)\n",
    "    indices = np.where(Y[:, 0]>1.0)[0]\n",
    "    mask[indices] = 0\n",
    "    # Y = Y[mask, :]\n",
    "    X = X[mask, :]\n",
    "\n",
    "    \n",
    "    with output_plot_cv:\n",
    "        print('Making plots...')\n",
    "        \n",
    "    fig, axes = plt.subplots(1, 2, figsize=(15, 5))\n",
    "    for i, name in enumerate(['viscosity', 'turbidity']):\n",
    "        kf = KFold(n_splits=3)\n",
    "        scores = np.zeros(5)\n",
    "\n",
    "        Y = data[name].to_numpy(dtype=np.float64)\n",
    "        Y = Y[mask]\n",
    "        for train, test in kf.split(X):\n",
    "            gp.fit(X[train], np.atleast_2d(Y[train]).T)\n",
    "            y_predict = gp.predict(X[test])\n",
    "            axes[i].scatter(Y[test], y_predict, c='k')\n",
    "        min_y = Y.min()\n",
    "        max_y = Y.max()\n",
    "        axes[i].plot([min_y, max_y], [min_y, max_y], 'k--', lw=4)\n",
    "        axes[i].set_xlabel('Measured')\n",
    "        axes[i].set_ylabel('Predicted')\n",
    "        axes[i].set_title(f'{name} Cross Validation'.title())\n",
    "    output_plot_cv.clear_output(wait=True)\n",
    "    with output_plot_cv:\n",
    "        plt.show()\n",
    "button_plot_cv.on_click(plot_cv)"
   ]
  },
  {
   "cell_type": "code",
   "execution_count": null,
   "metadata": {},
   "outputs": [],
   "source": [
    "file_id = random_string()"
   ]
  }
 ],
 "metadata": {
  "kernelspec": {
   "display_name": "Python 3",
   "language": "python",
   "name": "python3"
  },
  "language_info": {
   "codemirror_mode": {
    "name": "ipython",
    "version": 3
   },
   "file_extension": ".py",
   "mimetype": "text/x-python",
   "name": "python",
   "nbconvert_exporter": "python",
   "pygments_lexer": "ipython3",
   "version": "3.6.8"
  }
 },
 "nbformat": 4,
 "nbformat_minor": 4
}
