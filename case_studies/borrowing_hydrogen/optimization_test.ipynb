{
 "cells": [
  {
   "cell_type": "code",
   "execution_count": 1,
   "metadata": {},
   "outputs": [],
   "source": [
    "%load_ext autoreload\n",
    "%autoreload 2"
   ]
  },
  {
   "cell_type": "code",
   "execution_count": 2,
   "metadata": {},
   "outputs": [],
   "source": [
    "#parameters\n",
    "experimental_datafile = 'inputs/results_demo.csv'\n",
    "domain_configfile = 'inputs/borrowing_hydrogen_domain.json'\n",
    "batch_size = 10"
   ]
  },
  {
   "cell_type": "code",
   "execution_count": 3,
   "metadata": {},
   "outputs": [],
   "source": [
    "from summit.strategies import TSEMO\n",
    "from summit.models import GPyModel\n",
    "from summit.data import solvent_ds, ucb_ds, DataSet\n",
    "from summit.domain import Domain, DescriptorsVariable,ContinuousVariable\n",
    "from summit.initial_design import LatinDesigner\n",
    "# from summit.optimizers import EnumerationOptimizer\n",
    "# from summit.objective import HV\n",
    "\n",
    "import GPy\n",
    "from sklearn.decomposition import PCA\n",
    "import pandas as pd\n",
    "import numpy as np\n",
    "import matplotlib.pyplot as plt"
   ]
  },
  {
   "cell_type": "code",
   "execution_count": 4,
   "metadata": {},
   "outputs": [
    {
     "name": "stdout",
     "output_type": "stream",
     "text": [
      "80 solvents for optimization\n"
     ]
    },
    {
     "data": {
      "text/html": [
       "<div>\n",
       "<style scoped>\n",
       "    .dataframe tbody tr th:only-of-type {\n",
       "        vertical-align: middle;\n",
       "    }\n",
       "\n",
       "    .dataframe tbody tr th {\n",
       "        vertical-align: top;\n",
       "    }\n",
       "\n",
       "    .dataframe thead th {\n",
       "        text-align: right;\n",
       "    }\n",
       "</style>\n",
       "<table border=\"1\" class=\"dataframe\">\n",
       "  <thead>\n",
       "    <tr style=\"text-align: right;\">\n",
       "      <th></th>\n",
       "      <th>stenutz_name</th>\n",
       "      <th>cosmo_name</th>\n",
       "      <th>chemical_formula</th>\n",
       "      <th>molecular_weight</th>\n",
       "      <th>density</th>\n",
       "      <th>molar_volume</th>\n",
       "      <th>refractive_index</th>\n",
       "      <th>molecular_refractive_power</th>\n",
       "      <th>dielectric_constant</th>\n",
       "      <th>dipole_moment</th>\n",
       "      <th>...</th>\n",
       "      <th>vapour_pressure</th>\n",
       "      <th>henry_constant</th>\n",
       "      <th>sigma_1</th>\n",
       "      <th>sigma_2</th>\n",
       "      <th>sigma_3</th>\n",
       "      <th>sigma_4</th>\n",
       "      <th>sigma_5</th>\n",
       "      <th>solubility</th>\n",
       "      <th>solvent_class</th>\n",
       "      <th>solvent_name</th>\n",
       "    </tr>\n",
       "    <tr>\n",
       "      <th>cas_number</th>\n",
       "      <th></th>\n",
       "      <th></th>\n",
       "      <th></th>\n",
       "      <th></th>\n",
       "      <th></th>\n",
       "      <th></th>\n",
       "      <th></th>\n",
       "      <th></th>\n",
       "      <th></th>\n",
       "      <th></th>\n",
       "      <th></th>\n",
       "      <th></th>\n",
       "      <th></th>\n",
       "      <th></th>\n",
       "      <th></th>\n",
       "      <th></th>\n",
       "      <th></th>\n",
       "      <th></th>\n",
       "      <th></th>\n",
       "      <th></th>\n",
       "      <th></th>\n",
       "    </tr>\n",
       "  </thead>\n",
       "  <tbody>\n",
       "    <tr>\n",
       "      <th>56-81-5</th>\n",
       "      <td>1,2,3-propanetriol</td>\n",
       "      <td>glycerol</td>\n",
       "      <td>C3H8O3</td>\n",
       "      <td>92</td>\n",
       "      <td>1.26</td>\n",
       "      <td>73.1</td>\n",
       "      <td>1.475</td>\n",
       "      <td>20.56</td>\n",
       "      <td>47</td>\n",
       "      <td>2.56</td>\n",
       "      <td>...</td>\n",
       "      <td>0.01</td>\n",
       "      <td>3779.8</td>\n",
       "      <td>1.392</td>\n",
       "      <td>8.3081</td>\n",
       "      <td>2.465</td>\n",
       "      <td>0.5226</td>\n",
       "      <td>3.8766</td>\n",
       "      <td>0.000000</td>\n",
       "      <td>Alcohol</td>\n",
       "      <td>Glycerol</td>\n",
       "    </tr>\n",
       "    <tr>\n",
       "      <th>107-06-2</th>\n",
       "      <td>1,2-dichloroethane</td>\n",
       "      <td>1,2-dichloroethane</td>\n",
       "      <td>C2H4Cl2</td>\n",
       "      <td>99</td>\n",
       "      <td>1.253</td>\n",
       "      <td>79</td>\n",
       "      <td>1.445</td>\n",
       "      <td>21.01</td>\n",
       "      <td>10.36</td>\n",
       "      <td>1.83</td>\n",
       "      <td>...</td>\n",
       "      <td>222.09</td>\n",
       "      <td>2904.4</td>\n",
       "      <td>1.2021</td>\n",
       "      <td>10.4996</td>\n",
       "      <td>0</td>\n",
       "      <td>0</td>\n",
       "      <td>3.5413</td>\n",
       "      <td>-2.004364</td>\n",
       "      <td>Halogenated</td>\n",
       "      <td>1,2-Dichloroethane (DCE)</td>\n",
       "    </tr>\n",
       "    <tr>\n",
       "      <th>110-71-4</th>\n",
       "      <td>1,2-dimethoxyethane</td>\n",
       "      <td>1,2-dimethoxyethane</td>\n",
       "      <td>C4H10O2</td>\n",
       "      <td>90</td>\n",
       "      <td>0.869</td>\n",
       "      <td>103.7</td>\n",
       "      <td>1.38</td>\n",
       "      <td>24</td>\n",
       "      <td>7.2</td>\n",
       "      <td>1.71</td>\n",
       "      <td>...</td>\n",
       "      <td>83.42</td>\n",
       "      <td>2260.69</td>\n",
       "      <td>0</td>\n",
       "      <td>12.4399</td>\n",
       "      <td>1.8467</td>\n",
       "      <td>0</td>\n",
       "      <td>1.8566</td>\n",
       "      <td>-2.891152</td>\n",
       "      <td>Ether</td>\n",
       "      <td>Dimethoxyethane (DME)</td>\n",
       "    </tr>\n",
       "  </tbody>\n",
       "</table>\n",
       "<p>3 rows × 24 columns</p>\n",
       "</div>"
      ],
      "text/plain": [
       "NAME               stenutz_name           cosmo_name chemical_formula  \\\n",
       "cas_number                                                              \n",
       "56-81-5      1,2,3-propanetriol             glycerol           C3H8O3   \n",
       "107-06-2     1,2-dichloroethane   1,2-dichloroethane          C2H4Cl2   \n",
       "110-71-4    1,2-dimethoxyethane  1,2-dimethoxyethane          C4H10O2   \n",
       "\n",
       "NAME       molecular_weight density molar_volume refractive_index  \\\n",
       "cas_number                                                          \n",
       "56-81-5                  92    1.26         73.1            1.475   \n",
       "107-06-2                 99   1.253           79            1.445   \n",
       "110-71-4                 90   0.869        103.7             1.38   \n",
       "\n",
       "NAME       molecular_refractive_power dielectric_constant dipole_moment  ...  \\\n",
       "cas_number                                                               ...   \n",
       "56-81-5                         20.56                  47          2.56  ...   \n",
       "107-06-2                        21.01               10.36          1.83  ...   \n",
       "110-71-4                           24                 7.2          1.71  ...   \n",
       "\n",
       "NAME       vapour_pressure henry_constant sigma_1  sigma_2 sigma_3 sigma_4  \\\n",
       "cas_number                                                                   \n",
       "56-81-5               0.01         3779.8   1.392   8.3081   2.465  0.5226   \n",
       "107-06-2            222.09         2904.4  1.2021  10.4996       0       0   \n",
       "110-71-4             83.42        2260.69       0  12.4399  1.8467       0   \n",
       "\n",
       "NAME       sigma_5 solubility solvent_class              solvent_name  \n",
       "cas_number                                                             \n",
       "56-81-5     3.8766   0.000000       Alcohol                  Glycerol  \n",
       "107-06-2    3.5413  -2.004364   Halogenated  1,2-Dichloroethane (DCE)  \n",
       "110-71-4    1.8566  -2.891152         Ether     Dimethoxyethane (DME)  \n",
       "\n",
       "[3 rows x 24 columns]"
      ]
     },
     "execution_count": 4,
     "metadata": {},
     "output_type": "execute_result"
    }
   ],
   "source": [
    "#Import experimental results\n",
    "previous_results = DataSet.read_csv(experimental_datafile)\n",
    "\n",
    "#Read in solubility data\n",
    "solubilities = pd.read_csv('inputs/solubilities.csv')\n",
    "solubilities = solubilities.set_index('cas_number')\n",
    "solubilities = DataSet.from_df(solubilities)\n",
    "\n",
    "#Merge data sets\n",
    "solvent_ds_full = solvent_ds.join(solubilities)\n",
    "solvent_ds_final = pd.merge(solvent_ds_full, ucb_ds, left_index=True,right_index=True)\n",
    "print(f\"{solvent_ds_final.shape[0]} solvents for optimization\")\n",
    "\n",
    "#Double check that there are no NaNs in the descriptors\n",
    "values = solvent_ds_final.data_to_numpy()\n",
    "values = values.astype(np.float64)\n",
    "check = np.isnan(values)\n",
    "assert check.all() == False\n",
    "\n",
    "solvent_ds_final.head(3) #Show first 3 rows of dataset"
   ]
  },
  {
   "cell_type": "code",
   "execution_count": 5,
   "metadata": {},
   "outputs": [
    {
     "name": "stdout",
     "output_type": "stream",
     "text": [
      "81.0% of variance is explained by 5 principal components.\n"
     ]
    }
   ],
   "source": [
    "#Transform to principal componets\n",
    "num_components = 5\n",
    "pc = PCA(n_components=num_components)\n",
    "pcs = pc.fit_transform(solvent_ds_final.standardize())\n",
    "explained_var = round(pc.explained_variance_ratio_.sum()*100)\n",
    "expl = f\"{explained_var}% of variance is explained by {num_components} principal components.\"\n",
    "print(expl)\n",
    "\n",
    "#Create a new dataset with just the principal components\n",
    "metadata_df = solvent_ds_final.loc[:, solvent_ds_final.metadata_columns]\n",
    "pc_df = pd.DataFrame(pcs, columns = [f'PC_{i}' for i in range(num_components)], \n",
    "                     index=metadata_df.index)\n",
    "pc_ds = DataSet.from_df(pc_df)\n",
    "solvent_ds_pcs = pd.concat([metadata_df, pc_ds], axis=1)"
   ]
  },
  {
   "cell_type": "code",
   "execution_count": 6,
   "metadata": {},
   "outputs": [
    {
     "data": {
      "text/html": [
       "<table id='domain' width=100%><tr><td><b>Name</b></td><td><b>Type</b></td><td><b>Description</b></td><td><b>Values</b></td></tr><tr><td>solvent</td><td>descriptors, input</td><td>solvent for the borrowing hydrogen reaction</td><td>80 examples of 5 descriptors</td></tr><tr><td>yield</td><td>continuous, output</td><td>relative yield to triphenylphosphine oxide determined by LCMS</td><td>[0,100]</td></tr><tr><td>enantiomeric_excess</td><td>continuous, output</td><td>enantiomeric excess determined by ratio of LCMS peaks</td><td>[0,100]</td></tr></table>"
      ],
      "text/plain": [
       "<summit.domain.Domain at 0x122a7ea58>"
      ]
     },
     "execution_count": 6,
     "metadata": {},
     "output_type": "execute_result"
    }
   ],
   "source": [
    "#Set up optimization domain\n",
    "domain = Domain()\n",
    "domain += DescriptorsVariable(name='solvent',\n",
    "                             description='solvent for the borrowing hydrogen reaction',\n",
    "                             ds=solvent_ds_pcs)\n",
    "domain += ContinuousVariable(name='yield',\n",
    "                             description='relative yield to triphenylphosphine oxide determined by LCMS',\n",
    "                             bounds=[0, 100],\n",
    "                             is_output=True)\n",
    "domain += ContinuousVariable(name='enantiomeric_excess',\n",
    "                             description='enantiomeric excess determined by ratio of LCMS peaks',\n",
    "                             bounds=[0, 100],\n",
    "                             is_output=True)\n",
    "domain"
   ]
  },
  {
   "cell_type": "code",
   "execution_count": 8,
   "metadata": {},
   "outputs": [
    {
     "name": "stderr",
     "output_type": "stream",
     "text": [
      " /Users/Kobi/Library/Caches/pypoetry/virtualenvs/summit-py3.6/lib/python3.6/site-packages/paramz/transformations.py:111: RuntimeWarning:overflow encountered in expm1\n"
     ]
    }
   ],
   "source": [
    "#Run the optimization\n",
    "input_dim = domain.num_continuous_dimensions() +domain.num_discrete_variables()\n",
    "kernel = GPy.kern.Matern52(input_dim = input_dim , \n",
    "                           ARD=True)\n",
    "models = [GPyModel(kernel=kernel) for _ in range(2)]\n",
    "# tsemo = TSEMO(domain, models, acquisition=HV(), optimizer=EnumerationOptimizer())\n",
    "tsemo = TSEMO(domain, models)\n",
    "design = tsemo.generate_experiments(previous_results, batch_size, normalize=True)"
   ]
  },
  {
   "cell_type": "code",
   "execution_count": null,
   "metadata": {},
   "outputs": [],
   "source": [
    "#Save design for next experiment(s) and model hyperparameters to disk                                     \n",
    "next_batch_num = previous_results['batch_number'].max() + 1\n",
    "design.insert(0, 'batch_number', np.ones(design.shape[0])*next_batch_num, type='METADATA')\n",
    "design.to_csv(f'outputs/batch_{next_batch_num}.csv')\n",
    "tsemo.save_params(f'outputs/{batch}')"
   ]
  }
 ],
 "metadata": {
  "kernelspec": {
   "display_name": "Python 3",
   "language": "python",
   "name": "python3"
  },
  "language_info": {
   "codemirror_mode": {
    "name": "ipython",
    "version": 3
   },
   "file_extension": ".py",
   "mimetype": "text/x-python",
   "name": "python",
   "nbconvert_exporter": "python",
   "pygments_lexer": "ipython3",
   "version": "3.6.8"
  }
 },
 "nbformat": 4,
 "nbformat_minor": 2
}
