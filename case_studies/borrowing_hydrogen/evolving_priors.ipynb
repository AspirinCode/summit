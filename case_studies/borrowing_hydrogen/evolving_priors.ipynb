{
 "cells": [
  {
   "cell_type": "code",
   "execution_count": 1,
   "metadata": {},
   "outputs": [],
   "source": [
    "import GPyOpt\n",
    "import GPy\n",
    "import numpy as np"
   ]
  },
  {
   "cell_type": "markdown",
   "metadata": {},
   "source": [
    "## 1. First Reaction"
   ]
  },
  {
   "cell_type": "code",
   "execution_count": 36,
   "metadata": {},
   "outputs": [],
   "source": [
    "#Set up test function\n",
    "n_descriptors = 3\n",
    "seed = np.random.RandomState(100)\n",
    "solvents = seed.rand(400, n_descriptors)\n",
    "\n",
    "class Reaction:\n",
    "    def __init__(self, a, b, c):\n",
    "        self._a = a\n",
    "        self._b = b\n",
    "        self._c = c\n",
    "        \n",
    "    def f(self, X):\n",
    "        noise = 0.001*np.random.randn(X.shape[0])\n",
    "        y = self._a*X[:, 0]**2 + self._b*X[:, 1]**1.1 + self._c*X[:, 2] + noise\n",
    "        return np.atleast_2d(y).T\n",
    "\n",
    "first_exp_conditions = solvents[seed.randint(1, 400, 40), :]\n",
    "r1 = Reaction(0.1, 0.5, 0.001)\n",
    "first_exp_results = r1.f(first_exp_conditions)"
   ]
  },
  {
   "cell_type": "code",
   "execution_count": 46,
   "metadata": {},
   "outputs": [
    {
     "data": {
      "text/html": [
       "<style type=\"text/css\">\n",
       ".tg  {font-family:\"Courier New\", Courier, monospace !important;padding:2px 3px;word-break:normal;border-collapse:collapse;border-spacing:0;border-color:#DCDCDC;margin:0px auto;width:100%;}\n",
       ".tg td{font-family:\"Courier New\", Courier, monospace !important;font-weight:bold;color:#444;background-color:#F7FDFA;border-style:solid;border-width:1px;overflow:hidden;word-break:normal;border-color:#DCDCDC;}\n",
       ".tg th{font-family:\"Courier New\", Courier, monospace !important;font-weight:normal;color:#fff;background-color:#26ADE4;border-style:solid;border-width:1px;overflow:hidden;word-break:normal;border-color:#DCDCDC;}\n",
       ".tg .tg-left{font-family:\"Courier New\", Courier, monospace !important;font-weight:normal;text-align:left;}\n",
       ".tg .tg-center{font-family:\"Courier New\", Courier, monospace !important;font-weight:normal;text-align:center;}\n",
       ".tg .tg-right{font-family:\"Courier New\", Courier, monospace !important;font-weight:normal;text-align:right;}\n",
       "</style>\n",
       "<table class=\"tg\"><tr><th><b>  Mat52.     </b></th><th><b>value</b></th><th><b>constraints</b></th><th><b>priors</b></th></tr>\n",
       "<tr><td class=tg-left>  variance   </td><td class=tg-right>  1.0</td><td class=tg-center>    +ve    </td><td class=tg-center>      </td></tr>\n",
       "<tr><td class=tg-left>  lengthscale</td><td class=tg-right> (3,)</td><td class=tg-center>    +ve    </td><td class=tg-center>      </td></tr>\n",
       "</table>"
      ],
      "text/plain": [
       "<GPy.kern.src.stationary.Matern52 at 0x121a9c5f8>"
      ]
     },
     "execution_count": 46,
     "metadata": {},
     "output_type": "execute_result"
    }
   ],
   "source": [
    "kern_1 = GPy.kern.Matern52(input_dim=n_descriptors, variance=1., ARD=True)\n",
    "kern_1"
   ]
  },
  {
   "cell_type": "code",
   "execution_count": 47,
   "metadata": {},
   "outputs": [
    {
     "data": {
      "text/html": [
       "<style type=\"text/css\">\n",
       ".pd{\n",
       "    font-family: \"Courier New\", Courier, monospace !important;\n",
       "    width: 100%;\n",
       "    padding: 3px;\n",
       "}\n",
       "</style>\n",
       "\n",
       "<p class=pd>\n",
       "<b>Model</b>: GP regression<br>\n",
       "<b>Objective</b>: 41.639707109889414<br>\n",
       "<b>Number of Parameters</b>: 5<br>\n",
       "<b>Number of Optimization Parameters</b>: 5<br>\n",
       "<b>Updates</b>: True<br>\n",
       "</p>\n",
       "<style type=\"text/css\">\n",
       ".tg  {font-family:\"Courier New\", Courier, monospace !important;padding:2px 3px;word-break:normal;border-collapse:collapse;border-spacing:0;border-color:#DCDCDC;margin:0px auto;width:100%;}\n",
       ".tg td{font-family:\"Courier New\", Courier, monospace !important;font-weight:bold;color:#444;background-color:#F7FDFA;border-style:solid;border-width:1px;overflow:hidden;word-break:normal;border-color:#DCDCDC;}\n",
       ".tg th{font-family:\"Courier New\", Courier, monospace !important;font-weight:normal;color:#fff;background-color:#26ADE4;border-style:solid;border-width:1px;overflow:hidden;word-break:normal;border-color:#DCDCDC;}\n",
       ".tg .tg-left{font-family:\"Courier New\", Courier, monospace !important;font-weight:normal;text-align:left;}\n",
       ".tg .tg-center{font-family:\"Courier New\", Courier, monospace !important;font-weight:normal;text-align:center;}\n",
       ".tg .tg-right{font-family:\"Courier New\", Courier, monospace !important;font-weight:normal;text-align:right;}\n",
       "</style>\n",
       "<table class=\"tg\"><tr><th><b>  GP_regression.         </b></th><th><b>value</b></th><th><b>constraints</b></th><th><b>priors</b></th></tr>\n",
       "<tr><td class=tg-left>  Mat52.variance         </td><td class=tg-right>  1.0</td><td class=tg-center>    +ve    </td><td class=tg-center>      </td></tr>\n",
       "<tr><td class=tg-left>  Mat52.lengthscale      </td><td class=tg-right> (3,)</td><td class=tg-center>    +ve    </td><td class=tg-center>      </td></tr>\n",
       "<tr><td class=tg-left>  Gaussian_noise.variance</td><td class=tg-right>  1.0</td><td class=tg-center>    +ve    </td><td class=tg-center>      </td></tr>\n",
       "</table>"
      ],
      "text/plain": [
       "<GPy.models.gp_regression.GPRegression at 0x121c9f438>"
      ]
     },
     "execution_count": 47,
     "metadata": {},
     "output_type": "execute_result"
    }
   ],
   "source": [
    "m1 = GPy.models.GPRegression(X=first_exp_conditions, Y=first_exp_results, kernel=kern_1)\n",
    "m1"
   ]
  },
  {
   "cell_type": "code",
   "execution_count": 48,
   "metadata": {},
   "outputs": [
    {
     "name": "stdout",
     "output_type": "stream",
     "text": [
      "Optimization restart 1/10, f = -180.8148516202537\n",
      "Optimization restart 2/10, f = -155.8018032834013\n",
      "Optimization restart 3/10, f = -180.8148516556106\n",
      "Optimization restart 4/10, f = -180.81485161751095\n",
      "Optimization restart 5/10, f = -180.8148515572271\n",
      "Optimization restart 6/10, f = -180.66174613592557\n",
      "Optimization restart 7/10, f = -180.8148516378508\n",
      "Optimization restart 8/10, f = -155.80186229395434\n",
      "Optimization restart 9/10, f = -180.81485164492614\n",
      "Optimization restart 10/10, f = -180.81485164898407\n"
     ]
    },
    {
     "data": {
      "text/plain": [
       "[<paramz.optimization.optimization.opt_lbfgsb at 0x121a9c940>,\n",
       " <paramz.optimization.optimization.opt_lbfgsb at 0x121bc8630>,\n",
       " <paramz.optimization.optimization.opt_lbfgsb at 0x121d0acf8>,\n",
       " <paramz.optimization.optimization.opt_lbfgsb at 0x121a9ca90>,\n",
       " <paramz.optimization.optimization.opt_lbfgsb at 0x121a9c978>,\n",
       " <paramz.optimization.optimization.opt_lbfgsb at 0x121a9c9e8>,\n",
       " <paramz.optimization.optimization.opt_lbfgsb at 0x121a9cb70>,\n",
       " <paramz.optimization.optimization.opt_lbfgsb at 0x121a9c470>,\n",
       " <paramz.optimization.optimization.opt_lbfgsb at 0x121a9cbe0>,\n",
       " <paramz.optimization.optimization.opt_lbfgsb at 0x121e31780>]"
      ]
     },
     "execution_count": 48,
     "metadata": {},
     "output_type": "execute_result"
    }
   ],
   "source": [
    "m1.optimize_restarts(num_restarts=10)"
   ]
  },
  {
   "cell_type": "code",
   "execution_count": 54,
   "metadata": {},
   "outputs": [
    {
     "data": {
      "text/plain": [
       "array([   9.01118965,    7.31113876, 1961.63069233])"
      ]
     },
     "execution_count": 54,
     "metadata": {},
     "output_type": "execute_result"
    }
   ],
   "source": [
    "m1.kern.lengthscale.values"
   ]
  },
  {
   "cell_type": "code",
   "execution_count": 33,
   "metadata": {},
   "outputs": [
    {
     "data": {
      "text/plain": [
       "169.95030235719545"
      ]
     },
     "execution_count": 33,
     "metadata": {},
     "output_type": "execute_result"
    }
   ],
   "source": [
    "m1.log_likelihood()"
   ]
  },
  {
   "cell_type": "markdown",
   "metadata": {},
   "source": [
    "## 2. Second Reaction"
   ]
  },
  {
   "cell_type": "code",
   "execution_count": 113,
   "metadata": {},
   "outputs": [],
   "source": [
    "#Second similar reaction\n",
    "r2 = Reaction(0.13, 0.45, 0.02)\n",
    "def inverse(X):\n",
    "    y = r2.f(X)\n",
    "    return y**(-1)\n",
    "objective = GPyOpt.core.task.SingleObjective(inverse)\n",
    "variables = [{'name': 'solvent', 'type': 'bandit', 'domain':solvents}]\n",
    "domain = GPyOpt.Design_space(variables)\n",
    "lhs = GPyOpt.experiment_design.initial_design('latin', domain, 10)"
   ]
  },
  {
   "cell_type": "code",
   "execution_count": 136,
   "metadata": {},
   "outputs": [],
   "source": [
    "kerns_2 = 2*[]\n",
    "kerns_2 = [GPy.kern.Matern52(input_dim=3, variance=1., ARD=True) for _ in range(2)]\n",
    "# kerns_2[1].lengthscale.set_prior(GPy.priors.StudentT(0.5,0.1,0.1))"
   ]
  },
  {
   "cell_type": "code",
   "execution_count": 129,
   "metadata": {},
   "outputs": [],
   "source": [
    "models = [GPyOpt.models.GPModel(kernel=kern, optimize_restarts=5, verbose=False) \n",
    "          for kern in kerns_2]"
   ]
  },
  {
   "cell_type": "code",
   "execution_count": 130,
   "metadata": {},
   "outputs": [],
   "source": [
    "acquisition_optimizer = GPyOpt.optimization.AcquisitionOptimizer(domain)\n",
    "acquisitions = [GPyOpt.acquisitions.AcquisitionEI(model, domain, optimizer=acquisition_optimizer) \n",
    "                for model in models]\n"
   ]
  },
  {
   "cell_type": "code",
   "execution_count": 131,
   "metadata": {},
   "outputs": [],
   "source": [
    "evaluators = [GPyOpt.core.evaluators.Sequential(acquisition) for acquisition in acquisitions]"
   ]
  },
  {
   "cell_type": "code",
   "execution_count": 132,
   "metadata": {},
   "outputs": [],
   "source": [
    "bos = [GPyOpt.methods.ModularBayesianOptimization(model, \n",
    "                                                  domain, \n",
    "                                                  objective, \n",
    "                                                  acquisition, \n",
    "                                                  evaluator, \n",
    "                                                  lhs)\n",
    "      for model, acquisition, evaluator\n",
    "      in zip(models, acquisitions, evaluators)]"
   ]
  },
  {
   "cell_type": "code",
   "execution_count": 133,
   "metadata": {},
   "outputs": [],
   "source": [
    "max_iter = 10\n",
    "for bo in bos:\n",
    "    bo.run_optimization(max_iter=max_iter)"
   ]
  },
  {
   "cell_type": "code",
   "execution_count": 134,
   "metadata": {},
   "outputs": [
    {
     "data": {
      "image/png": "[encoded data removed]",
      "text/plain": [
       "<Figure size 720x360 with 2 Axes>"
      ]
     },
     "metadata": {
      "needs_background": "light"
     },
     "output_type": "display_data"
    }
   ],
   "source": [
    "bos[0].plot_convergence()"
   ]
  },
  {
   "cell_type": "code",
   "execution_count": 135,
   "metadata": {},
   "outputs": [
    {
     "data": {
      "image/png": "[encoded data removed]",
      "text/plain": [
       "<Figure size 720x360 with 2 Axes>"
      ]
     },
     "metadata": {
      "needs_background": "light"
     },
     "output_type": "display_data"
    }
   ],
   "source": [
    "bos[1].plot_convergence()"
   ]
  },
  {
   "cell_type": "code",
   "execution_count": null,
   "metadata": {},
   "outputs": [],
   "source": []
  }
 ],
 "metadata": {
  "kernelspec": {
   "display_name": "Python 3",
   "language": "python",
   "name": "python3"
  },
  "language_info": {
   "codemirror_mode": {
    "name": "ipython",
    "version": 3
   },
   "file_extension": ".py",
   "mimetype": "text/x-python",
   "name": "python",
   "nbconvert_exporter": "python",
   "pygments_lexer": "ipython3",
   "version": "3.6.8"
  }
 },
 "nbformat": 4,
 "nbformat_minor": 2
}
