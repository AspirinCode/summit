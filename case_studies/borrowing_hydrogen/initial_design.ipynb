{
 "cells": [
  {
   "cell_type": "markdown",
   "metadata": {},
   "source": [
    "# Initial Design"
   ]
  },
  {
   "cell_type": "markdown",
   "metadata": {},
   "source": [
    "Previously, I tried doing an initial design using the full descriptor set, but found it didn't spread throughout the space well. Therefore, I am using the principal component space for the initial design. \n",
    "\n",
    "Also, I will need to evaporate the solvents, so it is best to not choose solvents with a really high boiling point (>140°C).  Conversely, if the boiling point of the solvent is too low, it will be really difficult to run the reaction since it won't be possible to achieve the needed reaction temeprature (120°C) without putting all the solvent in the gas phase (even with a pressurized reaction vessel + refluxing). So, I'm choosing to limit the optimization to solvents with boiling points between 80°C and 140°C.\n",
    "\n",
    "Finally, I am limiting to solvents available in the lab since I am on a time constraint."
   ]
  },
  {
   "cell_type": "markdown",
   "metadata": {},
   "source": [
    "## 1. Load Dependencies"
   ]
  },
  {
   "cell_type": "code",
   "execution_count": 14,
   "metadata": {},
   "outputs": [
    {
     "name": "stdout",
     "output_type": "stream",
     "text": [
      "The autoreload extension is already loaded. To reload it, use:\n",
      "  %reload_ext autoreload\n"
     ]
    }
   ],
   "source": [
    "%load_ext autoreload\n",
    "%autoreload 2\n",
    "%matplotlib inline"
   ]
  },
  {
   "cell_type": "code",
   "execution_count": 59,
   "metadata": {},
   "outputs": [],
   "source": [
    "from safety_data import get_safety_data \n",
    "from summit.data import solvent_ds, ucb_ds, DataSet\n",
    "from summit.domain import Domain, DescriptorsVariable\n",
    "from summit.initial_design import LatinDesigner\n",
    "\n",
    "import pandas as pd\n",
    "import numpy as np\n",
    "import matplotlib.pyplot as plt\n",
    "import mplcursors\n",
    "from sklearn.decomposition import PCA\n",
    "from sklearn.preprocessing import LabelEncoder"
   ]
  },
  {
   "cell_type": "code",
   "execution_count": 3,
   "metadata": {},
   "outputs": [],
   "source": [
    "#This part is to load solvents available from cheminventory\n",
    "# You can still reproduce the notebook without cheminventory because the available solvents\n",
    "# will be loaded from a file\n",
    "\n",
    "%load_ext dotenv\n",
    "%dotenv\n",
    "from cheminventory import ChemInventory\n",
    "import pickle\n",
    "from tqdm import tqdm_notebook\n",
    "ci = ChemInventory() #username and password loaded from environmental variables (.env file)"
   ]
  },
  {
   "cell_type": "markdown",
   "metadata": {},
   "source": [
    "## 2. Set up domain"
   ]
  },
  {
   "cell_type": "code",
   "execution_count": 4,
   "metadata": {},
   "outputs": [
    {
     "data": {
      "text/html": [
       "<div>\n",
       "<style scoped>\n",
       "    .dataframe tbody tr th:only-of-type {\n",
       "        vertical-align: middle;\n",
       "    }\n",
       "\n",
       "    .dataframe tbody tr th {\n",
       "        vertical-align: top;\n",
       "    }\n",
       "\n",
       "    .dataframe thead th {\n",
       "        text-align: right;\n",
       "    }\n",
       "</style>\n",
       "<table border=\"1\" class=\"dataframe\">\n",
       "  <thead>\n",
       "    <tr style=\"text-align: right;\">\n",
       "      <th></th>\n",
       "      <th>solubility</th>\n",
       "    </tr>\n",
       "    <tr>\n",
       "      <th>cas_number</th>\n",
       "      <th></th>\n",
       "    </tr>\n",
       "  </thead>\n",
       "  <tbody>\n",
       "    <tr>\n",
       "      <th>98-07-7</th>\n",
       "      <td>-5.348250</td>\n",
       "    </tr>\n",
       "    <tr>\n",
       "      <th>111-78-4</th>\n",
       "      <td>-6.310797</td>\n",
       "    </tr>\n",
       "    <tr>\n",
       "      <th>5194-51-4</th>\n",
       "      <td>-6.592425</td>\n",
       "    </tr>\n",
       "    <tr>\n",
       "      <th>98-87-3</th>\n",
       "      <td>-0.808447</td>\n",
       "    </tr>\n",
       "    <tr>\n",
       "      <th>2004-70-8</th>\n",
       "      <td>-6.135296</td>\n",
       "    </tr>\n",
       "  </tbody>\n",
       "</table>\n",
       "</div>"
      ],
      "text/plain": [
       "NAME        solubility\n",
       "cas_number            \n",
       "98-07-7      -5.348250\n",
       "111-78-4     -6.310797\n",
       "5194-51-4    -6.592425\n",
       "98-87-3      -0.808447\n",
       "2004-70-8    -6.135296"
      ]
     },
     "execution_count": 4,
     "metadata": {},
     "output_type": "execute_result"
    }
   ],
   "source": [
    "#Read in solubility data\n",
    "solubilities = pd.read_csv('inputs/solubilities.csv')\n",
    "solubilities = solubilities.set_index('cas_number')\n",
    "solubilities = DataSet.from_df(solubilities)\n",
    "solubilities.head(5)"
   ]
  },
  {
   "cell_type": "code",
   "execution_count": 5,
   "metadata": {},
   "outputs": [],
   "source": [
    "solvent_ds_full = solvent_ds.join(solubilities)"
   ]
  },
  {
   "cell_type": "code",
   "execution_count": 6,
   "metadata": {},
   "outputs": [
    {
     "name": "stdout",
     "output_type": "stream",
     "text": [
      "63.0% of variance is explained by 3 principal components\n"
     ]
    }
   ],
   "source": [
    "#Calculate principal components\n",
    "solvent_select = solvent_ds_full[(solvent_ds_full['boiling_point']>80) & \n",
    "                                   (solvent_ds_full['boiling_point']<140)]\n",
    "num_components = 3\n",
    "\n",
    "pca = PCA(n_components=num_components)\n",
    "# pc.fit(solvent_ds_full.standardize())\n",
    "pcs_practical = pca.fit_transform(solvent_select.standardize())\n",
    "print(f\"{round(pca.explained_variance_ratio_.sum()*100)}% of variance is explained by {num_components} principal components\")"
   ]
  },
  {
   "cell_type": "code",
   "execution_count": 7,
   "metadata": {},
   "outputs": [],
   "source": [
    "#Create a new dataset with just the principal components and descriptors as metadata\n",
    "metadata_df = solvent_select.copy()\n",
    "metadata_df.columns.set_codes(metadata_df.shape[1]*[1], level='TYPE', inplace=True)\n",
    "pc_df = pd.DataFrame(pcs_practical, columns = [f'PC_{i}' for i in range(num_components)], \n",
    "                     index=metadata_df.index)\n",
    "pc_ds = DataSet.from_df(pc_df)\n",
    "solvent_ds_practical = pd.concat([metadata_df, pc_ds], axis=1)"
   ]
  },
  {
   "cell_type": "code",
   "execution_count": 8,
   "metadata": {},
   "outputs": [
    {
     "name": "stdout",
     "output_type": "stream",
     "text": [
      "Available solvents loaded from local file.\n"
     ]
    }
   ],
   "source": [
    "# Get a list solvents available in the lab\n",
    "def is_available(cas_number, ci):\n",
    "    res = ci.search(cas_number)\n",
    "    if res:\n",
    "        return True\n",
    "    else:\n",
    "        return False\n",
    "    \n",
    "try:\n",
    "    with open('solvents_available.pickle', 'rb') as f:\n",
    "        solvents_available = pickle.load(f)\n",
    "    print('Available solvents loaded from local file.')\n",
    "except FileNotFoundError:\n",
    "    solvents_available = [(cas, is_available(cas, ci))\n",
    "                          for cas in tqdm_notebook(solvent_ds_practical.index)]\n",
    "    with open('solvents_available.pickle', 'wb') as f:\n",
    "        pickle.dump(solvents_available, f)"
   ]
  },
  {
   "cell_type": "code",
   "execution_count": 9,
   "metadata": {},
   "outputs": [],
   "source": [
    "#Add available column to the dataset\n",
    "available_ds = DataSet({('available', 'METADATA'): [available for _, available in solvents_available]},\n",
    "                       index = [cas for cas, _ in solvents_available])\n",
    "available_ds.columns.names = ['NAME', 'TYPE']\n",
    "solvent_ds_lab = solvent_ds_practical.join(available_ds)\n",
    "solvent_ds_lab = solvent_ds_lab[solvent_ds_lab['available']==True]"
   ]
  },
  {
   "cell_type": "code",
   "execution_count": 10,
   "metadata": {},
   "outputs": [
    {
     "name": "stdout",
     "output_type": "stream",
     "text": [
      "Number of solvents in datset: 459\n",
      "Number of solvents with boiling point b/w 80 and 140°C: 135\n",
      "Number of those solvents in lab : 43\n"
     ]
    }
   ],
   "source": [
    "print(f\"Number of solvents in datset: {solvent_ds_full.shape[0]}\")\n",
    "print(f\"Number of solvents with boiling point b/w 80 and 140°C: {solvent_ds_practical.shape[0]}\")\n",
    "print(f\"Number of those solvents in lab : {solvent_ds_lab.shape[0]}\")"
   ]
  },
  {
   "cell_type": "code",
   "execution_count": 11,
   "metadata": {},
   "outputs": [
    {
     "data": {
      "text/html": [
       "<table id='domain' width=100%><tr><td><b>Name</b></td><td><b>Type</b></td><td><b>Description</b></td><td><b>Values</b></td></tr><tr><td>solvent</td><td>descriptors, input</td><td>solvents in the lab</td><td>43 examples of 3 descriptors</td></tr></table>"
      ],
      "text/plain": [
       "<summit.domain.Domain at 0x11ac78780>"
      ]
     },
     "execution_count": 11,
     "metadata": {},
     "output_type": "execute_result"
    }
   ],
   "source": [
    "domain_lab = Domain()\n",
    "domain_lab += DescriptorsVariable('solvent',\n",
    "                                  'solvents in the lab',\n",
    "                                   solvent_ds_lab)\n",
    "domain_lab"
   ]
  },
  {
   "cell_type": "markdown",
   "metadata": {},
   "source": [
    "## 3. Create the Initial Desgin"
   ]
  },
  {
   "cell_type": "code",
   "execution_count": 12,
   "metadata": {},
   "outputs": [
    {
     "data": {
      "text/html": [
       "<div>\n",
       "<style scoped>\n",
       "    .dataframe tbody tr th:only-of-type {\n",
       "        vertical-align: middle;\n",
       "    }\n",
       "\n",
       "    .dataframe tbody tr th {\n",
       "        vertical-align: top;\n",
       "    }\n",
       "\n",
       "    .dataframe thead th {\n",
       "        text-align: right;\n",
       "    }\n",
       "</style>\n",
       "<table border=\"1\" class=\"dataframe\">\n",
       "  <thead>\n",
       "    <tr style=\"text-align: right;\">\n",
       "      <th></th>\n",
       "      <th>stenutz_name</th>\n",
       "      <th>boiling_point</th>\n",
       "    </tr>\n",
       "    <tr>\n",
       "      <th>cas_number</th>\n",
       "      <th></th>\n",
       "      <th></th>\n",
       "    </tr>\n",
       "  </thead>\n",
       "  <tbody>\n",
       "    <tr>\n",
       "      <th>540-36-3</th>\n",
       "      <td>1,4-difluorobenzene</td>\n",
       "      <td>89</td>\n",
       "    </tr>\n",
       "    <tr>\n",
       "      <th>96-22-0</th>\n",
       "      <td>3-pentanone</td>\n",
       "      <td>101</td>\n",
       "    </tr>\n",
       "    <tr>\n",
       "      <th>540-36-3</th>\n",
       "      <td>1,4-difluorobenzene</td>\n",
       "      <td>89</td>\n",
       "    </tr>\n",
       "    <tr>\n",
       "      <th>64-19-7</th>\n",
       "      <td>acetic acid</td>\n",
       "      <td>118</td>\n",
       "    </tr>\n",
       "    <tr>\n",
       "      <th>142-82-5</th>\n",
       "      <td>heptane</td>\n",
       "      <td>98</td>\n",
       "    </tr>\n",
       "    <tr>\n",
       "      <th>142-68-7</th>\n",
       "      <td>oxane</td>\n",
       "      <td>88</td>\n",
       "    </tr>\n",
       "    <tr>\n",
       "      <th>110-86-1</th>\n",
       "      <td>pyridine</td>\n",
       "      <td>115</td>\n",
       "    </tr>\n",
       "    <tr>\n",
       "      <th>107-12-0</th>\n",
       "      <td>propanenitrile</td>\n",
       "      <td>97</td>\n",
       "    </tr>\n",
       "  </tbody>\n",
       "</table>\n",
       "</div>"
      ],
      "text/plain": [
       "NAME               stenutz_name boiling_point\n",
       "cas_number                                   \n",
       "540-36-3    1,4-difluorobenzene            89\n",
       "96-22-0             3-pentanone           101\n",
       "540-36-3    1,4-difluorobenzene            89\n",
       "64-19-7             acetic acid           118\n",
       "142-82-5                heptane            98\n",
       "142-68-7                  oxane            88\n",
       "110-86-1               pyridine           115\n",
       "107-12-0         propanenitrile            97"
      ]
     },
     "execution_count": 12,
     "metadata": {},
     "output_type": "execute_result"
    }
   ],
   "source": [
    "rs = np.random.RandomState(30) #seed the random number generator for a deterministic result\n",
    "lhs = LatinDesigner(domain_lab, rs)\n",
    "design_lab = lhs.generate_experiments(8, unique=True, criterion='maximin')\n",
    "lab_indices = design_lab.get_indices()\n",
    "final_selection = solvent_ds_lab.iloc[lab_indices[:, 0], :][solvent_ds_lab.metadata_columns]\n",
    "final_selection.to_csv('outputs/initial_design.csv')\n",
    "final_selection[['stenutz_name', 'boiling_point']]"
   ]
  },
  {
   "cell_type": "code",
   "execution_count": 18,
   "metadata": {},
   "outputs": [
    {
     "data": {
      "image/png": "[encoded data removed]",
      "text/plain": [
       "<Figure size 432x288 with 1 Axes>"
      ]
     },
     "metadata": {
      "needs_background": "light"
     },
     "output_type": "display_data"
    }
   ],
   "source": [
    "fig, ax = plt.subplots()\n",
    "fig.tight_layout()\n",
    "ax.scatter(pcs_practical[:, 0], pcs_practical[:, 1], \n",
    "           label='Boiling Point between 80°C and 140°C',\n",
    "           alpha=0.2)\n",
    "solvent_lab = solvent_ds_lab.data_to_numpy()\n",
    "ax.scatter(solvent_lab[:, 0], solvent_lab[:,1], label=\"Available in Lab\")\n",
    "experiments_pcs_values = design_lab.get_values()\n",
    "ax.scatter(experiments_pcs_values[:,0], experiments_pcs_values[:, 1], label='Initial Design')\n",
    "ax.legend(bbox_to_anchor=(1, 1.0))\n",
    "ax.spines['left'].set_position('zero')\n",
    "ax.spines['right'].set_color('none')\n",
    "ax.spines['bottom'].set_position('zero')\n",
    "ax.spines['top'].set_color('none')\n",
    "plt.savefig('outputs/initial_design_pca.png')\n",
    "plt.savefig('outputs/initial_design_pca.svg')\n",
    "plt.show()"
   ]
  },
  {
   "cell_type": "markdown",
   "metadata": {},
   "source": [
    "## 4. Get Safety Data"
   ]
  },
  {
   "cell_type": "code",
   "execution_count": 79,
   "metadata": {},
   "outputs": [],
   "source": [
    "#Download safety data from PubChem for all solvents in the lab\n",
    "sds_data  = [get_safety_data(solvent['stenutz_name'].values[0])\n",
    "             for _, solvent in solvent_ds_lab.iterrows()]"
   ]
  },
  {
   "cell_type": "code",
   "execution_count": 82,
   "metadata": {},
   "outputs": [],
   "source": [
    "sds_df = pd.DataFrame(sds_data)\n",
    "sds_df.to_csv('outputs/safety_data.csv')"
   ]
  }
 ],
 "metadata": {
  "kernelspec": {
   "display_name": "Python 3",
   "language": "python",
   "name": "python3"
  },
  "language_info": {
   "codemirror_mode": {
    "name": "ipython",
    "version": 3
   },
   "file_extension": ".py",
   "mimetype": "text/x-python",
   "name": "python",
   "nbconvert_exporter": "python",
   "pygments_lexer": "ipython3",
   "version": "3.6.8"
  }
 },
 "nbformat": 4,
 "nbformat_minor": 2
}
