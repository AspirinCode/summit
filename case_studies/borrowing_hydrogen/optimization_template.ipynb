{
 "cells": [
  {
   "cell_type": "code",
   "execution_count": 3,
   "metadata": {},
   "outputs": [],
   "source": [
    "#parameters\n",
    "experimental_datafile = 'inputs/results.csv'\n",
    "domain_configfile = 'inputs/borrowing_hydrogen_domain.json'\n",
    "batch_size = 10"
   ]
  },
  {
   "cell_type": "code",
   "execution_count": 10,
   "metadata": {},
   "outputs": [],
   "source": [
    "# from summit.strategies import TSEMO\n",
    "from summit.models import GPyModel\n",
    "\n",
    "from gp_optimizer import DirectOpt\n",
    "# from summit.optimizers import EnumerationOptimizer\n",
    "# from summit.objective import HV\n",
    "# from summit.domain import *\n",
    "import numpy as np\n",
    "import matplotlib.pyplot as plt"
   ]
  },
  {
   "cell_type": "code",
   "execution_count": null,
   "metadata": {},
   "outputs": [],
   "source": [
    "#Import data\n",
    "domain = Domain.from_configfile(domain_configfile)\n",
    "previous_results = DataSet.from_csv(experimental_datafile)"
   ]
  },
  {
   "cell_type": "code",
   "execution_count": null,
   "metadata": {},
   "outputs": [],
   "source": [
    "#Run the optimization\n",
    "kernel = GPy.kern.Matern52(input_dim = domain.num_continuous_dimension+domain.num_discrete_variables, ARD=TRUE)\n",
    "models = [GPyModel(kernel=kernel) for _ in range(2)]\n",
    "tsemo = TSEMO(domain, models, acquisition=HV(), optimizer=EnumerationOptimizer())\n",
    "design = tsemo.generate_experiments(previous_results, batch_size)"
   ]
  },
  {
   "cell_type": "code",
   "execution_count": null,
   "metadata": {},
   "outputs": [],
   "source": [
    "#Generate some nice plots\n",
    "\n",
    "##3d plots of the GP models and original data in 2D pc space\n",
    "\n",
    "##Plots of the models' hyperparameters for each batch including this one\n",
    "\n",
    "##Plots of the models' log likelihood after each batch including this one\n",
    "\n",
    "##Plots of the hypervolume for each batch inlcuding this one"
   ]
  },
  {
   "cell_type": "code",
   "execution_count": null,
   "metadata": {},
   "outputs": [],
   "source": [
    "#Save design for next experiment(s) and model hyperparameters to disk                                     \n",
    "next_batch_num = previous_results['batch_number'].max() + 1\n",
    "design.insert(0, 'batch_number', np.ones(design.shape[0])*next_batch_num, type='METADATA')\n",
    "design.to_csv(f'outputs/batch_{next_batch_num}.csv')\n",
    "tsemo.save_params(f'outputs/{batch}')"
   ]
  }
 ],
 "metadata": {
  "kernelspec": {
   "display_name": "Python 3",
   "language": "python",
   "name": "python3"
  },
  "language_info": {
   "codemirror_mode": {
    "name": "ipython",
    "version": 3
   },
   "file_extension": ".py",
   "mimetype": "text/x-python",
   "name": "python",
   "nbconvert_exporter": "python",
   "pygments_lexer": "ipython3",
   "version": "3.6.8"
  }
 },
 "nbformat": 4,
 "nbformat_minor": 2
}
