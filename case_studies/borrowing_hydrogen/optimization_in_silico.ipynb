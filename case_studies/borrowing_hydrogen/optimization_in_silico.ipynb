{
 "cells": [
  {
   "cell_type": "code",
   "execution_count": 4,
   "metadata": {},
   "outputs": [
    {
     "name": "stdout",
     "output_type": "stream",
     "text": [
      "The autoreload extension is already loaded. To reload it, use:\n",
      "  %reload_ext autoreload\n"
     ]
    }
   ],
   "source": [
    "%load_ext autoreload\n",
    "%autoreload 2"
   ]
  },
  {
   "cell_type": "code",
   "execution_count": 5,
   "metadata": {},
   "outputs": [],
   "source": [
    "from surrogate_model_functions import plot_3d_model, loo_error\n",
    "from summit.strategies import TSEMO\n",
    "from summit.models import GPyModel\n",
    "from summit.data import solvent_ds, ucb_ds, DataSet\n",
    "from summit.domain import Domain, DescriptorsVariable,ContinuousVariable\n",
    "from summit.initial_design import LatinDesigner\n",
    "# from summit.optimizers import EnumerationOptimizer\n",
    "# from summit.objective import HV\n",
    "\n",
    "import GPy\n",
    "from sklearn.decomposition import PCA\n",
    "import pandas as pd\n",
    "import numpy as np\n",
    "import matplotlib.pyplot as plt"
   ]
  },
  {
   "cell_type": "code",
   "execution_count": 156,
   "metadata": {},
   "outputs": [
    {
     "name": "stdout",
     "output_type": "stream",
     "text": [
      "80 solvents for optimization\n",
      "68.0% of variance is explained by 3 principal components.\n"
     ]
    }
   ],
   "source": [
    "#Read in solubility data\n",
    "solubilities = pd.read_csv('inputs/solubilities.csv')\n",
    "solubilities = solubilities.set_index('cas_number')\n",
    "solubilities = DataSet.from_df(solubilities)\n",
    "\n",
    "#Merge data sets\n",
    "solvent_ds_full = solvent_ds.join(solubilities)\n",
    "solvent_ds_final = pd.merge(solvent_ds_full, ucb_ds, left_index=True,right_index=True)\n",
    "print(f\"{solvent_ds_final.shape[0]} solvents for optimization\")\n",
    "\n",
    "#Double check that there are no NaNs in the descriptors\n",
    "values = solvent_ds_final.data_to_numpy()\n",
    "values = values.astype(np.float64)\n",
    "check = np.isnan(values)\n",
    "assert check.all() == False\n",
    "\n",
    "#Transform to principal componets\n",
    "num_components = 3\n",
    "# pca = PCA(n_components=num_components)\n",
    "pca.fit(solvent_ds_full.standardize())\n",
    "pcs = pca.fit_transform(solvent_ds_final.standardize())\n",
    "explained_var = round(pca.explained_variance_ratio_.sum()*100)\n",
    "expl = f\"{explained_var}% of variance is explained by {num_components} principal components.\"\n",
    "print(expl)\n",
    "\n",
    "#Create a new dataset with just the principal components\n",
    "metadata_df = solvent_ds_final.loc[:, solvent_ds_final.metadata_columns]\n",
    "pc_df = pd.DataFrame(pcs, columns = [f'PC_{i}' for i in range(num_components)], \n",
    "                     index=metadata_df.index)\n",
    "pc_ds = DataSet.from_df(pc_df)\n",
    "solvent_ds_pcs = pd.concat([metadata_df, pc_ds], axis=1)"
   ]
  },
  {
   "cell_type": "code",
   "execution_count": 236,
   "metadata": {},
   "outputs": [],
   "source": [
    "# Set up test problem\n",
    "AD1 = 3.1\n",
    "AD2 = 0.7\n",
    "EAD1 = 50\n",
    "EAD2 = 70\n",
    "R = 8.314\n",
    "cd1 = lambda t, T, Es: AD1*t*np.exp(-(EAD1+Es)/T)\n",
    "cd2 = lambda t, T, Es: AD2*t*np.exp(-(EAD2+Es)/T)\n",
    "Es1 = lambda pc1, pc2: -50*pc1+0.009*pc2**2-0.005*pc1**3\n",
    "Es2 = lambda pc1, pc2: (-0.001*pc1-np.exp(pc2))*10\n",
    "\n",
    "def experiment(solvent_cas, random_state=np.random.RandomState()):\n",
    "    pc_solvent = solvent_ds_pcs.loc[solvent_cas][solvent_ds_pcs.data_columns].to_numpy()\n",
    "    es1 = Es1(pc_solvent[0], pc_solvent[1])\n",
    "    es2 = Es2(pc_solvent[0], pc_solvent[1])\n",
    "    T = 5 * random_state.randn(1) + 393\n",
    "    t = 0.1 * random_state.randn(1) + 7\n",
    "    exper_cd1 = cd1(t, T, es1)\n",
    "    exper_cd2 = cd2(t, T, es2)\n",
    "    print(f\"es1: {es1}, es2: {es2}, cd1:{round(exper_cd1[0])}, cd2: {round(exper_cd2[0])}\")\n",
    "    conversion = exper_cd1 + exper_cd2\n",
    "    de = abs(exper_cd1-exper_cd2)/(exper_cd1 +exper_cd2)\n",
    "    return np.array([conversion[0], de[0]*100])"
   ]
  },
  {
   "cell_type": "code",
   "execution_count": 158,
   "metadata": {},
   "outputs": [
    {
     "data": {
      "text/html": [
       "<table id='domain' width=100%><tr><td><b>Name</b></td><td><b>Type</b></td><td><b>Description</b></td><td><b>Values</b></td></tr><tr><td>solvent</td><td>descriptors, input</td><td>solvent for the borrowing hydrogen reaction</td><td>80 examples of 3 descriptors</td></tr><tr><td>conversion</td><td>continuous, output</td><td>relative conversion to triphenylphosphine oxide determined by LCMS</td><td>[0,100]</td></tr><tr><td>de</td><td>continuous, output</td><td>diastereomeric excess determined by ratio of LCMS peaks</td><td>[0,100]</td></tr></table>"
      ],
      "text/plain": [
       "<summit.domain.Domain at 0x1259056a0>"
      ]
     },
     "execution_count": 158,
     "metadata": {},
     "output_type": "execute_result"
    }
   ],
   "source": [
    "#Set up optimization domain\n",
    "domain = Domain()\n",
    "domain += DescriptorsVariable(name='solvent',\n",
    "                             description='solvent for the borrowing hydrogen reaction',\n",
    "                             ds=solvent_ds_pcs)\n",
    "domain += ContinuousVariable(name='conversion',\n",
    "                             description='relative conversion to triphenylphosphine oxide determined by LCMS',\n",
    "                             bounds=[0, 100],\n",
    "                             is_output=True)\n",
    "domain += ContinuousVariable(name='de',\n",
    "                             description='diastereomeric excess determined by ratio of LCMS peaks',\n",
    "                             bounds=[0, 100],\n",
    "                             is_output=True)\n",
    "domain"
   ]
  },
  {
   "cell_type": "code",
   "execution_count": 159,
   "metadata": {},
   "outputs": [
    {
     "data": {
      "text/html": [
       "<table border=\"1\" class=\"dataframe\">\n",
       "  <thead>\n",
       "    <tr style=\"text-align: right;\">\n",
       "      <th></th>\n",
       "      <th>cas_number</th>\n",
       "    </tr>\n",
       "  </thead>\n",
       "  <tbody>\n",
       "    <tr>\n",
       "      <th>0</th>\n",
       "      <td>141-78-6</td>\n",
       "    </tr>\n",
       "    <tr>\n",
       "      <th>1</th>\n",
       "      <td>107-21-1</td>\n",
       "    </tr>\n",
       "    <tr>\n",
       "      <th>2</th>\n",
       "      <td>76-05-1</td>\n",
       "    </tr>\n",
       "    <tr>\n",
       "      <th>3</th>\n",
       "      <td>96-49-1</td>\n",
       "    </tr>\n",
       "    <tr>\n",
       "      <th>4</th>\n",
       "      <td>75-52-5</td>\n",
       "    </tr>\n",
       "    <tr>\n",
       "      <th>5</th>\n",
       "      <td>105-58-8</td>\n",
       "    </tr>\n",
       "    <tr>\n",
       "      <th>6</th>\n",
       "      <td>100-51-6</td>\n",
       "    </tr>\n",
       "    <tr>\n",
       "      <th>7</th>\n",
       "      <td>111-87-5</td>\n",
       "    </tr>\n",
       "  </tbody>\n",
       "</table>"
      ],
      "text/plain": [
       "<summit.initial_design.base.Design at 0x1258f62e8>"
      ]
     },
     "execution_count": 159,
     "metadata": {},
     "output_type": "execute_result"
    }
   ],
   "source": [
    "#Initial design\n",
    "random_state = np.random.RandomState(1000)\n",
    "lhs = LatinDesigner(domain,random_state)\n",
    "initial_design = lhs.generate_experiments(8)\n",
    "initial_design"
   ]
  },
  {
   "cell_type": "code",
   "execution_count": 237,
   "metadata": {},
   "outputs": [
    {
     "name": "stdout",
     "output_type": "stream",
     "text": [
      "es1: 20.657539091253007, es2: -5.536490187962708, cd1:18.0, cd2: 4.0\n",
      "es1: -250.90922714217015, es2: -13.558254866572883, cd1:37.0, cd2: 4.0\n",
      "es1: -140.25768980094497, es2: -2.2195037586635498, cd1:27.0, cd2: 4.0\n",
      "es1: -260.72891548329375, es2: -150.80546660249675, cd1:37.0, cd2: 6.0\n",
      "es1: -191.10544688104358, es2: -3.6003355557105183, cd1:31.0, cd2: 4.0\n",
      "es1: 59.75997257871542, es2: -28.86772405265798, cd1:16.0, cd2: 4.0\n",
      "es1: -41.74939967102038, es2: -99.95926651561867, cd1:21.0, cd2: 5.0\n",
      "es1: 80.37838254547982, es2: -103.89331933728819, cd1:16.0, cd2: 5.0\n"
     ]
    },
    {
     "data": {
      "text/html": [
       "<div>\n",
       "<style scoped>\n",
       "    .dataframe tbody tr th:only-of-type {\n",
       "        vertical-align: middle;\n",
       "    }\n",
       "\n",
       "    .dataframe tbody tr th {\n",
       "        vertical-align: top;\n",
       "    }\n",
       "\n",
       "    .dataframe thead th {\n",
       "        text-align: right;\n",
       "    }\n",
       "</style>\n",
       "<table border=\"1\" class=\"dataframe\">\n",
       "  <thead>\n",
       "    <tr style=\"text-align: right;\">\n",
       "      <th></th>\n",
       "      <th>conversion</th>\n",
       "      <th>de</th>\n",
       "      <th>solvent</th>\n",
       "    </tr>\n",
       "  </thead>\n",
       "  <tbody>\n",
       "    <tr>\n",
       "      <th>0</th>\n",
       "      <td>22.349157</td>\n",
       "      <td>62.676888</td>\n",
       "      <td>141-78-6</td>\n",
       "    </tr>\n",
       "    <tr>\n",
       "      <th>1</th>\n",
       "      <td>40.803339</td>\n",
       "      <td>79.004945</td>\n",
       "      <td>107-21-1</td>\n",
       "    </tr>\n",
       "    <tr>\n",
       "      <th>2</th>\n",
       "      <td>31.622528</td>\n",
       "      <td>73.791094</td>\n",
       "      <td>76-05-1</td>\n",
       "    </tr>\n",
       "    <tr>\n",
       "      <th>3</th>\n",
       "      <td>42.847986</td>\n",
       "      <td>72.092186</td>\n",
       "      <td>96-49-1</td>\n",
       "    </tr>\n",
       "    <tr>\n",
       "      <th>4</th>\n",
       "      <td>34.900218</td>\n",
       "      <td>76.412596</td>\n",
       "      <td>75-52-5</td>\n",
       "    </tr>\n",
       "    <tr>\n",
       "      <th>5</th>\n",
       "      <td>20.627487</td>\n",
       "      <td>57.667120</td>\n",
       "      <td>105-58-8</td>\n",
       "    </tr>\n",
       "    <tr>\n",
       "      <th>6</th>\n",
       "      <td>26.382769</td>\n",
       "      <td>60.097645</td>\n",
       "      <td>100-51-6</td>\n",
       "    </tr>\n",
       "    <tr>\n",
       "      <th>7</th>\n",
       "      <td>20.934565</td>\n",
       "      <td>48.885554</td>\n",
       "      <td>111-87-5</td>\n",
       "    </tr>\n",
       "  </tbody>\n",
       "</table>\n",
       "</div>"
      ],
      "text/plain": [
       "NAME  conversion         de   solvent\n",
       "0      22.349157  62.676888  141-78-6\n",
       "1      40.803339  79.004945  107-21-1\n",
       "2      31.622528  73.791094   76-05-1\n",
       "3      42.847986  72.092186   96-49-1\n",
       "4      34.900218  76.412596   75-52-5\n",
       "5      20.627487  57.667120  105-58-8\n",
       "6      26.382769  60.097645  100-51-6\n",
       "7      20.934565  48.885554  111-87-5"
      ]
     },
     "execution_count": 237,
     "metadata": {},
     "output_type": "execute_result"
    }
   ],
   "source": [
    "#Initial experiments\n",
    "random_state = np.random.RandomState(1000)\n",
    "initial_experiments = [experiment(cas, random_state) \n",
    "                       for cas in initial_design.to_frame()['cas_number']]\n",
    "initial_experiments = pd.DataFrame(initial_experiments, columns=['conversion', 'de'])\n",
    "initial_experiments = DataSet.from_df(initial_experiments)\n",
    "design_df = initial_design.to_frame()\n",
    "design_df = design_df.rename(index=int, columns={'cas_number': 'solvent'})\n",
    "design_ds = DataSet.from_df(design_df)\n",
    "initial_experiments = initial_experiments.merge(design_ds, left_index=True, right_index=True)\n",
    "initial_experiments"
   ]
  },
  {
   "cell_type": "code",
   "execution_count": 238,
   "metadata": {},
   "outputs": [
    {
     "name": "stdout",
     "output_type": "stream",
     "text": [
      "> \u001b[0;32m/Users/Kobi/Documents/Research/summit/summit/models.py\u001b[0m(79)\u001b[0;36mspectral_posterior_sample\u001b[0;34m()\u001b[0m\n",
      "\u001b[0;32m     78 \u001b[0;31m        \u001b[0;32mimport\u001b[0m \u001b[0mipdb\u001b[0m\u001b[0;34m;\u001b[0m \u001b[0mipdb\u001b[0m\u001b[0;34m.\u001b[0m\u001b[0mset_trace\u001b[0m\u001b[0;34m(\u001b[0m\u001b[0;34m)\u001b[0m\u001b[0;34m\u001b[0m\u001b[0;34m\u001b[0m\u001b[0m\n",
      "\u001b[0m\u001b[0;32m---> 79 \u001b[0;31m        \u001b[0minvA\u001b[0m \u001b[0;34m=\u001b[0m \u001b[0minv_cholesky\u001b[0m\u001b[0;34m(\u001b[0m\u001b[0mA\u001b[0m\u001b[0;34m)\u001b[0m\u001b[0;34m\u001b[0m\u001b[0;34m\u001b[0m\u001b[0m\n",
      "\u001b[0m\u001b[0;32m     80 \u001b[0;31m        \u001b[0mmu_theta\u001b[0m \u001b[0;34m=\u001b[0m \u001b[0minvA\u001b[0m\u001b[0;34m@\u001b[0m\u001b[0mphi\u001b[0m\u001b[0;34m@\u001b[0m\u001b[0mYnew\u001b[0m\u001b[0;34m\u001b[0m\u001b[0;34m\u001b[0m\u001b[0m\n",
      "\u001b[0m\n"
     ]
    },
    {
     "name": "stdin",
     "output_type": "stream",
     "text": [
      "ipdb>  n\n"
     ]
    },
    {
     "name": "stdout",
     "output_type": "stream",
     "text": [
      "> \u001b[0;32m/Users/Kobi/Documents/Research/summit/summit/models.py\u001b[0m(80)\u001b[0;36mspectral_posterior_sample\u001b[0;34m()\u001b[0m\n",
      "\u001b[0;32m     79 \u001b[0;31m        \u001b[0minvA\u001b[0m \u001b[0;34m=\u001b[0m \u001b[0minv_cholesky\u001b[0m\u001b[0;34m(\u001b[0m\u001b[0mA\u001b[0m\u001b[0;34m)\u001b[0m\u001b[0;34m\u001b[0m\u001b[0;34m\u001b[0m\u001b[0m\n",
      "\u001b[0m\u001b[0;32m---> 80 \u001b[0;31m        \u001b[0mmu_theta\u001b[0m \u001b[0;34m=\u001b[0m \u001b[0minvA\u001b[0m\u001b[0;34m@\u001b[0m\u001b[0mphi\u001b[0m\u001b[0;34m@\u001b[0m\u001b[0mYnew\u001b[0m\u001b[0;34m\u001b[0m\u001b[0;34m\u001b[0m\u001b[0m\n",
      "\u001b[0m\u001b[0;32m     81 \u001b[0;31m        \u001b[0mcov_theta\u001b[0m \u001b[0;34m=\u001b[0m \u001b[0msn2\u001b[0m\u001b[0;34m*\u001b[0m\u001b[0minvA\u001b[0m\u001b[0;34m\u001b[0m\u001b[0;34m\u001b[0m\u001b[0m\n",
      "\u001b[0m\n"
     ]
    },
    {
     "name": "stdin",
     "output_type": "stream",
     "text": [
      "ipdb>  c\n"
     ]
    },
    {
     "name": "stdout",
     "output_type": "stream",
     "text": [
      "> \u001b[0;32m/Users/Kobi/Documents/Research/summit/summit/models.py\u001b[0m(79)\u001b[0;36mspectral_posterior_sample\u001b[0;34m()\u001b[0m\n",
      "\u001b[0;32m     78 \u001b[0;31m        \u001b[0;32mimport\u001b[0m \u001b[0mipdb\u001b[0m\u001b[0;34m;\u001b[0m \u001b[0mipdb\u001b[0m\u001b[0;34m.\u001b[0m\u001b[0mset_trace\u001b[0m\u001b[0;34m(\u001b[0m\u001b[0;34m)\u001b[0m\u001b[0;34m\u001b[0m\u001b[0;34m\u001b[0m\u001b[0m\n",
      "\u001b[0m\u001b[0;32m---> 79 \u001b[0;31m        \u001b[0minvA\u001b[0m \u001b[0;34m=\u001b[0m \u001b[0minv_cholesky\u001b[0m\u001b[0;34m(\u001b[0m\u001b[0mA\u001b[0m\u001b[0;34m)\u001b[0m\u001b[0;34m\u001b[0m\u001b[0;34m\u001b[0m\u001b[0m\n",
      "\u001b[0m\u001b[0;32m     80 \u001b[0;31m        \u001b[0mmu_theta\u001b[0m \u001b[0;34m=\u001b[0m \u001b[0minvA\u001b[0m\u001b[0;34m@\u001b[0m\u001b[0mphi\u001b[0m\u001b[0;34m@\u001b[0m\u001b[0mYnew\u001b[0m\u001b[0;34m\u001b[0m\u001b[0;34m\u001b[0m\u001b[0m\n",
      "\u001b[0m\n"
     ]
    },
    {
     "name": "stdin",
     "output_type": "stream",
     "text": [
      "ipdb>  n\n"
     ]
    },
    {
     "name": "stdout",
     "output_type": "stream",
     "text": [
      "> \u001b[0;32m/Users/Kobi/Documents/Research/summit/summit/models.py\u001b[0m(80)\u001b[0;36mspectral_posterior_sample\u001b[0;34m()\u001b[0m\n",
      "\u001b[0;32m     79 \u001b[0;31m        \u001b[0minvA\u001b[0m \u001b[0;34m=\u001b[0m \u001b[0minv_cholesky\u001b[0m\u001b[0;34m(\u001b[0m\u001b[0mA\u001b[0m\u001b[0;34m)\u001b[0m\u001b[0;34m\u001b[0m\u001b[0;34m\u001b[0m\u001b[0m\n",
      "\u001b[0m\u001b[0;32m---> 80 \u001b[0;31m        \u001b[0mmu_theta\u001b[0m \u001b[0;34m=\u001b[0m \u001b[0minvA\u001b[0m\u001b[0;34m@\u001b[0m\u001b[0mphi\u001b[0m\u001b[0;34m@\u001b[0m\u001b[0mYnew\u001b[0m\u001b[0;34m\u001b[0m\u001b[0;34m\u001b[0m\u001b[0m\n",
      "\u001b[0m\u001b[0;32m     81 \u001b[0;31m        \u001b[0mcov_theta\u001b[0m \u001b[0;34m=\u001b[0m \u001b[0msn2\u001b[0m\u001b[0;34m*\u001b[0m\u001b[0minvA\u001b[0m\u001b[0;34m\u001b[0m\u001b[0;34m\u001b[0m\u001b[0m\n",
      "\u001b[0m\n"
     ]
    },
    {
     "name": "stdin",
     "output_type": "stream",
     "text": [
      "ipdb>  c\n"
     ]
    },
    {
     "ename": "ValueError",
     "evalue": "not enough values to unpack (expected 2, got 1)",
     "output_type": "error",
     "traceback": [
      "\u001b[0;31m---------------------------------------------------------------------------\u001b[0m",
      "\u001b[0;31mValueError\u001b[0m                                Traceback (most recent call last)",
      "\u001b[0;32m<ipython-input-238-af268a67de3e>\u001b[0m in \u001b[0;36m<module>\u001b[0;34m\u001b[0m\n\u001b[1;32m      6\u001b[0m \u001b[0;31m# tsemo = TSEMO(domain, models, acquisition=HV(), optimizer=EnumerationOptimizer())\u001b[0m\u001b[0;34m\u001b[0m\u001b[0;34m\u001b[0m\u001b[0;34m\u001b[0m\u001b[0m\n\u001b[1;32m      7\u001b[0m \u001b[0mtsemo\u001b[0m \u001b[0;34m=\u001b[0m \u001b[0mTSEMO\u001b[0m\u001b[0;34m(\u001b[0m\u001b[0mdomain\u001b[0m\u001b[0;34m,\u001b[0m \u001b[0mmodels\u001b[0m\u001b[0;34m)\u001b[0m\u001b[0;34m\u001b[0m\u001b[0;34m\u001b[0m\u001b[0m\n\u001b[0;32m----> 8\u001b[0;31m \u001b[0mdesign\u001b[0m \u001b[0;34m=\u001b[0m \u001b[0mtsemo\u001b[0m\u001b[0;34m.\u001b[0m\u001b[0mgenerate_experiments\u001b[0m\u001b[0;34m(\u001b[0m\u001b[0minitial_experiments\u001b[0m\u001b[0;34m,\u001b[0m \u001b[0;36m8\u001b[0m\u001b[0;34m,\u001b[0m \u001b[0mnormalize\u001b[0m\u001b[0;34m=\u001b[0m\u001b[0;32mFalse\u001b[0m\u001b[0;34m)\u001b[0m\u001b[0;34m\u001b[0m\u001b[0;34m\u001b[0m\u001b[0m\n\u001b[0m",
      "\u001b[0;32m~/Documents/Research/summit/summit/strategies.py\u001b[0m in \u001b[0;36mgenerate_experiments\u001b[0;34m(self, previous_results, num_experiments, normalize, num_spectral_samples)\u001b[0m\n\u001b[1;32m     86\u001b[0m         self.sample_pareto, self.samplenadir = find_sample_pareto(sample_funcs, \n\u001b[1;32m     87\u001b[0m                                                                   \u001b[0mself\u001b[0m\u001b[0;34m.\u001b[0m\u001b[0mdomain\u001b[0m\u001b[0;34m.\u001b[0m\u001b[0mvariables\u001b[0m\u001b[0;34m[\u001b[0m\u001b[0;36m0\u001b[0m\u001b[0;34m]\u001b[0m\u001b[0;34m.\u001b[0m\u001b[0mds\u001b[0m\u001b[0;34m.\u001b[0m\u001b[0mdata_to_numpy\u001b[0m\u001b[0;34m(\u001b[0m\u001b[0;34m)\u001b[0m\u001b[0;34m,\u001b[0m\u001b[0;34m\u001b[0m\u001b[0;34m\u001b[0m\u001b[0m\n\u001b[0;32m---> 88\u001b[0;31m                                                                   num_spectral_samples)\n\u001b[0m\u001b[1;32m     89\u001b[0m \u001b[0;34m\u001b[0m\u001b[0m\n\u001b[1;32m     90\u001b[0m         \u001b[0;31m# acquisition_values = np.zeros([len(pareto_sample), 1])\u001b[0m\u001b[0;34m\u001b[0m\u001b[0;34m\u001b[0m\u001b[0;34m\u001b[0m\u001b[0m\n",
      "\u001b[0;32m~/Documents/Research/summit/summit/strategies.py\u001b[0m in \u001b[0;36mfind_sample_pareto\u001b[0;34m(objectives, enumeration, num_spectral_points)\u001b[0m\n\u001b[1;32m    113\u001b[0m     \u001b[0;32melse\u001b[0m\u001b[0;34m:\u001b[0m\u001b[0;34m\u001b[0m\u001b[0;34m\u001b[0m\u001b[0m\n\u001b[1;32m    114\u001b[0m         \u001b[0;32mfor\u001b[0m \u001b[0mi\u001b[0m \u001b[0;32min\u001b[0m \u001b[0mrange\u001b[0m\u001b[0;34m(\u001b[0m\u001b[0mk\u001b[0m\u001b[0;34m)\u001b[0m\u001b[0;34m:\u001b[0m\u001b[0;34m\u001b[0m\u001b[0;34m\u001b[0m\u001b[0m\n\u001b[0;32m--> 115\u001b[0;31m             \u001b[0msample_pareto\u001b[0m\u001b[0;34m[\u001b[0m\u001b[0mi\u001b[0m\u001b[0;34m,\u001b[0m \u001b[0;34m:\u001b[0m\u001b[0;34m]\u001b[0m \u001b[0;34m=\u001b[0m \u001b[0mpareto_objective\u001b[0m\u001b[0;34m(\u001b[0m\u001b[0menumeration\u001b[0m\u001b[0;34m[\u001b[0m\u001b[0mi\u001b[0m\u001b[0;34m,\u001b[0m \u001b[0;34m:\u001b[0m\u001b[0;34m]\u001b[0m\u001b[0;34m,\u001b[0m \u001b[0mobjectives\u001b[0m\u001b[0;34m,\u001b[0m \u001b[0;34m[\u001b[0m\u001b[0mnum_spectral_points\u001b[0m\u001b[0;34m,\u001b[0m \u001b[0mD\u001b[0m\u001b[0;34m]\u001b[0m\u001b[0;34m)\u001b[0m\u001b[0;34m\u001b[0m\u001b[0;34m\u001b[0m\u001b[0m\n\u001b[0m\u001b[1;32m    116\u001b[0m             \u001b[0msample_nadir\u001b[0m\u001b[0;34m[\u001b[0m\u001b[0mi\u001b[0m\u001b[0;34m]\u001b[0m \u001b[0;34m=\u001b[0m \u001b[0mnp\u001b[0m\u001b[0;34m.\u001b[0m\u001b[0mmax\u001b[0m\u001b[0;34m(\u001b[0m\u001b[0msample_pareto\u001b[0m\u001b[0;34m[\u001b[0m\u001b[0;34m:\u001b[0m\u001b[0;34m,\u001b[0m \u001b[0mi\u001b[0m\u001b[0;34m]\u001b[0m\u001b[0;34m)\u001b[0m\u001b[0;34m\u001b[0m\u001b[0;34m\u001b[0m\u001b[0m\n\u001b[1;32m    117\u001b[0m \u001b[0;34m\u001b[0m\u001b[0m\n",
      "\u001b[0;32m~/Documents/Research/summit/summit/strategies.py\u001b[0m in \u001b[0;36mpareto_objective\u001b[0;34m(x, sample_funcs, DIM)\u001b[0m\n\u001b[1;32m    124\u001b[0m     \u001b[0mf\u001b[0m \u001b[0;34m=\u001b[0m \u001b[0mnp\u001b[0m\u001b[0;34m.\u001b[0m\u001b[0mzeros\u001b[0m\u001b[0;34m(\u001b[0m\u001b[0mDIM\u001b[0m\u001b[0;34m)\u001b[0m\u001b[0;34m\u001b[0m\u001b[0;34m\u001b[0m\u001b[0m\n\u001b[1;32m    125\u001b[0m     \u001b[0;32mfor\u001b[0m \u001b[0mi\u001b[0m \u001b[0;32min\u001b[0m \u001b[0mrange\u001b[0m\u001b[0;34m(\u001b[0m\u001b[0mDIM\u001b[0m\u001b[0;34m[\u001b[0m\u001b[0;36m1\u001b[0m\u001b[0;34m]\u001b[0m\u001b[0;34m)\u001b[0m\u001b[0;34m:\u001b[0m\u001b[0;34m\u001b[0m\u001b[0;34m\u001b[0m\u001b[0m\n\u001b[0;32m--> 126\u001b[0;31m         \u001b[0mf\u001b[0m\u001b[0;34m[\u001b[0m\u001b[0;34m:\u001b[0m\u001b[0;34m,\u001b[0m\u001b[0mi\u001b[0m\u001b[0;34m]\u001b[0m \u001b[0;34m=\u001b[0m \u001b[0msample_funcs\u001b[0m\u001b[0;34m[\u001b[0m\u001b[0mi\u001b[0m\u001b[0;34m]\u001b[0m\u001b[0;34m(\u001b[0m\u001b[0mx\u001b[0m\u001b[0;34m)\u001b[0m\u001b[0;34m\u001b[0m\u001b[0;34m\u001b[0m\u001b[0m\n\u001b[0m\u001b[1;32m    127\u001b[0m     \u001b[0;32mreturn\u001b[0m \u001b[0mf\u001b[0m\u001b[0;34m\u001b[0m\u001b[0;34m\u001b[0m\u001b[0m\n",
      "\u001b[0;32m~/Documents/Research/summit/summit/models.py\u001b[0m in \u001b[0;36mf\u001b[0;34m(x)\u001b[0m\n\u001b[1;32m     85\u001b[0m         \u001b[0;31m#Posterior sample according to theta\u001b[0m\u001b[0;34m\u001b[0m\u001b[0;34m\u001b[0m\u001b[0;34m\u001b[0m\u001b[0m\n\u001b[1;32m     86\u001b[0m         \u001b[0;32mdef\u001b[0m \u001b[0mf\u001b[0m\u001b[0;34m(\u001b[0m\u001b[0mx\u001b[0m\u001b[0;34m)\u001b[0m\u001b[0;34m:\u001b[0m\u001b[0;34m\u001b[0m\u001b[0;34m\u001b[0m\u001b[0m\n\u001b[0;32m---> 87\u001b[0;31m             \u001b[0minputs\u001b[0m\u001b[0;34m,\u001b[0m \u001b[0m_\u001b[0m \u001b[0;34m=\u001b[0m \u001b[0mnp\u001b[0m\u001b[0;34m.\u001b[0m\u001b[0mshape\u001b[0m\u001b[0;34m(\u001b[0m\u001b[0mx\u001b[0m\u001b[0;34m)\u001b[0m\u001b[0;34m\u001b[0m\u001b[0;34m\u001b[0m\u001b[0m\n\u001b[0m\u001b[1;32m     88\u001b[0m             \u001b[0mbprime\u001b[0m \u001b[0;34m=\u001b[0m \u001b[0mmatlib\u001b[0m\u001b[0;34m.\u001b[0m\u001b[0mrepmat\u001b[0m\u001b[0;34m(\u001b[0m\u001b[0mb\u001b[0m\u001b[0;34m,\u001b[0m \u001b[0;36m1\u001b[0m\u001b[0;34m,\u001b[0m \u001b[0minputs\u001b[0m\u001b[0;34m)\u001b[0m\u001b[0;34m\u001b[0m\u001b[0;34m\u001b[0m\u001b[0m\n\u001b[1;32m     89\u001b[0m             \u001b[0moutput\u001b[0m \u001b[0;34m=\u001b[0m  \u001b[0;34m(\u001b[0m\u001b[0mtheta\u001b[0m\u001b[0;34m.\u001b[0m\u001b[0mtranspose\u001b[0m\u001b[0;34m(\u001b[0m\u001b[0;34m)\u001b[0m\u001b[0;34m*\u001b[0m\u001b[0mnp\u001b[0m\u001b[0;34m.\u001b[0m\u001b[0msqrt\u001b[0m\u001b[0;34m(\u001b[0m\u001b[0;36m2\u001b[0m\u001b[0;34m*\u001b[0m\u001b[0msf2\u001b[0m\u001b[0;34m/\u001b[0m\u001b[0mn_spectral_points\u001b[0m\u001b[0;34m)\u001b[0m\u001b[0;34m)\u001b[0m\u001b[0;34m@\u001b[0m\u001b[0mnp\u001b[0m\u001b[0;34m.\u001b[0m\u001b[0mcos\u001b[0m\u001b[0;34m(\u001b[0m\u001b[0mW\u001b[0m\u001b[0;34m*\u001b[0m\u001b[0mx\u001b[0m\u001b[0;34m.\u001b[0m\u001b[0mtranspose\u001b[0m\u001b[0;34m(\u001b[0m\u001b[0;34m)\u001b[0m\u001b[0;34m+\u001b[0m \u001b[0mbprime\u001b[0m\u001b[0;34m)\u001b[0m\u001b[0;34m\u001b[0m\u001b[0;34m\u001b[0m\u001b[0m\n",
      "\u001b[0;31mValueError\u001b[0m: not enough values to unpack (expected 2, got 1)"
     ]
    }
   ],
   "source": [
    "#Run the optimization\n",
    "input_dim = domain.num_continuous_dimensions() +domain.num_discrete_variables()\n",
    "kernels = [GPy.kern.Matern52(input_dim = input_dim, ARD=True)\n",
    "           for _ in range(2)]\n",
    "models = [GPyModel(kernel=kernels[i]) for i in range(2)]\n",
    "# tsemo = TSEMO(domain, models, acquisition=HV(), optimizer=EnumerationOptimizer())\n",
    "tsemo = TSEMO(domain, models)\n",
    "design = tsemo.generate_experiments(initial_experiments, 8, normalize=False)"
   ]
  },
  {
   "cell_type": "code",
   "execution_count": null,
   "metadata": {},
   "outputs": [],
   "source": []
  }
 ],
 "metadata": {
  "kernelspec": {
   "display_name": "Python 3",
   "language": "python",
   "name": "python3"
  },
  "language_info": {
   "codemirror_mode": {
    "name": "ipython",
    "version": 3
   },
   "file_extension": ".py",
   "mimetype": "text/x-python",
   "name": "python",
   "nbconvert_exporter": "python",
   "pygments_lexer": "ipython3",
   "version": "3.6.8"
  }
 },
 "nbformat": 4,
 "nbformat_minor": 2
}
