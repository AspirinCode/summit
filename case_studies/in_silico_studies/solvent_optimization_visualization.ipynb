{
 "cells": [
  {
   "cell_type": "markdown",
   "metadata": {},
   "source": [
    "# _In-Silico_ Solvent Optimization Study\n",
    "\n",
    "This is a test problem to compare how optimization with black-box algorithms does vs. with molecular descriptors.\n",
    "\n",
    "You should describe the kinetic model used to generate experimental data and the nature of the pareto front."
   ]
  },
  {
   "cell_type": "code",
   "execution_count": 1,
   "metadata": {},
   "outputs": [],
   "source": [
    "from surrogate_model_functions import plot_3d_model, loo_error\n",
    "from solvent_optimization import descriptors_optimization, experiment, create_pcs_ds\n",
    "import numpy as np\n",
    "import matplotlib.pyplot as plt"
   ]
  },
  {
   "cell_type": "code",
   "execution_count": 2,
   "metadata": {},
   "outputs": [
    {
     "name": "stdout",
     "output_type": "stream",
     "text": [
      "80 solvents for optimization\n",
      "68.0% of variance is explained by 3 principal components.\n"
     ]
    }
   ],
   "source": [
    "#Solvent Dataset compressed to 3 principal components\n",
    "solvent_ds_pcs = create_pcs_ds(num_components=3)"
   ]
  },
  {
   "cell_type": "code",
   "execution_count": 3,
   "metadata": {},
   "outputs": [
    {
     "data": {
      "image/png": "[encoded data removed]",
      "text/plain": [
       "<Figure size 432x288 with 1 Axes>"
      ]
     },
     "metadata": {
      "needs_background": "light"
     },
     "output_type": "display_data"
    }
   ],
   "source": [
    "#Visualize all potential experiments\n",
    "random_state = np.random.RandomState(1000)\n",
    "all_experiments = [experiment(cas, solvent_ds_pcs, random_state) \n",
    "                   for cas in solvent_ds_pcs.index.values]\n",
    "all_experiments = np.array(all_experiments)\n",
    "ax = plt.subplot(111)\n",
    "ax.set_xlabel('Conversion (%)'); ax.set_ylabel('DE (%)')\n",
    "ax.scatter(all_experiments[:, 0], all_experiments[:, 1], marker='x')\n",
    "ax.tick_params(direction='in')\n",
    "plt.savefig('outputs/in_silico_experiment_space.png')\n",
    "plt.savefig('outputs/in_silico_experiment_space.svg')"
   ]
  },
  {
   "cell_type": "code",
   "execution_count": 16,
   "metadata": {},
   "outputs": [
    {
     "data": {
      "text/html": [
       "<div>\n",
       "<style scoped>\n",
       "    .dataframe tbody tr th:only-of-type {\n",
       "        vertical-align: middle;\n",
       "    }\n",
       "\n",
       "    .dataframe tbody tr th {\n",
       "        vertical-align: top;\n",
       "    }\n",
       "\n",
       "    .dataframe thead th {\n",
       "        text-align: right;\n",
       "    }\n",
       "</style>\n",
       "<table border=\"1\" class=\"dataframe\">\n",
       "  <thead>\n",
       "    <tr style=\"text-align: right;\">\n",
       "      <th></th>\n",
       "      <th>stenutz_name</th>\n",
       "      <th>cosmo_name</th>\n",
       "      <th>chemical_formula</th>\n",
       "      <th>solvent_class</th>\n",
       "      <th>solvent_name</th>\n",
       "      <th>PC_1</th>\n",
       "      <th>PC_2</th>\n",
       "      <th>PC_3</th>\n",
       "    </tr>\n",
       "    <tr>\n",
       "      <th>cas_number</th>\n",
       "      <th></th>\n",
       "      <th></th>\n",
       "      <th></th>\n",
       "      <th></th>\n",
       "      <th></th>\n",
       "      <th></th>\n",
       "      <th></th>\n",
       "      <th></th>\n",
       "    </tr>\n",
       "  </thead>\n",
       "  <tbody>\n",
       "    <tr>\n",
       "      <th>56-81-5</th>\n",
       "      <td>1,2,3-propanetriol</td>\n",
       "      <td>glycerol</td>\n",
       "      <td>C3H8O3</td>\n",
       "      <td>Alcohol</td>\n",
       "      <td>Glycerol</td>\n",
       "      <td>5.691078</td>\n",
       "      <td>3.500596</td>\n",
       "      <td>4.144049</td>\n",
       "    </tr>\n",
       "    <tr>\n",
       "      <th>123-92-2</th>\n",
       "      <td>3-methylbutyl acetate</td>\n",
       "      <td>isoamylacetate</td>\n",
       "      <td>C7H14O2</td>\n",
       "      <td>Ester</td>\n",
       "      <td>Isoamyl acetate</td>\n",
       "      <td>-2.501153</td>\n",
       "      <td>1.622836</td>\n",
       "      <td>-0.238475</td>\n",
       "    </tr>\n",
       "  </tbody>\n",
       "</table>\n",
       "</div>"
      ],
      "text/plain": [
       "NAME                 stenutz_name      cosmo_name chemical_formula  \\\n",
       "cas_number                                                           \n",
       "56-81-5        1,2,3-propanetriol        glycerol           C3H8O3   \n",
       "123-92-2    3-methylbutyl acetate  isoamylacetate          C7H14O2   \n",
       "\n",
       "NAME       solvent_class     solvent_name      PC_1      PC_2      PC_3  \n",
       "cas_number                                                               \n",
       "56-81-5          Alcohol         Glycerol  5.691078  3.500596  4.144049  \n",
       "123-92-2           Ester  Isoamyl acetate -2.501153  1.622836 -0.238475  "
      ]
     },
     "execution_count": 16,
     "metadata": {},
     "output_type": "execute_result"
    }
   ],
   "source": [
    "#Dsiplay best solvent in conversion and diasteromeric excess respectively\n",
    "max_idx = np.argmax(all_experiments, axis=0)\n",
    "solvent_ds_pcs.iloc[max_idx, :]"
   ]
  },
  {
   "cell_type": "code",
   "execution_count": 15,
   "metadata": {},
   "outputs": [],
   "source": [
    "#Optimization parameters\n",
    "batch_size=8\n",
    "num_batches=5\n",
    "num_components=3\n",
    "random_seed=1000"
   ]
  },
  {
   "cell_type": "markdown",
   "metadata": {},
   "source": [
    "## 1. Black-Box Optimization"
   ]
  },
  {
   "cell_type": "code",
   "execution_count": null,
   "metadata": {},
   "outputs": [],
   "source": [
    "#TODO"
   ]
  },
  {
   "cell_type": "markdown",
   "metadata": {},
   "source": [
    "## 2.Molecular Descriptors Optimization"
   ]
  },
  {
   "cell_type": "code",
   "execution_count": 14,
   "metadata": {},
   "outputs": [
    {
     "name": "stdout",
     "output_type": "stream",
     "text": [
      "80 solvents for optimization\n",
      "68.0% of variance is explained by 3 principal components.\n"
     ]
    },
    {
     "name": "stderr",
     "output_type": "stream",
     "text": [
      " /Users/Kobi/Library/Caches/pypoetry/virtualenvs/summit-py3.6/lib/python3.6/site-packages/GPy/kern/src/stationary.py:244: RuntimeWarning:invalid value encountered in true_divide\n",
      " /Users/Kobi/Library/Caches/pypoetry/virtualenvs/summit-py3.6/lib/python3.6/site-packages/GPy/kern/src/stationary.py:166: RuntimeWarning:overflow encountered in true_divide\n",
      " /Users/Kobi/Library/Caches/pypoetry/virtualenvs/summit-py3.6/lib/python3.6/site-packages/GPy/kern/src/stationary.py:137: RuntimeWarning:overflow encountered in square\n",
      " /Users/Kobi/Library/Caches/pypoetry/virtualenvs/summit-py3.6/lib/python3.6/site-packages/GPy/kern/src/stationary.py:138: RuntimeWarning:invalid value encountered in add\n",
      " /Users/Kobi/Library/Caches/pypoetry/virtualenvs/summit-py3.6/lib/python3.6/site-packages/GPy/kern/src/stationary.py:551: RuntimeWarning:invalid value encountered in multiply\n",
      " /Users/Kobi/Library/Caches/pypoetry/virtualenvs/summit-py3.6/lib/python3.6/site-packages/GPy/kern/src/stationary.py:554: RuntimeWarning:invalid value encountered in subtract\n",
      " /Users/Kobi/Library/Caches/pypoetry/virtualenvs/summit-py3.6/lib/python3.6/site-packages/GPy/kern/src/rbf.py:51: RuntimeWarning:overflow encountered in square\n",
      " /Users/Kobi/Library/Caches/pypoetry/virtualenvs/summit-py3.6/lib/python3.6/site-packages/GPy/kern/src/stationary.py:168: RuntimeWarning:overflow encountered in true_divide\n",
      " /Users/Kobi/Library/Caches/pypoetry/virtualenvs/summit-py3.6/lib/python3.6/site-packages/GPy/kern/src/rbf.py:54: RuntimeWarning:invalid value encountered in multiply\n",
      " /Users/Kobi/Library/Caches/pypoetry/virtualenvs/summit-py3.6/lib/python3.6/site-packages/paramz/transformations.py:111: RuntimeWarning:overflow encountered in expm1\n",
      " /Users/Kobi/Library/Caches/pypoetry/virtualenvs/summit-py3.6/lib/python3.6/site-packages/GPy/kern/src/stationary.py:551: RuntimeWarning:overflow encountered in multiply\n",
      " /Users/Kobi/Library/Caches/pypoetry/virtualenvs/summit-py3.6/lib/python3.6/site-packages/GPy/kern/src/stationary.py:554: RuntimeWarning:overflow encountered in multiply\n",
      " /Users/Kobi/Library/Caches/pypoetry/virtualenvs/summit-py3.6/lib/python3.6/site-packages/GPy/kern/src/stationary.py:554: RuntimeWarning:invalid value encountered in multiply\n"
     ]
    },
    {
     "name": "stdout",
     "output_type": "stream",
     "text": [
      "To hv point discarded\n",
      "To hv point discarded\n",
      "Random seed: 1000\n",
      "Number of principal components: 3\n",
      "Number of batches: 5\n",
      "Batch size: 8\n"
     ]
    }
   ],
   "source": [
    "descriptors_results = descriptors_optimization(batch_size=8,\n",
    "                                               num_batches=5,\n",
    "                                               num_components=3,\n",
    "                                               random_seed=1000,\n",
    "                                               save_to_disk=True)\n",
    "experiments, lengthscales, log_likelihoods, loo_errors = descriptors_results"
   ]
  },
  {
   "cell_type": "code",
   "execution_count": 17,
   "metadata": {},
   "outputs": [
    {
     "data": {
      "image/png": "[encoded data removed]",
      "text/plain": [
       "<Figure size 432x288 with 1 Axes>"
      ]
     },
     "metadata": {
      "needs_background": "light"
     },
     "output_type": "display_data"
    }
   ],
   "source": [
    "#Visualize the data\n",
    "fig = plt.figure()\n",
    "ax = plt.subplot(111)\n",
    "ax.tick_params(direction='in')\n",
    "markers = ['^', 'P', 'x', 'v', 'p', 'o', 's', '>', 'D', '<', '*']\n",
    "for i in range(4): \n",
    "    data = experiments[experiments['batch']==float(i)].data_to_numpy()\n",
    "    ax.scatter(data[:, 0], data[:, 1], marker=markers[i],label=f\"Batch {i}\")\n",
    "ax.legend()\n",
    "plt.xlabel('conversion (%)'); plt.ylabel('de (%)')\n",
    "plt.title('Conversion vs. DE after optimization')\n",
    "plt.savefig('outputs/solvent_optimization_molecular_descriptors.png')\n",
    "plt.savefig('outputs/solvent_optimization_molecular_descriptors.svg')"
   ]
  },
  {
   "cell_type": "code",
   "execution_count": null,
   "metadata": {},
   "outputs": [],
   "source": []
  }
 ],
 "metadata": {
  "kernelspec": {
   "display_name": "Python 3",
   "language": "python",
   "name": "python3"
  },
  "language_info": {
   "codemirror_mode": {
    "name": "ipython",
    "version": 3
   },
   "file_extension": ".py",
   "mimetype": "text/x-python",
   "name": "python",
   "nbconvert_exporter": "python",
   "pygments_lexer": "ipython3",
   "version": "3.6.8"
  }
 },
 "nbformat": 4,
 "nbformat_minor": 2
}
