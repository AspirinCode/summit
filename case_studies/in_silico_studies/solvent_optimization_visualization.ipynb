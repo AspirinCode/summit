{
 "cells": [
  {
   "cell_type": "markdown",
   "metadata": {},
   "source": [
    "## 1. Setup"
   ]
  },
  {
   "cell_type": "code",
   "execution_count": 4,
   "metadata": {},
   "outputs": [
    {
     "name": "stdout",
     "output_type": "stream",
     "text": [
      "The autoreload extension is already loaded. To reload it, use:\n",
      "  %reload_ext autoreload\n"
     ]
    }
   ],
   "source": [
    "%load_ext autoreload\n",
    "%autoreload 2"
   ]
  },
  {
   "cell_type": "code",
   "execution_count": 5,
   "metadata": {},
   "outputs": [],
   "source": [
    "from surrogate_model_functions import plot_3d_model, loo_error\n",
    "from summit.strategies import TSEMO\n",
    "from summit.models import GPyModel\n",
    "from summit.data import solvent_ds, ucb_ds, DataSet\n",
    "from summit.domain import Domain, DescriptorsVariable,ContinuousVariable\n",
    "from summit.initial_design import LatinDesigner\n",
    "# from summit.optimizers import EnumerationOptimizer\n",
    "# from summit.objective import HV\n",
    "\n",
    "import GPy\n",
    "from sklearn.decomposition import PCA\n",
    "import pandas as pd\n",
    "import numpy as np\n",
    "import matplotlib.pyplot as plt"
   ]
  },
  {
   "cell_type": "code",
   "execution_count": 6,
   "metadata": {},
   "outputs": [
    {
     "ename": "NameError",
     "evalue": "name 'solvent_ds_pcs' is not defined",
     "output_type": "error",
     "traceback": [
      "\u001b[0;31m---------------------------------------------------------------------------\u001b[0m",
      "\u001b[0;31mNameError\u001b[0m                                 Traceback (most recent call last)",
      "\u001b[0;32m<ipython-input-6-6098d667b927>\u001b[0m in \u001b[0;36m<module>\u001b[0;34m\u001b[0m\n\u001b[1;32m      1\u001b[0m \u001b[0;31m#Visualize values for all solvents\u001b[0m\u001b[0;34m\u001b[0m\u001b[0;34m\u001b[0m\u001b[0;34m\u001b[0m\u001b[0m\n\u001b[1;32m      2\u001b[0m \u001b[0mrandom_state\u001b[0m \u001b[0;34m=\u001b[0m \u001b[0mnp\u001b[0m\u001b[0;34m.\u001b[0m\u001b[0mrandom\u001b[0m\u001b[0;34m.\u001b[0m\u001b[0mRandomState\u001b[0m\u001b[0;34m(\u001b[0m\u001b[0;36m1000\u001b[0m\u001b[0;34m)\u001b[0m\u001b[0;34m\u001b[0m\u001b[0;34m\u001b[0m\u001b[0m\n\u001b[0;32m----> 3\u001b[0;31m \u001b[0mall_experiments\u001b[0m \u001b[0;34m=\u001b[0m \u001b[0;34m[\u001b[0m\u001b[0mexperiment\u001b[0m\u001b[0;34m(\u001b[0m\u001b[0mcas\u001b[0m\u001b[0;34m,\u001b[0m \u001b[0mrandom_state\u001b[0m\u001b[0;34m)\u001b[0m \u001b[0;32mfor\u001b[0m \u001b[0mcas\u001b[0m \u001b[0;32min\u001b[0m \u001b[0msolvent_ds_pcs\u001b[0m\u001b[0;34m.\u001b[0m\u001b[0mindex\u001b[0m\u001b[0;34m.\u001b[0m\u001b[0mvalues\u001b[0m\u001b[0;34m]\u001b[0m\u001b[0;34m\u001b[0m\u001b[0;34m\u001b[0m\u001b[0m\n\u001b[0m\u001b[1;32m      4\u001b[0m \u001b[0mall_experiments\u001b[0m \u001b[0;34m=\u001b[0m \u001b[0mnp\u001b[0m\u001b[0;34m.\u001b[0m\u001b[0marray\u001b[0m\u001b[0;34m(\u001b[0m\u001b[0mall_experiments\u001b[0m\u001b[0;34m)\u001b[0m\u001b[0;34m\u001b[0m\u001b[0;34m\u001b[0m\u001b[0m\n\u001b[1;32m      5\u001b[0m \u001b[0max\u001b[0m \u001b[0;34m=\u001b[0m \u001b[0mplt\u001b[0m\u001b[0;34m.\u001b[0m\u001b[0msubplot\u001b[0m\u001b[0;34m(\u001b[0m\u001b[0;36m111\u001b[0m\u001b[0;34m)\u001b[0m\u001b[0;34m\u001b[0m\u001b[0;34m\u001b[0m\u001b[0m\n",
      "\u001b[0;31mNameError\u001b[0m: name 'solvent_ds_pcs' is not defined"
     ]
    }
   ],
   "source": [
    "#Visualize values for all solvents\n",
    "random_state = np.random.RandomState(1000)\n",
    "all_experiments = [experiment(cas, random_state) for cas in solvent_ds_pcs.index.values]\n",
    "all_experiments = np.array(all_experiments)\n",
    "ax = plt.subplot(111)\n",
    "ax.set_xlabel('Conversion'); ax.set_ylabel('DE')\n",
    "ax.scatter(all_experiments[:, 0], all_experiments[:, 1], marker='x')\n",
    "max_idx = np.argmax(all_experiments, axis=0)\n",
    "solvent_ds_pcs.iloc[max_idx, :]"
   ]
  },
  {
   "cell_type": "markdown",
   "metadata": {},
   "source": [
    "## 2. _In-Silico_ Optimization"
   ]
  },
  {
   "cell_type": "code",
   "execution_count": null,
   "metadata": {},
   "outputs": [],
   "source": [
    "random_state = np.random.RandomState(1000)"
   ]
  },
  {
   "cell_type": "code",
   "execution_count": null,
   "metadata": {},
   "outputs": [],
   "source": [
    "#Create up optimization domain\n",
    "domain = Domain()\n",
    "domain += DescriptorsVariable(name='solvent',\n",
    "                             description='solvent for the borrowing hydrogen reaction',\n",
    "                             ds=solvent_ds_pcs)\n",
    "domain += ContinuousVariable(name='conversion',\n",
    "                             description='relative conversion to triphenylphosphine oxide determined by LCMS',\n",
    "                             bounds=[0, 100],\n",
    "                             is_output=True)\n",
    "domain += ContinuousVariable(name='de',\n",
    "                             description='diastereomeric excess determined by ratio of LCMS peaks',\n",
    "                             bounds=[0, 100],\n",
    "                             is_output=True)\n",
    "domain"
   ]
  },
  {
   "cell_type": "code",
   "execution_count": null,
   "metadata": {},
   "outputs": [],
   "source": [
    "#Initial design\n",
    "lhs = LatinDesigner(domain,random_state)\n",
    "initial_design = lhs.generate_experiments(8)\n",
    "initial_design"
   ]
  },
  {
   "cell_type": "code",
   "execution_count": null,
   "metadata": {},
   "outputs": [],
   "source": [
    "#Initial experiments\n",
    "initial_experiments = [experiment(cas, random_state) \n",
    "                       for cas in initial_design.to_frame()['cas_number']]\n",
    "initial_experiments = pd.DataFrame(initial_experiments, columns=['conversion', 'de'])\n",
    "initial_experiments = DataSet.from_df(initial_experiments)\n",
    "design_df = initial_design.to_frame()\n",
    "design_df = design_df.rename(index=int, columns={'cas_number': 'solvent'})\n",
    "design_ds = DataSet.from_df(design_df)\n",
    "initial_experiments = initial_experiments.merge(design_ds, left_index=True, right_index=True)\n",
    "initial_experiments"
   ]
  },
  {
   "cell_type": "code",
   "execution_count": null,
   "metadata": {},
   "outputs": [],
   "source": [
    "#Run the optimization\n",
    "input_dim = domain.num_continuous_dimensions() +domain.num_discrete_variables()\n",
    "kernels = [GPy.kern.Matern52(input_dim = input_dim, ARD=True)\n",
    "           for _ in range(2)]\n",
    "models = [GPyModel(kernel=kernels[i]) for i in range(2)]\n",
    "# tsemo = TSEMO(domain, models, acquisition=HV(), optimizer=EnumerationOptimizer())\n",
    "tsemo = TSEMO(domain, models)\n",
    "design = tsemo.generate_experiments(initial_experiments, 8, \n",
    "                                    normalize=True, num_spectral_samples=500)\n",
    "design"
   ]
  },
  {
   "cell_type": "code",
   "execution_count": 427,
   "metadata": {},
   "outputs": [
    {
     "data": {
      "text/html": [
       "<div>\n",
       "<style scoped>\n",
       "    .dataframe tbody tr th:only-of-type {\n",
       "        vertical-align: middle;\n",
       "    }\n",
       "\n",
       "    .dataframe tbody tr th {\n",
       "        vertical-align: top;\n",
       "    }\n",
       "\n",
       "    .dataframe thead th {\n",
       "        text-align: right;\n",
       "    }\n",
       "</style>\n",
       "<table border=\"1\" class=\"dataframe\">\n",
       "  <thead>\n",
       "    <tr style=\"text-align: right;\">\n",
       "      <th></th>\n",
       "      <th>conversion</th>\n",
       "      <th>de</th>\n",
       "      <th>solvent</th>\n",
       "    </tr>\n",
       "  </thead>\n",
       "  <tbody>\n",
       "    <tr>\n",
       "      <th>0</th>\n",
       "      <td>56.408818</td>\n",
       "      <td>82.084346</td>\n",
       "      <td>141-78-6</td>\n",
       "    </tr>\n",
       "    <tr>\n",
       "      <th>1</th>\n",
       "      <td>59.963037</td>\n",
       "      <td>81.731371</td>\n",
       "      <td>107-21-1</td>\n",
       "    </tr>\n",
       "    <tr>\n",
       "      <th>2</th>\n",
       "      <td>53.962345</td>\n",
       "      <td>65.937963</td>\n",
       "      <td>76-05-1</td>\n",
       "    </tr>\n",
       "    <tr>\n",
       "      <th>3</th>\n",
       "      <td>65.367399</td>\n",
       "      <td>85.857975</td>\n",
       "      <td>96-49-1</td>\n",
       "    </tr>\n",
       "    <tr>\n",
       "      <th>4</th>\n",
       "      <td>53.992682</td>\n",
       "      <td>81.057282</td>\n",
       "      <td>75-52-5</td>\n",
       "    </tr>\n",
       "    <tr>\n",
       "      <th>5</th>\n",
       "      <td>56.855803</td>\n",
       "      <td>87.753177</td>\n",
       "      <td>105-58-8</td>\n",
       "    </tr>\n",
       "    <tr>\n",
       "      <th>6</th>\n",
       "      <td>76.444236</td>\n",
       "      <td>82.069197</td>\n",
       "      <td>100-51-6</td>\n",
       "    </tr>\n",
       "    <tr>\n",
       "      <th>7</th>\n",
       "      <td>77.035052</td>\n",
       "      <td>83.543371</td>\n",
       "      <td>111-87-5</td>\n",
       "    </tr>\n",
       "    <tr>\n",
       "      <th>8</th>\n",
       "      <td>54.697520</td>\n",
       "      <td>69.050326</td>\n",
       "      <td>76-05-1</td>\n",
       "    </tr>\n",
       "    <tr>\n",
       "      <th>9</th>\n",
       "      <td>83.174170</td>\n",
       "      <td>84.238927</td>\n",
       "      <td>126-33-0</td>\n",
       "    </tr>\n",
       "    <tr>\n",
       "      <th>10</th>\n",
       "      <td>66.349871</td>\n",
       "      <td>83.166186</td>\n",
       "      <td>7226-23-5</td>\n",
       "    </tr>\n",
       "    <tr>\n",
       "      <th>11</th>\n",
       "      <td>65.423033</td>\n",
       "      <td>87.545214</td>\n",
       "      <td>872-50-4</td>\n",
       "    </tr>\n",
       "    <tr>\n",
       "      <th>12</th>\n",
       "      <td>51.171539</td>\n",
       "      <td>87.405757</td>\n",
       "      <td>109-66-0</td>\n",
       "    </tr>\n",
       "    <tr>\n",
       "      <th>13</th>\n",
       "      <td>38.644949</td>\n",
       "      <td>76.040667</td>\n",
       "      <td>107-31-3</td>\n",
       "    </tr>\n",
       "    <tr>\n",
       "      <th>14</th>\n",
       "      <td>51.129994</td>\n",
       "      <td>78.101143</td>\n",
       "      <td>67-66-3</td>\n",
       "    </tr>\n",
       "    <tr>\n",
       "      <th>15</th>\n",
       "      <td>52.428654</td>\n",
       "      <td>83.664011</td>\n",
       "      <td>78-92-2</td>\n",
       "    </tr>\n",
       "  </tbody>\n",
       "</table>\n",
       "</div>"
      ],
      "text/plain": [
       "NAME  conversion         de    solvent\n",
       "0      56.408818  82.084346   141-78-6\n",
       "1      59.963037  81.731371   107-21-1\n",
       "2      53.962345  65.937963    76-05-1\n",
       "3      65.367399  85.857975    96-49-1\n",
       "4      53.992682  81.057282    75-52-5\n",
       "5      56.855803  87.753177   105-58-8\n",
       "6      76.444236  82.069197   100-51-6\n",
       "7      77.035052  83.543371   111-87-5\n",
       "8      54.697520  69.050326    76-05-1\n",
       "9      83.174170  84.238927   126-33-0\n",
       "10     66.349871  83.166186  7226-23-5\n",
       "11     65.423033  87.545214   872-50-4\n",
       "12     51.171539  87.405757   109-66-0\n",
       "13     38.644949  76.040667   107-31-3\n",
       "14     51.129994  78.101143    67-66-3\n",
       "15     52.428654  83.664011    78-92-2"
      ]
     },
     "execution_count": 427,
     "metadata": {},
     "output_type": "execute_result"
    }
   ],
   "source": [
    "#Next set of experiments\n",
    "lengthscales = np.zeros([num_batches, num_components, 2])\n",
    "lengthscales[0, :, :] = np.array([model._model.kern.lengthscale.values for model in models]).T\n",
    "experiments = initial_experiments.copy()\n",
    "new_experiments = [experiment(cas, random_state)\n",
    "                   for cas in design.index.values]\n",
    "new_experiments = np.array(new_experiments)\n",
    "new_experiments = DataSet({('conversion', 'DATA'): new_experiments[:, 0],\n",
    "                           ('de', 'DATA'): new_experiments[:, 1],\n",
    "                           ('solvent', 'DATA'): design.index.values})\n",
    "new_experiments = new_experiments.set_index(np.arange(8, 16))\n",
    "new_experiments.columns.names = ['NAME', 'TYPE']\n",
    "previous_experiments = initial_experiments.append(new_experiments)\n",
    "previous_experiments"
   ]
  },
  {
   "cell_type": "code",
   "execution_count": 428,
   "metadata": {},
   "outputs": [
    {
     "data": {
      "image/png": "[encoded data removed]",
      "text/plain": [
       "<Figure size 432x288 with 1 Axes>"
      ]
     },
     "metadata": {
      "needs_background": "light"
     },
     "output_type": "display_data"
    }
   ],
   "source": [
    "#Visualize the data\n",
    "fig = plt.figure()\n",
    "ax = plt.subplot(111)\n",
    "data = previous_experiments.data_to_numpy()\n",
    "ax.scatter(data[:, 0], data[:, 1], marker='x')\n",
    "ax.tick_params(direction='in', length=4, width=2)\n",
    "plt.xlabel('conversion (%)'); plt.ylabel('de (%)')\n",
    "plt.title('Conversion vs. DE after 2 batches')\n",
    "plt.savefig('outputs/in_silico_pareto_2_batches.png')\n",
    "plt.savefig('outputs/in_silico_pareto_2_batches.svg')\n",
    "# print(f\"Promising solvent: {}\")"
   ]
  },
  {
   "cell_type": "markdown",
   "metadata": {},
   "source": [
    "TODO: You need to do something that will remove candidates that have already been tested previously."
   ]
  },
  {
   "cell_type": "code",
   "execution_count": 430,
   "metadata": {},
   "outputs": [
    {
     "name": "stdout",
     "output_type": "stream",
     "text": [
      "None\n",
      "> \u001b[0;32m<ipython-input-430-3cd9444e9382>\u001b[0m(4)\u001b[0;36m<module>\u001b[0;34m()\u001b[0m\n",
      "\u001b[0;32m      3 \u001b[0;31m    \u001b[0;32mimport\u001b[0m \u001b[0mipdb\u001b[0m\u001b[0;34m;\u001b[0m \u001b[0mipdb\u001b[0m\u001b[0;34m.\u001b[0m\u001b[0mset_trace\u001b[0m\u001b[0;34m(\u001b[0m\u001b[0;34m)\u001b[0m\u001b[0;34m\u001b[0m\u001b[0;34m\u001b[0m\u001b[0m\n",
      "\u001b[0m\u001b[0;32m----> 4 \u001b[0;31m    design = tsemo.generate_experiments(previous_experiments, 8, \n",
      "\u001b[0m\u001b[0;32m      5 \u001b[0;31m                                        normalize=False, num_spectral_samples=500)\n",
      "\u001b[0m\n"
     ]
    },
    {
     "name": "stdin",
     "output_type": "stream",
     "text": [
      "ipdb>  n\n"
     ]
    },
    {
     "name": "stdout",
     "output_type": "stream",
     "text": [
      "None\n",
      "> \u001b[0;32m<ipython-input-430-3cd9444e9382>\u001b[0m(5)\u001b[0;36m<module>\u001b[0;34m()\u001b[0m\n",
      "\u001b[0;32m      4 \u001b[0;31m    design = tsemo.generate_experiments(previous_experiments, 8, \n",
      "\u001b[0m\u001b[0;32m----> 5 \u001b[0;31m                                        normalize=False, num_spectral_samples=500)\n",
      "\u001b[0m\u001b[0;32m      6 \u001b[0;31m    new_experiments = [experiment(cas, random_state)\n",
      "\u001b[0m\n"
     ]
    },
    {
     "name": "stdin",
     "output_type": "stream",
     "text": [
      "ipdb>  c\n"
     ]
    },
    {
     "name": "stdout",
     "output_type": "stream",
     "text": [
      "> \u001b[0;32m/Users/Kobi/Documents/Research/summit/summit/strategies.py\u001b[0m(92)\u001b[0;36mgenerate_experiments\u001b[0;34m()\u001b[0m\n",
      "\u001b[0;32m     91 \u001b[0;31m        \u001b[0;31m#Update models\u001b[0m\u001b[0;34m\u001b[0m\u001b[0;34m\u001b[0m\u001b[0;34m\u001b[0m\u001b[0m\n",
      "\u001b[0m\u001b[0;32m---> 92 \u001b[0;31m        \u001b[0msamples_nadir\u001b[0m \u001b[0;34m=\u001b[0m \u001b[0mnp\u001b[0m\u001b[0;34m.\u001b[0m\u001b[0mzeros\u001b[0m\u001b[0;34m(\u001b[0m\u001b[0;36m2\u001b[0m\u001b[0;34m)\u001b[0m\u001b[0;34m\u001b[0m\u001b[0;34m\u001b[0m\u001b[0m\n",
      "\u001b[0m\u001b[0;32m     93 \u001b[0;31m        \u001b[0msample_pareto\u001b[0m \u001b[0;34m=\u001b[0m \u001b[0mnp\u001b[0m\u001b[0;34m.\u001b[0m\u001b[0mzeros\u001b[0m\u001b[0;34m(\u001b[0m\u001b[0;34m[\u001b[0m\u001b[0mmasked_descriptor_arr\u001b[0m\u001b[0;34m.\u001b[0m\u001b[0mshape\u001b[0m\u001b[0;34m[\u001b[0m\u001b[0;36m0\u001b[0m\u001b[0;34m]\u001b[0m\u001b[0;34m,\u001b[0m \u001b[0;36m2\u001b[0m\u001b[0;34m]\u001b[0m\u001b[0;34m)\u001b[0m\u001b[0;34m\u001b[0m\u001b[0;34m\u001b[0m\u001b[0m\n",
      "\u001b[0m\n"
     ]
    },
    {
     "name": "stdin",
     "output_type": "stream",
     "text": [
      "ipdb>  masked_descriptor_arr\n"
     ]
    },
    {
     "name": "stdout",
     "output_type": "stream",
     "text": [
      "array([[5.691078121587479, 3.500596455398357, 4.144048935152712],\n",
      "       [0.8373071060038557, -0.5392301052729939, 0.5787166501305978],\n",
      "       [-0.5652315035036856, -0.458337175329385, -1.1612790405764712],\n",
      "       [3.3474367957507085, 0.44611556983233114, 1.6269001776259973],\n",
      "       [-2.2469579894457463, -1.3625308027518819, -0.20738362203978614],\n",
      "       [-1.8195143184165954, 2.4496910196629975, 0.8702832986322623],\n",
      "       [-1.2283518577054748, 0.7690756404109184, -0.8205896979775703],\n",
      "       [-2.18786833559499, -1.6508981879578204, -0.6155484712461776],\n",
      "       [1.5551406877166276, -0.6006176488756062, -0.48074114549352726],\n",
      "       [-0.04588597525273719, -0.34820658435378976, 0.8911370718238603],\n",
      "       [0.8049636994142261, -0.9048985684921327, 0.6620961695005644],\n",
      "       [-1.9776727964199623, 0.7180097346357296, -0.6380470849939884],\n",
      "       [-1.500360019009717, -1.4473590318509886, -0.6070571037433559],\n",
      "       [-0.3162436706531009, -0.273077414135508, -0.024353458308512585],\n",
      "       [1.035781032170736, 1.0524015145139185, -1.542027400505198],\n",
      "       [-1.5078024217502082, -0.916422969771366, 0.7739608897355776],\n",
      "       [0.7409584324740238, -1.1174517592268924, 0.7069176161229779],\n",
      "       [-1.9260284186404395, -3.043967661603177, 1.0854603679378927],\n",
      "       [-1.5827500785927957, 0.8644459907584664, 0.9194129534054541],\n",
      "       [-3.8889293970432908, 0.9057962185539482, 1.289086383094133],\n",
      "       [0.6272422436023691, 0.9571310893520665, 2.0568695215803543],\n",
      "       [0.37726943027286697, 0.27560615245227255, -1.2747995233447522],\n",
      "       [1.1846950609045244, -2.4468125516958468, 0.5237956737605061],\n",
      "       [-1.949774733589428, 4.843215828731691, -0.31796020519874846],\n",
      "       [0.3747545229419957, -0.1040370035085466, -0.5894890281693572],\n",
      "       [2.178827040255195, -2.8607806714129667, -0.24769973783630442],\n",
      "       [0.6657662729392578, -1.5687934387020779, -1.5033591721765776],\n",
      "       [5.917512105307739, -2.1958450622154597, 1.6091451643716943],\n",
      "       [-4.8104496119797115, -1.2278577173472784, 1.217925062635738],\n",
      "       [-1.062290886793204, 1.485130866486414, 2.2988875424160273],\n",
      "       [-1.581620065780599, 5.27038456290104, -0.08886908928348992],\n",
      "       [-4.277655769583612, -2.353619603655503, 0.6932894653766607],\n",
      "       [0.30590117384153415, -1.5083917282144317, -1.8419507481440056],\n",
      "       [-4.159470825235725, -1.5206752225707778, 1.029059635632919],\n",
      "       [-2.725433625088401, 1.5890300582186823, -0.2200935619557383],\n",
      "       [2.4525826007918687, -0.7537322084050502, 1.3348170289975196],\n",
      "       [1.3392642667642707, -2.1018415672627966, 0.16354406795136114],\n",
      "       [-1.252739811802921, 0.10006247824793642, -0.9734062030103318],\n",
      "       [0.46069010595459114, 0.23541408650938583, -0.5341041462493142],\n",
      "       [-1.0908897108245632, 7.367309733987595, -0.2897049494503398],\n",
      "       [-1.5937228903583058, 1.4615896235023118, 0.320435557985013],\n",
      "       [8.603727398587186, -4.350599702472148, 1.6977511790194773],\n",
      "       [-1.4007883568199462, 0.46649189456309725, -0.9424419455409252],\n",
      "       [1.0219382070614296, -1.6207904490707166, -2.3009351829102003],\n",
      "       [-0.18620357655204992, 1.0075209257268813, -0.6784687402349255],\n",
      "       [0.1482113385764077, -1.0264445962900648, -1.7893456565266883],\n",
      "       [-2.5941245704236664, -0.5240668603840618, 0.7430727850476833],\n",
      "       [3.441460104552735, -1.9718278134906801, -1.9949638990190044],\n",
      "       [3.7619716686136675, 1.8917417331854416, -1.5518877138453397],\n",
      "       [-0.5097226791047198, -1.9984700561200555, -0.9892844481118609],\n",
      "       [-1.9517649731388766, -2.8632136229944543, -0.9609731407337454],\n",
      "       [1.9296108482061334, 0.5398696013004832, -2.072666266146993],\n",
      "       [-3.5904603799001453, -1.0014975480010426, 0.5890199055126016],\n",
      "       [-2.5011525466105824, 1.6228360076789072, -0.2384751608885591],\n",
      "       [-1.5860739055306146, 2.3748785912554564, -0.8549743243835416],\n",
      "       [3.2532355408993205, 2.6556113936908443, -1.7651680829192415],\n",
      "       [0.6373441070038006, -0.22297433345834147, -1.1186671195895672],\n",
      "       [-2.3945580421446278, -1.7616936014742521, 0.6444310841461303],\n",
      "       [-1.6502529892531597, 1.3274305213128634, 0.5471914805145046],\n",
      "       [-5.249607188224422, -0.7230500292890905, 1.3036717419368409],\n",
      "       [0.5809416814678029, -1.3343921439995317, 0.5897163665550779],\n",
      "       [-1.6084105855988182, 1.0043731721298883, -0.7543299167074097],\n",
      "       [1.3728790545145837, 1.3290017920607662, -1.5784447327645488],\n",
      "       [-3.035142671247159, -0.7485910787009912, 0.005370411896994921],\n",
      "       [1.3392247232877186, -2.0561673536622407, 0.11114041503215422]],\n",
      "      dtype=object)\n"
     ]
    },
    {
     "name": "stdin",
     "output_type": "stream",
     "text": [
      "ipdb>  masked_descriptor_arr.shape\n"
     ]
    },
    {
     "name": "stdout",
     "output_type": "stream",
     "text": [
      "(65, 3)\n"
     ]
    },
    {
     "name": "stdin",
     "output_type": "stream",
     "text": [
      "ipdb>  q\n"
     ]
    },
    {
     "ename": "BdbQuit",
     "evalue": "",
     "output_type": "error",
     "traceback": [
      "\u001b[0;31m---------------------------------------------------------------------------\u001b[0m",
      "\u001b[0;31mBdbQuit\u001b[0m                                   Traceback (most recent call last)",
      "\u001b[0;32m<ipython-input-430-3cd9444e9382>\u001b[0m in \u001b[0;36m<module>\u001b[0;34m\u001b[0m\n\u001b[1;32m      3\u001b[0m     \u001b[0;32mimport\u001b[0m \u001b[0mipdb\u001b[0m\u001b[0;34m;\u001b[0m \u001b[0mipdb\u001b[0m\u001b[0;34m.\u001b[0m\u001b[0mset_trace\u001b[0m\u001b[0;34m(\u001b[0m\u001b[0;34m)\u001b[0m\u001b[0;34m\u001b[0m\u001b[0;34m\u001b[0m\u001b[0m\n\u001b[1;32m      4\u001b[0m     design = tsemo.generate_experiments(previous_experiments, 8, \n\u001b[0;32m----> 5\u001b[0;31m                                         normalize=False, num_spectral_samples=500)\n\u001b[0m\u001b[1;32m      6\u001b[0m     new_experiments = [experiment(cas, random_state)\n\u001b[1;32m      7\u001b[0m                       for cas in design.index.values]\n",
      "\u001b[0;32m~/Documents/Research/summit/summit/strategies.py\u001b[0m in \u001b[0;36mgenerate_experiments\u001b[0;34m(self, previous_results, num_experiments, normalize, num_spectral_samples)\u001b[0m\n\u001b[1;32m     90\u001b[0m         \u001b[0;32mimport\u001b[0m \u001b[0mipdb\u001b[0m\u001b[0;34m;\u001b[0m \u001b[0mipdb\u001b[0m\u001b[0;34m.\u001b[0m\u001b[0mset_trace\u001b[0m\u001b[0;34m(\u001b[0m\u001b[0;34m)\u001b[0m\u001b[0;34m\u001b[0m\u001b[0;34m\u001b[0m\u001b[0m\n\u001b[1;32m     91\u001b[0m         \u001b[0;31m#Update models\u001b[0m\u001b[0;34m\u001b[0m\u001b[0;34m\u001b[0m\u001b[0;34m\u001b[0m\u001b[0m\n\u001b[0;32m---> 92\u001b[0;31m         \u001b[0msamples_nadir\u001b[0m \u001b[0;34m=\u001b[0m \u001b[0mnp\u001b[0m\u001b[0;34m.\u001b[0m\u001b[0mzeros\u001b[0m\u001b[0;34m(\u001b[0m\u001b[0;36m2\u001b[0m\u001b[0;34m)\u001b[0m\u001b[0;34m\u001b[0m\u001b[0;34m\u001b[0m\u001b[0m\n\u001b[0m\u001b[1;32m     93\u001b[0m         \u001b[0msample_pareto\u001b[0m \u001b[0;34m=\u001b[0m \u001b[0mnp\u001b[0m\u001b[0;34m.\u001b[0m\u001b[0mzeros\u001b[0m\u001b[0;34m(\u001b[0m\u001b[0;34m[\u001b[0m\u001b[0mmasked_descriptor_arr\u001b[0m\u001b[0;34m.\u001b[0m\u001b[0mshape\u001b[0m\u001b[0;34m[\u001b[0m\u001b[0;36m0\u001b[0m\u001b[0;34m]\u001b[0m\u001b[0;34m,\u001b[0m \u001b[0;36m2\u001b[0m\u001b[0;34m]\u001b[0m\u001b[0;34m)\u001b[0m\u001b[0;34m\u001b[0m\u001b[0;34m\u001b[0m\u001b[0m\n\u001b[1;32m     94\u001b[0m         \u001b[0;32mfor\u001b[0m \u001b[0mi\u001b[0m\u001b[0;34m,\u001b[0m \u001b[0mmodel\u001b[0m \u001b[0;32min\u001b[0m \u001b[0menumerate\u001b[0m\u001b[0;34m(\u001b[0m\u001b[0mself\u001b[0m\u001b[0;34m.\u001b[0m\u001b[0mmodels\u001b[0m\u001b[0;34m)\u001b[0m\u001b[0;34m:\u001b[0m\u001b[0;34m\u001b[0m\u001b[0;34m\u001b[0m\u001b[0m\n",
      "\u001b[0;32m~/Documents/Research/summit/summit/strategies.py\u001b[0m in \u001b[0;36mgenerate_experiments\u001b[0;34m(self, previous_results, num_experiments, normalize, num_spectral_samples)\u001b[0m\n\u001b[1;32m     90\u001b[0m         \u001b[0;32mimport\u001b[0m \u001b[0mipdb\u001b[0m\u001b[0;34m;\u001b[0m \u001b[0mipdb\u001b[0m\u001b[0;34m.\u001b[0m\u001b[0mset_trace\u001b[0m\u001b[0;34m(\u001b[0m\u001b[0;34m)\u001b[0m\u001b[0;34m\u001b[0m\u001b[0;34m\u001b[0m\u001b[0m\n\u001b[1;32m     91\u001b[0m         \u001b[0;31m#Update models\u001b[0m\u001b[0;34m\u001b[0m\u001b[0;34m\u001b[0m\u001b[0;34m\u001b[0m\u001b[0m\n\u001b[0;32m---> 92\u001b[0;31m         \u001b[0msamples_nadir\u001b[0m \u001b[0;34m=\u001b[0m \u001b[0mnp\u001b[0m\u001b[0;34m.\u001b[0m\u001b[0mzeros\u001b[0m\u001b[0;34m(\u001b[0m\u001b[0;36m2\u001b[0m\u001b[0;34m)\u001b[0m\u001b[0;34m\u001b[0m\u001b[0;34m\u001b[0m\u001b[0m\n\u001b[0m\u001b[1;32m     93\u001b[0m         \u001b[0msample_pareto\u001b[0m \u001b[0;34m=\u001b[0m \u001b[0mnp\u001b[0m\u001b[0;34m.\u001b[0m\u001b[0mzeros\u001b[0m\u001b[0;34m(\u001b[0m\u001b[0;34m[\u001b[0m\u001b[0mmasked_descriptor_arr\u001b[0m\u001b[0;34m.\u001b[0m\u001b[0mshape\u001b[0m\u001b[0;34m[\u001b[0m\u001b[0;36m0\u001b[0m\u001b[0;34m]\u001b[0m\u001b[0;34m,\u001b[0m \u001b[0;36m2\u001b[0m\u001b[0;34m]\u001b[0m\u001b[0;34m)\u001b[0m\u001b[0;34m\u001b[0m\u001b[0;34m\u001b[0m\u001b[0m\n\u001b[1;32m     94\u001b[0m         \u001b[0;32mfor\u001b[0m \u001b[0mi\u001b[0m\u001b[0;34m,\u001b[0m \u001b[0mmodel\u001b[0m \u001b[0;32min\u001b[0m \u001b[0menumerate\u001b[0m\u001b[0;34m(\u001b[0m\u001b[0mself\u001b[0m\u001b[0;34m.\u001b[0m\u001b[0mmodels\u001b[0m\u001b[0;34m)\u001b[0m\u001b[0;34m:\u001b[0m\u001b[0;34m\u001b[0m\u001b[0;34m\u001b[0m\u001b[0m\n",
      "\u001b[0;32m~/miniconda3/lib/python3.6/bdb.py\u001b[0m in \u001b[0;36mtrace_dispatch\u001b[0;34m(self, frame, event, arg)\u001b[0m\n\u001b[1;32m     49\u001b[0m             \u001b[0;32mreturn\u001b[0m \u001b[0;31m# None\u001b[0m\u001b[0;34m\u001b[0m\u001b[0;34m\u001b[0m\u001b[0m\n\u001b[1;32m     50\u001b[0m         \u001b[0;32mif\u001b[0m \u001b[0mevent\u001b[0m \u001b[0;34m==\u001b[0m \u001b[0;34m'line'\u001b[0m\u001b[0;34m:\u001b[0m\u001b[0;34m\u001b[0m\u001b[0;34m\u001b[0m\u001b[0m\n\u001b[0;32m---> 51\u001b[0;31m             \u001b[0;32mreturn\u001b[0m \u001b[0mself\u001b[0m\u001b[0;34m.\u001b[0m\u001b[0mdispatch_line\u001b[0m\u001b[0;34m(\u001b[0m\u001b[0mframe\u001b[0m\u001b[0;34m)\u001b[0m\u001b[0;34m\u001b[0m\u001b[0;34m\u001b[0m\u001b[0m\n\u001b[0m\u001b[1;32m     52\u001b[0m         \u001b[0;32mif\u001b[0m \u001b[0mevent\u001b[0m \u001b[0;34m==\u001b[0m \u001b[0;34m'call'\u001b[0m\u001b[0;34m:\u001b[0m\u001b[0;34m\u001b[0m\u001b[0;34m\u001b[0m\u001b[0m\n\u001b[1;32m     53\u001b[0m             \u001b[0;32mreturn\u001b[0m \u001b[0mself\u001b[0m\u001b[0;34m.\u001b[0m\u001b[0mdispatch_call\u001b[0m\u001b[0;34m(\u001b[0m\u001b[0mframe\u001b[0m\u001b[0;34m,\u001b[0m \u001b[0marg\u001b[0m\u001b[0;34m)\u001b[0m\u001b[0;34m\u001b[0m\u001b[0;34m\u001b[0m\u001b[0m\n",
      "\u001b[0;32m~/miniconda3/lib/python3.6/bdb.py\u001b[0m in \u001b[0;36mdispatch_line\u001b[0;34m(self, frame)\u001b[0m\n\u001b[1;32m     68\u001b[0m         \u001b[0;32mif\u001b[0m \u001b[0mself\u001b[0m\u001b[0;34m.\u001b[0m\u001b[0mstop_here\u001b[0m\u001b[0;34m(\u001b[0m\u001b[0mframe\u001b[0m\u001b[0;34m)\u001b[0m \u001b[0;32mor\u001b[0m \u001b[0mself\u001b[0m\u001b[0;34m.\u001b[0m\u001b[0mbreak_here\u001b[0m\u001b[0;34m(\u001b[0m\u001b[0mframe\u001b[0m\u001b[0;34m)\u001b[0m\u001b[0;34m:\u001b[0m\u001b[0;34m\u001b[0m\u001b[0;34m\u001b[0m\u001b[0m\n\u001b[1;32m     69\u001b[0m             \u001b[0mself\u001b[0m\u001b[0;34m.\u001b[0m\u001b[0muser_line\u001b[0m\u001b[0;34m(\u001b[0m\u001b[0mframe\u001b[0m\u001b[0;34m)\u001b[0m\u001b[0;34m\u001b[0m\u001b[0;34m\u001b[0m\u001b[0m\n\u001b[0;32m---> 70\u001b[0;31m             \u001b[0;32mif\u001b[0m \u001b[0mself\u001b[0m\u001b[0;34m.\u001b[0m\u001b[0mquitting\u001b[0m\u001b[0;34m:\u001b[0m \u001b[0;32mraise\u001b[0m \u001b[0mBdbQuit\u001b[0m\u001b[0;34m\u001b[0m\u001b[0;34m\u001b[0m\u001b[0m\n\u001b[0m\u001b[1;32m     71\u001b[0m         \u001b[0;32mreturn\u001b[0m \u001b[0mself\u001b[0m\u001b[0;34m.\u001b[0m\u001b[0mtrace_dispatch\u001b[0m\u001b[0;34m\u001b[0m\u001b[0;34m\u001b[0m\u001b[0m\n\u001b[1;32m     72\u001b[0m \u001b[0;34m\u001b[0m\u001b[0m\n",
      "\u001b[0;31mBdbQuit\u001b[0m: "
     ]
    }
   ],
   "source": [
    "num_batches = 2\n",
    "for i in range(num_batches):\n",
    "    import ipdb; ipdb.set_trace()\n",
    "    design = tsemo.generate_experiments(previous_experiments, 8, \n",
    "                                        normalize=False, num_spectral_samples=500)\n",
    "    new_experiments = [experiment(cas, random_state)\n",
    "                      for cas in design.index.values]\n",
    "    new_experiments = np.array(new_experiments)\n",
    "    new_experiments = DataSet({('conversion', 'DATA'): new_experiments[:, 0],\n",
    "                               ('de', 'DATA'): new_experiments[:, 1],\n",
    "                               ('solvent', 'DATA'): design.index.values})\n",
    "    new_experiments = new_experiments.set_index(np.arange(8*i, 8*(i+1)))\n",
    "    new_experiments.columns.names = ['NAME', 'TYPE']\n",
    "    previous_experiments = new_experiments.append(previous_experiments)\n",
    "    lengthscales[i, :, :] = np.array([model._model.kern.lengthscale.values for model in models]).T"
   ]
  },
  {
   "cell_type": "code",
   "execution_count": null,
   "metadata": {},
   "outputs": [],
   "source": []
  }
 ],
 "metadata": {
  "kernelspec": {
   "display_name": "Python 3",
   "language": "python",
   "name": "python3"
  },
  "language_info": {
   "codemirror_mode": {
    "name": "ipython",
    "version": 3
   },
   "file_extension": ".py",
   "mimetype": "text/x-python",
   "name": "python",
   "nbconvert_exporter": "python",
   "pygments_lexer": "ipython3",
   "version": "3.6.8"
  }
 },
 "nbformat": 4,
 "nbformat_minor": 2
}
