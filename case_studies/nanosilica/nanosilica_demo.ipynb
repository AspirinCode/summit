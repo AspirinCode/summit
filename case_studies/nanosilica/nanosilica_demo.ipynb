{
 "cells": [
  {
   "cell_type": "markdown",
   "metadata": {},
   "source": [
    "# Nanosilica Optimization\n"
   ]
  },
  {
   "cell_type": "markdown",
   "metadata": {},
   "source": [
    "This is a demo of  summit, a tool for optimizing chemical processes.  The data is from optimization of the nanomaterial nanosilica. "
   ]
  },
  {
   "cell_type": "code",
   "execution_count": 1,
   "metadata": {},
   "outputs": [],
   "source": [
    "%load_ext autoreload\n",
    "%autoreload 2"
   ]
  },
  {
   "cell_type": "code",
   "execution_count": 2,
   "metadata": {},
   "outputs": [],
   "source": [
    "from summit.data import DataSet\n",
    "from summit.domain import ContinuousVariable, Constraint, Domain\n",
    "from summit.strategies import TSEMO2\n",
    "from summit.models import GPyModel, AnalyticalModel\n",
    "from summit.utils import pareto_efficient\n",
    "\n",
    "from sklearn.model_selection import KFold\n",
    "import numpy as np\n",
    "import pandas as pd\n",
    "import matplotlib.pyplot as plt\n",
    "import mpl_toolkits.mplot3d.art3d as art3d"
   ]
  },
  {
   "cell_type": "markdown",
   "metadata": {},
   "source": [
    "## 1. Set up problem"
   ]
  },
  {
   "cell_type": "markdown",
   "metadata": {},
   "source": [
    "To start, we import a CSV file with existing experimental data. The last 5 experiments are also displayed.\n",
    "\n",
    "Since we  want to target a specific value for STD, we need to calculate that distance."
   ]
  },
  {
   "cell_type": "code",
   "execution_count": 45,
   "metadata": {},
   "outputs": [
    {
     "data": {
      "text/html": [
       "<div>\n",
       "<style scoped>\n",
       "    .dataframe tbody tr th:only-of-type {\n",
       "        vertical-align: middle;\n",
       "    }\n",
       "\n",
       "    .dataframe tbody tr th {\n",
       "        vertical-align: top;\n",
       "    }\n",
       "\n",
       "    .dataframe thead th {\n",
       "        text-align: right;\n",
       "    }\n",
       "</style>\n",
       "<table border=\"1\" class=\"dataframe\">\n",
       "  <thead>\n",
       "    <tr style=\"text-align: right;\">\n",
       "      <th></th>\n",
       "      <th>TEOS</th>\n",
       "      <th>NH3</th>\n",
       "      <th>H2O</th>\n",
       "      <th>EtOH</th>\n",
       "      <th>PSD</th>\n",
       "      <th>STD</th>\n",
       "      <th>Batch</th>\n",
       "      <th>PSD_distance_100</th>\n",
       "    </tr>\n",
       "  </thead>\n",
       "  <tbody>\n",
       "    <tr>\n",
       "      <th>40</th>\n",
       "      <td>7.426</td>\n",
       "      <td>71.5304</td>\n",
       "      <td>13.3553</td>\n",
       "      <td>7.6883</td>\n",
       "      <td>253.10</td>\n",
       "      <td>52.22</td>\n",
       "      <td>3.0</td>\n",
       "      <td>153.10</td>\n",
       "    </tr>\n",
       "    <tr>\n",
       "      <th>41</th>\n",
       "      <td>6.500</td>\n",
       "      <td>21.1000</td>\n",
       "      <td>48.2000</td>\n",
       "      <td>24.2000</td>\n",
       "      <td>209.50</td>\n",
       "      <td>44.09</td>\n",
       "      <td>4.0</td>\n",
       "      <td>109.50</td>\n",
       "    </tr>\n",
       "    <tr>\n",
       "      <th>42</th>\n",
       "      <td>6.700</td>\n",
       "      <td>20.0000</td>\n",
       "      <td>68.5000</td>\n",
       "      <td>4.8000</td>\n",
       "      <td>8.30</td>\n",
       "      <td>2.37</td>\n",
       "      <td>4.0</td>\n",
       "      <td>91.70</td>\n",
       "    </tr>\n",
       "    <tr>\n",
       "      <th>43</th>\n",
       "      <td>2.000</td>\n",
       "      <td>45.4000</td>\n",
       "      <td>50.6000</td>\n",
       "      <td>2.0000</td>\n",
       "      <td>14.81</td>\n",
       "      <td>3.86</td>\n",
       "      <td>4.0</td>\n",
       "      <td>85.19</td>\n",
       "    </tr>\n",
       "    <tr>\n",
       "      <th>44</th>\n",
       "      <td>1.530</td>\n",
       "      <td>90.1200</td>\n",
       "      <td>7.9500</td>\n",
       "      <td>0.4000</td>\n",
       "      <td>24.51</td>\n",
       "      <td>7.71</td>\n",
       "      <td>4.0</td>\n",
       "      <td>75.49</td>\n",
       "    </tr>\n",
       "  </tbody>\n",
       "</table>\n",
       "</div>"
      ],
      "text/plain": [
       "NAME   TEOS      NH3      H2O     EtOH     PSD    STD  Batch  PSD_distance_100\n",
       "40    7.426  71.5304  13.3553   7.6883  253.10  52.22    3.0            153.10\n",
       "41    6.500  21.1000  48.2000  24.2000  209.50  44.09    4.0            109.50\n",
       "42    6.700  20.0000  68.5000   4.8000    8.30   2.37    4.0             91.70\n",
       "43    2.000  45.4000  50.6000   2.0000   14.81   3.86    4.0             85.19\n",
       "44    1.530  90.1200   7.9500   0.4000   24.51   7.71    4.0             75.49"
      ]
     },
     "execution_count": 45,
     "metadata": {},
     "output_type": "execute_result"
    }
   ],
   "source": [
    "#Read in and clean up data\n",
    "data_pd = pd.read_csv('silica_experiments_data.csv')\n",
    "input_columns = [ 'TEOS', 'NH3', 'H2O', 'EtOH']\n",
    "output_columns = ['PSD', 'STD']\n",
    "metadata_columns=['Batch']\n",
    "data_pd = data_pd[input_columns + output_columns + metadata_columns]\n",
    "\n",
    "#Transform\n",
    "data_pd['PSD_distance_100'] = ((data_pd['PSD']-100)**2)**0.5\n",
    "\n",
    "data = DataSet.from_df(data_pd, metadata_columns=metadata_columns)\n",
    "data.tail(5)"
   ]
  },
  {
   "cell_type": "markdown",
   "metadata": {},
   "source": [
    "Here we set up the optimization domain, which consists of the manipulated variables, optimization objectives and constraints."
   ]
  },
  {
   "cell_type": "code",
   "execution_count": 46,
   "metadata": {},
   "outputs": [
    {
     "data": {
      "text/html": [
       "<table id='domain' width=100%><tr><td><b>Name</b></td><td><b>Type</b></td><td><b>Description</b></td><td><b>Values</b></td></tr><tr><td>TEOS</td><td>continuous, input</td><td></td><td>[1,35]</td></tr><tr><td>NH3</td><td>continuous, input</td><td></td><td>[0,100]</td></tr><tr><td>H2O</td><td>continuous, input</td><td></td><td>[0,100]</td></tr><tr><td>PSD_distance_100</td><td>continuous, minimize objective</td><td>Distance of average particle size from target of 100</td><td>[0,1000]</td></tr><tr><td>STD</td><td>continuous, minimize objective</td><td>Standard deviation of particle size distribution</td><td>[0,1000]</td></tr><tr><td></td><td>constraint</td><td>TEOS+NH3+H2O-100</td><td></td></tr><tr><td></td><td>constraint</td><td>(H2O+0.75*0.91*NH3)/18-2*TEOS/208.33</td><td></td></tr></table>"
      ],
      "text/plain": [
       "<summit.domain.Domain at 0x125ed4ba8>"
      ]
     },
     "execution_count": 46,
     "metadata": {},
     "output_type": "execute_result"
    }
   ],
   "source": [
    "#Set up the optimization problem domain\n",
    "domain = Domain()\n",
    "\n",
    "#Decision variables\n",
    "domain += ContinuousVariable('TEOS', \n",
    "                             description = '',\n",
    "                             bounds=[1, 35])\n",
    "domain += ContinuousVariable('NH3', \n",
    "                             description = '',\n",
    "                             bounds=[0, 100])\n",
    "domain += ContinuousVariable('H2O', \n",
    "                             description = '',\n",
    "                             bounds=[0, 100])\n",
    "# domain += ContinuousVariable('EtOH', \n",
    "#                              description = '',\n",
    "#                              bounds=[0, 100])\n",
    "#Objectives\n",
    "domain += ContinuousVariable('PSD_distance_100', \n",
    "                             description = 'Distance of average particle size from target of 100',\n",
    "                             bounds=[0, 1000],\n",
    "                             is_objective=True,\n",
    "                             maximize=False)\n",
    "domain += ContinuousVariable('STD', \n",
    "                             description = 'Standard deviation of particle size distribution',\n",
    "                             bounds=[0, 1000],\n",
    "                             is_objective=True,\n",
    "                             maximize=False)\n",
    "\n",
    "#Constraints\n",
    "domain += Constraint(lhs='TEOS+NH3+H2O-100',\n",
    "                     constraint_type='<')\n",
    "domain += Constraint(lhs='(H2O+0.75*0.91*NH3)/18-2*TEOS/208.33',\n",
    "                     constraint_type='>')\n",
    "\n",
    "domain"
   ]
  },
  {
   "cell_type": "markdown",
   "metadata": {},
   "source": [
    "## 2. Visualize Data"
   ]
  },
  {
   "cell_type": "markdown",
   "metadata": {},
   "source": [
    "Let's visualize the data now.  Here we show the approximate pareto front based on existing experimental data. There appears to be a trade off between cost and  viscosity."
   ]
  },
  {
   "cell_type": "code",
   "execution_count": 51,
   "metadata": {},
   "outputs": [
    {
     "data": {
      "text/plain": [
       "<Figure size 432x288 with 0 Axes>"
      ]
     },
     "metadata": {},
     "output_type": "display_data"
    },
    {
     "data": {
      "image/png": "[encoded data removed]",
      "text/plain": [
       "<Figure size 504x360 with 2 Axes>"
      ]
     },
     "metadata": {
      "needs_background": "light"
     },
     "output_type": "display_data"
    }
   ],
   "source": [
    "_ = plt.tight_layout()\n",
    "fig = plt.figure(figsize=(7, 5))\n",
    "ax = fig.add_subplot(111)\n",
    "pareto_front, indices = pareto_efficient(data[['PSD_distance_100', 'STD']].to_numpy(),\n",
    "                                         maximize=False)\n",
    "# ax.scatter(data['PSD_target'], data['STD'],\n",
    "#            alpha=0.5, label='all data', marker='^', s=50)\n",
    "img =ax.scatter(pareto_front[:, 0], pareto_front[:, 1],\n",
    "                alpha=0.7, label='pareto front', s=100,\n",
    "                c=data.reindex(indices)['Batch'].astype(int))\n",
    "_ = plt.colorbar(img, label='Batch', ticks=[0, 1, 2, 3, 4])\n",
    "ax.set_xlabel(r'$(PSD-100)$'); ax.set_ylabel('STD');\n",
    "ax.tick_params(direction='in')\n",
    "_ = ax.set_title('Approximate Pareto Front')"
   ]
  },
  {
   "cell_type": "code",
   "execution_count": 52,
   "metadata": {},
   "outputs": [
    {
     "name": "stdout",
     "output_type": "stream",
     "text": [
      "Pareto Front Experiments\n"
     ]
    },
    {
     "data": {
      "text/html": [
       "<div>\n",
       "<style scoped>\n",
       "    .dataframe tbody tr th:only-of-type {\n",
       "        vertical-align: middle;\n",
       "    }\n",
       "\n",
       "    .dataframe tbody tr th {\n",
       "        vertical-align: top;\n",
       "    }\n",
       "\n",
       "    .dataframe thead th {\n",
       "        text-align: right;\n",
       "    }\n",
       "</style>\n",
       "<table border=\"1\" class=\"dataframe\">\n",
       "  <thead>\n",
       "    <tr style=\"text-align: right;\">\n",
       "      <th></th>\n",
       "      <th>TEOS</th>\n",
       "      <th>NH3</th>\n",
       "      <th>H2O</th>\n",
       "      <th>EtOH</th>\n",
       "      <th>PSD</th>\n",
       "      <th>STD</th>\n",
       "      <th>Batch</th>\n",
       "      <th>PSD_distance_100</th>\n",
       "    </tr>\n",
       "  </thead>\n",
       "  <tbody>\n",
       "    <tr>\n",
       "      <th>0</th>\n",
       "      <td>1.0000</td>\n",
       "      <td>5.0000</td>\n",
       "      <td>94.0000</td>\n",
       "      <td>0.0000</td>\n",
       "      <td>5.68</td>\n",
       "      <td>1.250</td>\n",
       "      <td>0.0</td>\n",
       "      <td>94.32</td>\n",
       "    </tr>\n",
       "    <tr>\n",
       "      <th>1</th>\n",
       "      <td>1.0000</td>\n",
       "      <td>10.0000</td>\n",
       "      <td>89.0000</td>\n",
       "      <td>0.0000</td>\n",
       "      <td>21.46</td>\n",
       "      <td>4.860</td>\n",
       "      <td>0.0</td>\n",
       "      <td>78.54</td>\n",
       "    </tr>\n",
       "    <tr>\n",
       "      <th>2</th>\n",
       "      <td>1.0000</td>\n",
       "      <td>20.0000</td>\n",
       "      <td>79.0000</td>\n",
       "      <td>0.0000</td>\n",
       "      <td>39.54</td>\n",
       "      <td>7.450</td>\n",
       "      <td>0.0</td>\n",
       "      <td>60.46</td>\n",
       "    </tr>\n",
       "    <tr>\n",
       "      <th>3</th>\n",
       "      <td>1.0000</td>\n",
       "      <td>30.0000</td>\n",
       "      <td>69.0000</td>\n",
       "      <td>0.0000</td>\n",
       "      <td>55.38</td>\n",
       "      <td>10.500</td>\n",
       "      <td>0.0</td>\n",
       "      <td>44.62</td>\n",
       "    </tr>\n",
       "    <tr>\n",
       "      <th>6</th>\n",
       "      <td>5.0000</td>\n",
       "      <td>30.0000</td>\n",
       "      <td>65.0000</td>\n",
       "      <td>0.0000</td>\n",
       "      <td>11.20</td>\n",
       "      <td>3.150</td>\n",
       "      <td>0.0</td>\n",
       "      <td>88.80</td>\n",
       "    </tr>\n",
       "    <tr>\n",
       "      <th>8</th>\n",
       "      <td>10.0000</td>\n",
       "      <td>20.0000</td>\n",
       "      <td>70.0000</td>\n",
       "      <td>0.0000</td>\n",
       "      <td>10.60</td>\n",
       "      <td>2.360</td>\n",
       "      <td>0.0</td>\n",
       "      <td>89.40</td>\n",
       "    </tr>\n",
       "    <tr>\n",
       "      <th>10</th>\n",
       "      <td>10.0000</td>\n",
       "      <td>40.0000</td>\n",
       "      <td>50.0000</td>\n",
       "      <td>0.0000</td>\n",
       "      <td>21.50</td>\n",
       "      <td>6.520</td>\n",
       "      <td>0.0</td>\n",
       "      <td>78.50</td>\n",
       "    </tr>\n",
       "    <tr>\n",
       "      <th>13</th>\n",
       "      <td>1.0000</td>\n",
       "      <td>1.0000</td>\n",
       "      <td>98.0000</td>\n",
       "      <td>0.0000</td>\n",
       "      <td>4.30</td>\n",
       "      <td>0.440</td>\n",
       "      <td>0.0</td>\n",
       "      <td>95.70</td>\n",
       "    </tr>\n",
       "    <tr>\n",
       "      <th>22</th>\n",
       "      <td>1.0200</td>\n",
       "      <td>32.9100</td>\n",
       "      <td>45.7700</td>\n",
       "      <td>20.3000</td>\n",
       "      <td>15.91</td>\n",
       "      <td>4.176</td>\n",
       "      <td>0.0</td>\n",
       "      <td>84.09</td>\n",
       "    </tr>\n",
       "    <tr>\n",
       "      <th>35</th>\n",
       "      <td>5.3252</td>\n",
       "      <td>70.3309</td>\n",
       "      <td>17.9582</td>\n",
       "      <td>6.3857</td>\n",
       "      <td>114.90</td>\n",
       "      <td>23.390</td>\n",
       "      <td>2.0</td>\n",
       "      <td>14.90</td>\n",
       "    </tr>\n",
       "    <tr>\n",
       "      <th>39</th>\n",
       "      <td>1.7315</td>\n",
       "      <td>53.7769</td>\n",
       "      <td>35.5328</td>\n",
       "      <td>8.9588</td>\n",
       "      <td>9.60</td>\n",
       "      <td>1.500</td>\n",
       "      <td>3.0</td>\n",
       "      <td>90.40</td>\n",
       "    </tr>\n",
       "    <tr>\n",
       "      <th>43</th>\n",
       "      <td>2.0000</td>\n",
       "      <td>45.4000</td>\n",
       "      <td>50.6000</td>\n",
       "      <td>2.0000</td>\n",
       "      <td>14.81</td>\n",
       "      <td>3.860</td>\n",
       "      <td>4.0</td>\n",
       "      <td>85.19</td>\n",
       "    </tr>\n",
       "  </tbody>\n",
       "</table>\n",
       "</div>"
      ],
      "text/plain": [
       "NAME     TEOS      NH3      H2O     EtOH     PSD     STD  Batch  \\\n",
       "0      1.0000   5.0000  94.0000   0.0000    5.68   1.250    0.0   \n",
       "1      1.0000  10.0000  89.0000   0.0000   21.46   4.860    0.0   \n",
       "2      1.0000  20.0000  79.0000   0.0000   39.54   7.450    0.0   \n",
       "3      1.0000  30.0000  69.0000   0.0000   55.38  10.500    0.0   \n",
       "6      5.0000  30.0000  65.0000   0.0000   11.20   3.150    0.0   \n",
       "8     10.0000  20.0000  70.0000   0.0000   10.60   2.360    0.0   \n",
       "10    10.0000  40.0000  50.0000   0.0000   21.50   6.520    0.0   \n",
       "13     1.0000   1.0000  98.0000   0.0000    4.30   0.440    0.0   \n",
       "22     1.0200  32.9100  45.7700  20.3000   15.91   4.176    0.0   \n",
       "35     5.3252  70.3309  17.9582   6.3857  114.90  23.390    2.0   \n",
       "39     1.7315  53.7769  35.5328   8.9588    9.60   1.500    3.0   \n",
       "43     2.0000  45.4000  50.6000   2.0000   14.81   3.860    4.0   \n",
       "\n",
       "NAME  PSD_distance_100  \n",
       "0                94.32  \n",
       "1                78.54  \n",
       "2                60.46  \n",
       "3                44.62  \n",
       "6                88.80  \n",
       "8                89.40  \n",
       "10               78.50  \n",
       "13               95.70  \n",
       "22               84.09  \n",
       "35               14.90  \n",
       "39               90.40  \n",
       "43               85.19  "
      ]
     },
     "execution_count": 52,
     "metadata": {},
     "output_type": "execute_result"
    }
   ],
   "source": [
    "print(\"Pareto Front Experiments\")\n",
    "data.reindex(indices)"
   ]
  },
  {
   "cell_type": "markdown",
   "metadata": {},
   "source": [
    "## 3. Run Optimization"
   ]
  },
  {
   "cell_type": "markdown",
   "metadata": {},
   "source": [
    "Now, we can run the optimization, asking for 3 experimental suggestions."
   ]
  },
  {
   "cell_type": "code",
   "execution_count": 39,
   "metadata": {},
   "outputs": [
    {
     "data": {
      "text/html": [
       "<div>\n",
       "<style scoped>\n",
       "    .dataframe tbody tr th:only-of-type {\n",
       "        vertical-align: middle;\n",
       "    }\n",
       "\n",
       "    .dataframe tbody tr th {\n",
       "        vertical-align: top;\n",
       "    }\n",
       "\n",
       "    .dataframe thead th {\n",
       "        text-align: right;\n",
       "    }\n",
       "</style>\n",
       "<table border=\"1\" class=\"dataframe\">\n",
       "  <thead>\n",
       "    <tr style=\"text-align: right;\">\n",
       "      <th></th>\n",
       "      <th>TEOS</th>\n",
       "      <th>NH3</th>\n",
       "      <th>H2O</th>\n",
       "      <th>PSD_target</th>\n",
       "      <th>STD</th>\n",
       "      <th>EtOH</th>\n",
       "    </tr>\n",
       "  </thead>\n",
       "  <tbody>\n",
       "    <tr>\n",
       "      <th>127</th>\n",
       "      <td>16.0</td>\n",
       "      <td>30.0</td>\n",
       "      <td>53.0</td>\n",
       "      <td>40.0</td>\n",
       "      <td>14.0</td>\n",
       "      <td>2.0</td>\n",
       "    </tr>\n",
       "    <tr>\n",
       "      <th>40</th>\n",
       "      <td>1.0</td>\n",
       "      <td>24.0</td>\n",
       "      <td>71.0</td>\n",
       "      <td>70.0</td>\n",
       "      <td>5.0</td>\n",
       "      <td>4.0</td>\n",
       "    </tr>\n",
       "    <tr>\n",
       "      <th>71</th>\n",
       "      <td>16.0</td>\n",
       "      <td>5.0</td>\n",
       "      <td>78.0</td>\n",
       "      <td>89.0</td>\n",
       "      <td>2.0</td>\n",
       "      <td>1.0</td>\n",
       "    </tr>\n",
       "    <tr>\n",
       "      <th>253</th>\n",
       "      <td>11.0</td>\n",
       "      <td>7.0</td>\n",
       "      <td>68.0</td>\n",
       "      <td>57.0</td>\n",
       "      <td>10.0</td>\n",
       "      <td>14.0</td>\n",
       "    </tr>\n",
       "  </tbody>\n",
       "</table>\n",
       "</div>"
      ],
      "text/plain": [
       "NAME  TEOS   NH3   H2O  PSD_target   STD  EtOH\n",
       "127   16.0  30.0  53.0        40.0  14.0   2.0\n",
       "40     1.0  24.0  71.0        70.0   5.0   4.0\n",
       "71    16.0   5.0  78.0        89.0   2.0   1.0\n",
       "253   11.0   7.0  68.0        57.0  10.0  14.0"
      ]
     },
     "execution_count": 39,
     "metadata": {},
     "output_type": "execute_result"
    }
   ],
   "source": [
    "num_experiments=4\n",
    "input_dim = domain.num_continuous_dimensions() + domain.num_discrete_variables()\n",
    "models = {'PSD_distance_100': GPyModel(input_dim=input_dim), \n",
    "          'STD': GPyModel(input_dim=input_dim)\n",
    "         }\n",
    "tsemo = TSEMO2(domain, models)\n",
    "experiments = tsemo.generate_experiments(data, num_experiments)\n",
    "experiments['EtOH'] = 100-(experiments['TEOS'] + experiments['NH3'] + experiments['H2O'])\n",
    "experiments.round()"
   ]
  },
  {
   "cell_type": "markdown",
   "metadata": {},
   "source": [
    "We now have experimental suggestions that we can run in the lab."
   ]
  },
  {
   "cell_type": "markdown",
   "metadata": {},
   "source": [
    "## 4. Validate Model"
   ]
  },
  {
   "cell_type": "markdown",
   "metadata": {},
   "source": [
    "We'll make a cross validation plot next. This gives us a sense of model robustness. So far, it seems that the model has a very good accuracy in one part of the space, but not great accuracy elsewhere. "
   ]
  },
  {
   "cell_type": "code",
   "execution_count": 54,
   "metadata": {},
   "outputs": [
    {
     "name": "stdout",
     "output_type": "stream",
     "text": [
      "Note that the graph on the left is the distance of average particle size from target of 100\n"
     ]
    },
    {
     "data": {
      "image/png": "[encoded data removed]",
      "text/plain": [
       "<Figure size 1080x360 with 2 Axes>"
      ]
     },
     "metadata": {
      "needs_background": "light"
     },
     "output_type": "display_data"
    }
   ],
   "source": [
    "gp = GPyModel(input_dim=input_dim)\n",
    "X = data[['NH3', 'TEOS', 'H2O']].to_numpy(dtype=np.float64)\n",
    "Y = data[output_columns].to_numpy(dtype=np.float64)\n",
    "\n",
    "\n",
    "fig, axes = plt.subplots(1, 2, figsize=(15, 5))\n",
    "for i, name in enumerate(['PSD_distance_100', 'STD']):\n",
    "    kf = KFold(n_splits=3)\n",
    "    scores = np.zeros(5)\n",
    "\n",
    "    Y = data[name].to_numpy(dtype=np.float64)\n",
    "    for train, test in kf.split(X):\n",
    "        gp.fit(X[train], np.atleast_2d(Y[train]).T)\n",
    "        y_predict = gp.predict(X[test])\n",
    "        axes[i].scatter(Y[test], y_predict, c='k')\n",
    "    min_y = Y.min()\n",
    "    max_y = Y.max()\n",
    "    axes[i].plot([min_y, max_y], [min_y, max_y], 'k--', lw=4)\n",
    "    axes[i].set_xlabel('Measured')\n",
    "    axes[i].set_ylabel('Predicted')\n",
    "    axes[i].set_title(f'{name} Cross Validation'.title())\n",
    "print(\"Note that the graph on the left is the distance of average particle size from target of 100\")"
   ]
  }
 ],
 "metadata": {
  "kernelspec": {
   "display_name": "Python 3",
   "language": "python",
   "name": "python3"
  },
  "language_info": {
   "codemirror_mode": {
    "name": "ipython",
    "version": 3
   },
   "file_extension": ".py",
   "mimetype": "text/x-python",
   "name": "python",
   "nbconvert_exporter": "python",
   "pygments_lexer": "ipython3",
   "version": "3.6.8"
  }
 },
 "nbformat": 4,
 "nbformat_minor": 4
}
