{
 "cells": [
  {
   "cell_type": "markdown",
   "metadata": {},
   "source": [
    "# Optimization for Liwei and Danilo"
   ]
  },
  {
   "cell_type": "code",
   "execution_count": 1,
   "metadata": {},
   "outputs": [],
   "source": [
    "%load_ext autoreload\n",
    "%autoreload 2"
   ]
  },
  {
   "cell_type": "code",
   "execution_count": 2,
   "metadata": {},
   "outputs": [],
   "source": [
    "from summit.data import DataSet\n",
    "from summit.domain import ContinuousVariable, Constraint, Domain\n",
    "from summit.strategies import TSEMO2\n",
    "from summit.models import GPyModel, AnalyticalModel\n",
    "from summit.utils import pareto_efficient\n",
    "\n",
    "from sklearn.model_selection import KFold\n",
    "import numpy as np\n",
    "import pandas as pd\n",
    "from functools import partial\n",
    "\n",
    "\n",
    "import matplotlib.pyplot as plt\n",
    "import mpl_toolkits.mplot3d.art3d as art3d\n",
    "import ipywidgets as widgets\n",
    "from IPython.display import display\n",
    "from tqdm import tqdm_notebook"
   ]
  },
  {
   "cell_type": "markdown",
   "metadata": {},
   "source": [
    "## 1. Set up problem"
   ]
  },
  {
   "cell_type": "markdown",
   "metadata": {},
   "source": [
    "Upload a CSV file with existing experimental data."
   ]
  },
  {
   "cell_type": "code",
   "execution_count": 3,
   "metadata": {},
   "outputs": [
    {
     "data": {
      "text/html": [
       "<div>\n",
       "<style scoped>\n",
       "    .dataframe tbody tr th:only-of-type {\n",
       "        vertical-align: middle;\n",
       "    }\n",
       "\n",
       "    .dataframe tbody tr th {\n",
       "        vertical-align: top;\n",
       "    }\n",
       "\n",
       "    .dataframe thead th {\n",
       "        text-align: right;\n",
       "    }\n",
       "</style>\n",
       "<table border=\"1\" class=\"dataframe\">\n",
       "  <thead>\n",
       "    <tr style=\"text-align: right;\">\n",
       "      <th></th>\n",
       "      <th>Texapon</th>\n",
       "      <th>DehytonAB30</th>\n",
       "      <th>Plantacare818</th>\n",
       "      <th>CC7BZ</th>\n",
       "      <th>ArlyponTT</th>\n",
       "      <th>viscosity</th>\n",
       "      <th>price</th>\n",
       "      <th>turbidity</th>\n",
       "    </tr>\n",
       "  </thead>\n",
       "  <tbody>\n",
       "    <tr>\n",
       "      <th>147</th>\n",
       "      <td>1.7759</td>\n",
       "      <td>8.1682</td>\n",
       "      <td>5.0536</td>\n",
       "      <td>1.6331</td>\n",
       "      <td>0.3188</td>\n",
       "      <td>0.993117</td>\n",
       "      <td>0.125094</td>\n",
       "      <td>0.005372</td>\n",
       "    </tr>\n",
       "    <tr>\n",
       "      <th>148</th>\n",
       "      <td>1.9610</td>\n",
       "      <td>7.9659</td>\n",
       "      <td>5.0708</td>\n",
       "      <td>1.0120</td>\n",
       "      <td>1.9342</td>\n",
       "      <td>0.911507</td>\n",
       "      <td>0.132936</td>\n",
       "      <td>0.218461</td>\n",
       "    </tr>\n",
       "    <tr>\n",
       "      <th>149</th>\n",
       "      <td>0.3214</td>\n",
       "      <td>9.8575</td>\n",
       "      <td>4.8186</td>\n",
       "      <td>0.5014</td>\n",
       "      <td>0.2759</td>\n",
       "      <td>0.981923</td>\n",
       "      <td>0.104258</td>\n",
       "      <td>0.001544</td>\n",
       "    </tr>\n",
       "    <tr>\n",
       "      <th>150</th>\n",
       "      <td>10.2248</td>\n",
       "      <td>0.0468</td>\n",
       "      <td>4.7296</td>\n",
       "      <td>0.1149</td>\n",
       "      <td>0.7092</td>\n",
       "      <td>0.995267</td>\n",
       "      <td>0.174555</td>\n",
       "      <td>0.002156</td>\n",
       "    </tr>\n",
       "    <tr>\n",
       "      <th>151</th>\n",
       "      <td>1.0205</td>\n",
       "      <td>0.4106</td>\n",
       "      <td>13.5673</td>\n",
       "      <td>0.3842</td>\n",
       "      <td>1.7966</td>\n",
       "      <td>0.992930</td>\n",
       "      <td>0.118646</td>\n",
       "      <td>0.535889</td>\n",
       "    </tr>\n",
       "  </tbody>\n",
       "</table>\n",
       "</div>"
      ],
      "text/plain": [
       "NAME  Texapon  DehytonAB30  Plantacare818   CC7BZ  ArlyponTT  viscosity  \\\n",
       "147    1.7759       8.1682         5.0536  1.6331     0.3188   0.993117   \n",
       "148    1.9610       7.9659         5.0708  1.0120     1.9342   0.911507   \n",
       "149    0.3214       9.8575         4.8186  0.5014     0.2759   0.981923   \n",
       "150   10.2248       0.0468         4.7296  0.1149     0.7092   0.995267   \n",
       "151    1.0205       0.4106        13.5673  0.3842     1.7966   0.992930   \n",
       "\n",
       "NAME     price  turbidity  \n",
       "147   0.125094   0.005372  \n",
       "148   0.132936   0.218461  \n",
       "149   0.104258   0.001544  \n",
       "150   0.174555   0.002156  \n",
       "151   0.118646   0.535889  "
      ]
     },
     "execution_count": 3,
     "metadata": {},
     "output_type": "execute_result"
    }
   ],
   "source": [
    "#TODO: File Upload\n",
    "#TODO: Input columns\n",
    "# Output columns\n",
    "\n",
    "#Read in and clean up data\n",
    "data_pd = pd.read_excel('data.xlsx')\n",
    "input_columns = [ 'Texapon', 'DehytonAB30', 'Plantacare818', 'CC7BZ', 'ArlyponTT']\n",
    "output_columns = ['viscosity', 'price', 'turbidity']\n",
    "data_pd = data_pd[input_columns + output_columns]\n",
    "data = DataSet.from_df(data_pd)\n",
    "data.tail(5)"
   ]
  },
  {
   "cell_type": "code",
   "execution_count": 4,
   "metadata": {},
   "outputs": [
    {
     "data": {
      "text/html": [
       "<table id='domain' width=100%><tr><td><b>Name</b></td><td><b>Type</b></td><td><b>Description</b></td><td><b>Values</b></td></tr><tr><td>Texapon</td><td>continuous, input</td><td></td><td>[0,15]</td></tr><tr><td>DehytonAB30</td><td>continuous, input</td><td></td><td>[0,15]</td></tr><tr><td>Plantacare818</td><td>continuous, input</td><td></td><td>[0,15]</td></tr><tr><td>CC7BZ</td><td>continuous, input</td><td></td><td>[0,2]</td></tr><tr><td>ArlyponTT</td><td>continuous, input</td><td></td><td>[0,2]</td></tr><tr><td>viscosity</td><td>continuous, maximize objective</td><td></td><td>[0,1]</td></tr><tr><td></td><td>constraint</td><td>Texapon + DehytonAB30 + Plantacare818-15</td><td></td></tr></table>"
      ],
      "text/plain": [
       "<summit.domain.Domain at 0x1179d6048>"
      ]
     },
     "execution_count": 4,
     "metadata": {},
     "output_type": "execute_result"
    }
   ],
   "source": [
    "#TODO: Create Domain\n",
    "#Set up the optimization problem domain\n",
    "domain = Domain()\n",
    "\n",
    "#Decision variables\n",
    "domain += ContinuousVariable('Texapon', \n",
    "                             description = '',\n",
    "                             bounds=[0, 15])\n",
    "domain += ContinuousVariable('DehytonAB30', \n",
    "                             description = '',\n",
    "                             bounds=[0, 15])\n",
    "domain += ContinuousVariable('Plantacare818', \n",
    "                             description = '',\n",
    "                             bounds=[0, 15])\n",
    "domain += ContinuousVariable('CC7BZ', \n",
    "                             description = '',\n",
    "                             bounds=[0, 2])\n",
    "domain += ContinuousVariable('ArlyponTT', \n",
    "                             description = '',\n",
    "                             bounds=[0, 2])\n",
    "\n",
    "#Objectives\n",
    "domain += ContinuousVariable('viscosity', \n",
    "                             description = '',\n",
    "                             bounds=[0, 1],\n",
    "                             is_objective=True)\n",
    "# domain += ContinuousVariable('price', \n",
    "#                              description = '',\n",
    "#                              bounds=[0, 1],\n",
    "#                              is_objective=True)\n",
    "# domain += ContinuousVariable('turbidity', \n",
    "#                              description = '',\n",
    "#                              bounds=[0, 1],\n",
    "#                              is_objective=True)\n",
    "\n",
    "#Constraints\n",
    "domain += Constraint('Texapon + DehytonAB30 + Plantacare818-15') #Make constraints of form <= 0\n",
    "\n",
    "domain"
   ]
  },
  {
   "cell_type": "code",
   "execution_count": 5,
   "metadata": {},
   "outputs": [],
   "source": [
    "#price function\n",
    "def price_function(X):\n",
    "    price = 135.13*X['Texapon']+63.95*X['DehytonAB30']+62.87*X['Plantacare818']+ \\\n",
    "            90*X['CC7BZ']+75*X['ArlyponTT']\n",
    "    price = price/1e4\n",
    "    return np.atleast_2d(price.to_numpy()).T"
   ]
  },
  {
   "cell_type": "markdown",
   "metadata": {},
   "source": [
    "## 2. Visualize Data"
   ]
  },
  {
   "cell_type": "markdown",
   "metadata": {},
   "source": [
    "Let's visualize the data now.  Here we show the approximate pareto front based on existing experimental data. It has been difficult to achieve low values of viscosity."
   ]
  },
  {
   "cell_type": "code",
   "execution_count": 6,
   "metadata": {},
   "outputs": [
    {
     "data": {
      "application/vnd.jupyter.widget-view+json": {
       "model_id": "44fa8a0fdaa84370a0bf97862e17f0a4",
       "version_major": 2,
       "version_minor": 0
      },
      "text/plain": [
       "Button(description='Visualize Data', icon='play', style=ButtonStyle(), tooltip='Visualize in a 3D plot')"
      ]
     },
     "metadata": {},
     "output_type": "display_data"
    },
    {
     "data": {
      "application/vnd.jupyter.widget-view+json": {
       "model_id": "f49725dafdcb4cd3b0ffb14dfc960301",
       "version_major": 2,
       "version_minor": 0
      },
      "text/plain": [
       "Output()"
      ]
     },
     "metadata": {},
     "output_type": "display_data"
    }
   ],
   "source": [
    "button_visualize = widgets.Button(\n",
    "    description='Visualize Data',\n",
    "    tooltip='Visualize in a 3D plot',\n",
    "    icon='play')\n",
    "\n",
    "output_visualize = widgets.Output()\n",
    "display(button_visualize, output_visualize)\n",
    "\n",
    "def visualize_data(b):\n",
    "    _ = plt.tight_layout()\n",
    "    fig = plt.figure(figsize=(10, 7))\n",
    "    ax = fig.add_subplot(111, projection='3d')\n",
    "    pareto_front, indices = pareto_efficient(data[['viscosity', 'price', 'turbidity']].to_numpy(),\n",
    "                                      maximize=False)\n",
    "    # ax.scatter(data['viscosity'], data['price'], data['turbidity'], \n",
    "    #            alpha=0.1, label='all data', marker='^', s=50)\n",
    "    img = ax.scatter(pareto_front[:, 0], pareto_front[:, 1], pareto_front[:, 2], \n",
    "                     alpha=0.7, label='pareto front', s=100, c=data.index[indices])\n",
    "    _ = plt.colorbar(img, label='Experiment number')\n",
    "    ax.set_xlabel('viscosity'); ax.set_ylabel('price'); ax.set_zlabel('turbidity')\n",
    "    for xi, yi, zi in pareto_front:        \n",
    "        line=art3d.Line3D(*zip((xi, yi, 0), (xi, yi, zi)), \n",
    "                          marker='o', markevery=(1, 1), c='k',alpha=0.5)\n",
    "        _ = ax.add_line(line)\n",
    "    _ = ax.view_init(20, -60)\n",
    "    _ = ax.set_title('Approximate Pareto Front')\n",
    "    output_visualize.clear_output(wait=True)\n",
    "    with output_visualize:\n",
    "        display(fig)\n",
    "button_visualize.on_click(visualize_data)"
   ]
  },
  {
   "cell_type": "markdown",
   "metadata": {},
   "source": [
    "## 3. Run Optimization"
   ]
  },
  {
   "cell_type": "markdown",
   "metadata": {},
   "source": [
    "Now, we can run the optimization. Click the button that says run optimization.  It might take a couple minutes."
   ]
  },
  {
   "cell_type": "code",
   "execution_count": 7,
   "metadata": {},
   "outputs": [
    {
     "data": {
      "application/vnd.jupyter.widget-view+json": {
       "model_id": "fb24840c1c7e450aa234e861746da8f4",
       "version_major": 2,
       "version_minor": 0
      },
      "text/plain": [
       "BoundedIntText(value=3, description='# Expr:', max=10)"
      ]
     },
     "metadata": {},
     "output_type": "display_data"
    },
    {
     "data": {
      "application/vnd.jupyter.widget-view+json": {
       "model_id": "08f7edcc5655489789e3c8640dc52319",
       "version_major": 2,
       "version_minor": 0
      },
      "text/plain": [
       "Button(description='Run optimization', icon='play', style=ButtonStyle(), tooltip='Run the optimization')"
      ]
     },
     "metadata": {},
     "output_type": "display_data"
    },
    {
     "data": {
      "application/vnd.jupyter.widget-view+json": {
       "model_id": "b656c94f80ed40cb944737b8cb798706",
       "version_major": 2,
       "version_minor": 0
      },
      "text/plain": [
       "Output()"
      ]
     },
     "metadata": {},
     "output_type": "display_data"
    }
   ],
   "source": [
    "\n",
    "    \n",
    "num_experiments = widgets.BoundedIntText(\n",
    "    value=3,\n",
    "    min=0,\n",
    "    max=10,\n",
    "    step=1,\n",
    "    description='# Expr:',\n",
    "    disabled=False\n",
    ")\n",
    "button_run_opt = widgets.Button(\n",
    "    description='Run optimization',\n",
    "    tooltip='Run the optimization',\n",
    "    icon='play')\n",
    "output_run_opt = widgets.Output()\n",
    "\n",
    "display(num_experiments, button_run_opt, output_run_opt)\n",
    "\n",
    "input_dim = domain.num_continuous_dimensions() + domain.num_discrete_variables()\n",
    "# models = {'viscosity': GPyModel(input_dim=input_dim), \n",
    "#           'price': AnalyticalModel(function=price_function),\n",
    "#           'turbidity': GPyModel(input_dim=input_dim)\n",
    "#          }\n",
    "models = {'viscosity': GPyModel(input_dim=input_dim)}\n",
    "tsemo = TSEMO2(domain, models)\n",
    "\n",
    "def run_optimization(b):\n",
    "    n = num_experiments.value\n",
    "\n",
    "    with output_run_opt:\n",
    "        print(\"Starting. This might take a couple minutes.\")\n",
    "        \n",
    "    experiments = tsemo.generate_experiments(data, n)\n",
    "    output_run_opt.clear_output()\n",
    "    with output_run_opt:\n",
    "        print(\"Next experiments:\")\n",
    "        display(experiments)\n",
    "\n",
    "button_run_opt.on_click(run_optimization)\n"
   ]
  },
  {
   "cell_type": "code",
   "execution_count": null,
   "metadata": {},
   "outputs": [
    {
     "name": "stdout",
     "output_type": "stream",
     "text": [
      "> \u001b[0;32m/Users/Kobi/Documents/Research/summit/summit/strategies.py\u001b[0m(192)\u001b[0;36mselect_max_hvi\u001b[0;34m()\u001b[0m\n",
      "\u001b[0;32m    191 \u001b[0;31m            \u001b[0;32mimport\u001b[0m \u001b[0mipdb\u001b[0m\u001b[0;34m;\u001b[0m \u001b[0mipdb\u001b[0m\u001b[0;34m.\u001b[0m\u001b[0mset_trace\u001b[0m\u001b[0;34m(\u001b[0m\u001b[0;34m)\u001b[0m\u001b[0;34m\u001b[0m\u001b[0;34m\u001b[0m\u001b[0m\n",
      "\u001b[0m\u001b[0;32m--> 192 \u001b[0;31m            \u001b[0mhvY\u001b[0m \u001b[0;34m=\u001b[0m \u001b[0mHvI\u001b[0m\u001b[0;34m.\u001b[0m\u001b[0mhypervolume\u001b[0m\u001b[0;34m(\u001b[0m\u001b[0mYfront\u001b[0m\u001b[0;34m,\u001b[0m \u001b[0;34m[\u001b[0m\u001b[0;36m0\u001b[0m\u001b[0;34m,\u001b[0m \u001b[0;36m0\u001b[0m\u001b[0;34m]\u001b[0m\u001b[0;34m)\u001b[0m\u001b[0;34m\u001b[0m\u001b[0;34m\u001b[0m\u001b[0m\n",
      "\u001b[0m\u001b[0;32m    193 \u001b[0;31m            \u001b[0;31m#Determine hypervolume improvement by including\u001b[0m\u001b[0;34m\u001b[0m\u001b[0;34m\u001b[0m\u001b[0;34m\u001b[0m\u001b[0m\n",
      "\u001b[0m\n"
     ]
    },
    {
     "name": "stdin",
     "output_type": "stream",
     "text": [
      "ipdb>  Yfront\n"
     ]
    },
    {
     "name": "stdout",
     "output_type": "stream",
     "text": [
      "array([[-0.0026]])\n"
     ]
    },
    {
     "name": "stdin",
     "output_type": "stream",
     "text": [
      "ipdb>  q\n"
     ]
    },
    {
     "name": "stdout",
     "output_type": "stream",
     "text": [
      "--KeyboardInterrupt--\n"
     ]
    },
    {
     "name": "stdin",
     "output_type": "stream",
     "text": [
      "ipdb>  exit\n"
     ]
    }
   ],
   "source": [
    "tsemo.generate_experiments(data, 3)"
   ]
  },
  {
   "cell_type": "markdown",
   "metadata": {},
   "source": [
    "## 4. Validate Model"
   ]
  },
  {
   "cell_type": "markdown",
   "metadata": {},
   "source": [
    "We'll make a cross validation plot next. Click on the button to generate one."
   ]
  },
  {
   "cell_type": "code",
   "execution_count": 9,
   "metadata": {},
   "outputs": [
    {
     "data": {
      "application/vnd.jupyter.widget-view+json": {
       "model_id": "ebc0ad9f1dbb468c85f0a09e29c8312a",
       "version_major": 2,
       "version_minor": 0
      },
      "text/plain": [
       "Button(description='Make CV Plot', icon='play', style=ButtonStyle(), tooltip='CV Plot')"
      ]
     },
     "metadata": {},
     "output_type": "display_data"
    },
    {
     "data": {
      "application/vnd.jupyter.widget-view+json": {
       "model_id": "9c60535991ac430bb0fbad07fad73652",
       "version_major": 2,
       "version_minor": 0
      },
      "text/plain": [
       "Output()"
      ]
     },
     "metadata": {},
     "output_type": "display_data"
    }
   ],
   "source": [
    "button_plot_cv = widgets.Button(\n",
    "    description='Make CV Plot',\n",
    "    tooltip='CV Plot',\n",
    "    icon='play')\n",
    "output_plot_cv = widgets.Output()\n",
    "display(button_plot_cv, output_plot_cv)\n",
    "def plot_cv(b):\n",
    "    gp = GPyModel(input_dim=input_dim)\n",
    "    X = data[input_columns].to_numpy(dtype=np.float64)\n",
    "    Y = data[output_columns].to_numpy(dtype=np.float64)\n",
    "\n",
    "    #Mask out weird data\n",
    "    mask = np.ones(X.shape[0],dtype=bool)\n",
    "    indices = np.where(Y[:, 0]>1.0)[0]\n",
    "    mask[indices] = 0\n",
    "    # Y = Y[mask, :]\n",
    "    X = X[mask, :]\n",
    "\n",
    "    \n",
    "    with output_plot_cv:\n",
    "        print('Making plots...')\n",
    "        \n",
    "    fig, axes = plt.subplots(1, 2, figsize=(15, 5))\n",
    "    for i, name in enumerate(['viscosity', 'turbidity']):\n",
    "        kf = KFold(n_splits=3)\n",
    "        scores = np.zeros(5)\n",
    "\n",
    "        Y = data[name].to_numpy(dtype=np.float64)\n",
    "        Y = Y[mask]\n",
    "        for train, test in kf.split(X):\n",
    "            gp.fit(X[train], np.atleast_2d(Y[train]).T)\n",
    "            y_predict = gp.predict(X[test])\n",
    "            axes[i].scatter(Y[test], y_predict, c='k')\n",
    "        min_y = Y.min()\n",
    "        max_y = Y.max()\n",
    "        axes[i].plot([min_y, max_y], [min_y, max_y], 'k--', lw=4)\n",
    "        axes[i].set_xlabel('Measured')\n",
    "        axes[i].set_ylabel('Predicted')\n",
    "        axes[i].set_title(f'{name} Cross Validation'.title())\n",
    "    output_plot_cv.clear_output(wait=True)\n",
    "    with output_plot_cv:\n",
    "        plt.show()\n",
    "button_plot_cv.on_click(plot_cv)"
   ]
  },
  {
   "cell_type": "code",
   "execution_count": null,
   "metadata": {},
   "outputs": [],
   "source": []
  }
 ],
 "metadata": {
  "kernelspec": {
   "display_name": "Python 3",
   "language": "python",
   "name": "python3"
  },
  "language_info": {
   "codemirror_mode": {
    "name": "ipython",
    "version": 3
   },
   "file_extension": ".py",
   "mimetype": "text/x-python",
   "name": "python",
   "nbconvert_exporter": "python",
   "pygments_lexer": "ipython3",
   "version": "3.6.8"
  }
 },
 "nbformat": 4,
 "nbformat_minor": 4
}
